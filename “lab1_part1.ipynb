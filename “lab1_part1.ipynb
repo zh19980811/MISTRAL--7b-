{
  "cells": [
    {
      "cell_type": "code",
      "execution_count": 2,
      "id": "d7346a3f-f59b-4eff-8c90-b74dfa802144",
      "metadata": {
        "id": "d7346a3f-f59b-4eff-8c90-b74dfa802144",
        "colab": {
          "base_uri": "https://localhost:8080/"
        },
        "outputId": "492c69f8-316e-4b3a-ea01-568defb0f842"
      },
      "outputs": [
        {
          "output_type": "stream",
          "name": "stdout",
          "text": [
            "\u001b[?25l     \u001b[90m━━━━━━━━━━━━━━━━━━━━━━━━━━━━━━━━━━━━━━━━\u001b[0m \u001b[32m0.0/261.0 kB\u001b[0m \u001b[31m?\u001b[0m eta \u001b[36m-:--:--\u001b[0m\r\u001b[2K     \u001b[91m━━━━━━\u001b[0m\u001b[90m╺\u001b[0m\u001b[90m━━━━━━━━━━━━━━━━━━━━━━━━━━━━━━━━━\u001b[0m \u001b[32m41.0/261.0 kB\u001b[0m \u001b[31m1.1 MB/s\u001b[0m eta \u001b[36m0:00:01\u001b[0m\r\u001b[2K     \u001b[91m━━━━━━━━━━━━━━━━━━\u001b[0m\u001b[91m╸\u001b[0m\u001b[90m━━━━━━━━━━━━━━━━━━━━━\u001b[0m \u001b[32m122.9/261.0 kB\u001b[0m \u001b[31m1.8 MB/s\u001b[0m eta \u001b[36m0:00:01\u001b[0m\r\u001b[2K     \u001b[91m━━━━━━━━━━━━━━━━━━━━━━━━━━━━━━━━━━━━━━━\u001b[0m\u001b[90m╺\u001b[0m \u001b[32m256.0/261.0 kB\u001b[0m \u001b[31m2.7 MB/s\u001b[0m eta \u001b[36m0:00:01\u001b[0m\r\u001b[2K     \u001b[90m━━━━━━━━━━━━━━━━━━━━━━━━━━━━━━━━━━━━━━━━\u001b[0m \u001b[32m261.0/261.0 kB\u001b[0m \u001b[31m2.5 MB/s\u001b[0m eta \u001b[36m0:00:00\u001b[0m\n",
            "\u001b[?25h\u001b[?25l     \u001b[90m━━━━━━━━━━━━━━━━━━━━━━━━━━━━━━━━━━━━━━━━\u001b[0m \u001b[32m0.0/301.0 kB\u001b[0m \u001b[31m?\u001b[0m eta \u001b[36m-:--:--\u001b[0m\r\u001b[2K     \u001b[90m━━━━━━━━━━━━━━━━━━━━━━━━━━━━━━━━━━━━━━━━\u001b[0m \u001b[32m301.0/301.0 kB\u001b[0m \u001b[31m13.9 MB/s\u001b[0m eta \u001b[36m0:00:00\u001b[0m\n",
            "\u001b[?25h  Installing build dependencies ... \u001b[?25l\u001b[?25hdone\n",
            "  Getting requirements to build wheel ... \u001b[?25l\u001b[?25hdone\n",
            "  Preparing metadata (pyproject.toml) ... \u001b[?25l\u001b[?25hdone\n",
            "\u001b[2K     \u001b[90m━━━━━━━━━━━━━━━━━━━━━━━━━━━━━━━━━━━━━━━━\u001b[0m \u001b[32m85.6/85.6 kB\u001b[0m \u001b[31m13.0 MB/s\u001b[0m eta \u001b[36m0:00:00\u001b[0m\n",
            "\u001b[2K     \u001b[90m━━━━━━━━━━━━━━━━━━━━━━━━━━━━━━━━━━━━━━━━\u001b[0m \u001b[32m92.6/92.6 MB\u001b[0m \u001b[31m17.1 MB/s\u001b[0m eta \u001b[36m0:00:00\u001b[0m\n",
            "\u001b[2K     \u001b[90m━━━━━━━━━━━━━━━━━━━━━━━━━━━━━━━━━━━━━━━━\u001b[0m \u001b[32m520.4/520.4 kB\u001b[0m \u001b[31m51.1 MB/s\u001b[0m eta \u001b[36m0:00:00\u001b[0m\n",
            "\u001b[2K     \u001b[90m━━━━━━━━━━━━━━━━━━━━━━━━━━━━━━━━━━━━━━━━\u001b[0m \u001b[32m46.0/46.0 kB\u001b[0m \u001b[31m6.2 MB/s\u001b[0m eta \u001b[36m0:00:00\u001b[0m\n",
            "\u001b[2K     \u001b[90m━━━━━━━━━━━━━━━━━━━━━━━━━━━━━━━━━━━━━━━━\u001b[0m \u001b[32m115.3/115.3 kB\u001b[0m \u001b[31m17.0 MB/s\u001b[0m eta \u001b[36m0:00:00\u001b[0m\n",
            "\u001b[2K     \u001b[90m━━━━━━━━━━━━━━━━━━━━━━━━━━━━━━━━━━━━━━━━\u001b[0m \u001b[32m134.8/134.8 kB\u001b[0m \u001b[31m16.8 MB/s\u001b[0m eta \u001b[36m0:00:00\u001b[0m\n",
            "\u001b[2K     \u001b[90m━━━━━━━━━━━━━━━━━━━━━━━━━━━━━━━━━━━━━━━━\u001b[0m \u001b[32m86.8/86.8 kB\u001b[0m \u001b[31m12.4 MB/s\u001b[0m eta \u001b[36m0:00:00\u001b[0m\n",
            "\u001b[2K     \u001b[90m━━━━━━━━━━━━━━━━━━━━━━━━━━━━━━━━━━━━━━━━\u001b[0m \u001b[32m134.8/134.8 kB\u001b[0m \u001b[31m17.8 MB/s\u001b[0m eta \u001b[36m0:00:00\u001b[0m\n",
            "\u001b[?25h  Building wheel for optimum (pyproject.toml) ... \u001b[?25l\u001b[?25hdone\n"
          ]
        }
      ],
      "source": [
        "%pip install --quiet transformers==4.37.2 accelerate==0.24.0 sentencepiece==0.1.99 optimum==1.13.2 peft==0.5.0 bitsandbytes==0.41.2.post2 datasets==2.14.7"
      ]
    },
    {
      "cell_type": "code",
      "execution_count": 3,
      "id": "41c66d4c-72a0-41d3-83a2-61972eed62de",
      "metadata": {
        "id": "41c66d4c-72a0-41d3-83a2-61972eed62de"
      },
      "outputs": [],
      "source": [
        "from transformers import AutoModelForCausalLM, AutoTokenizer\n",
        "from tqdm.auto import tqdm, trange\n",
        "import torch\n",
        "import torch.nn as nn\n",
        "import torch.nn.functional as F\n",
        "import peft\n",
        "import transformers\n",
        "from datasets import load_dataset\n",
        "import random\n",
        "const_seed = 100"
      ]
    },
    {
      "cell_type": "code",
      "execution_count": 4,
      "id": "9ee51942-6592-4793-a6af-424a4ad5fdee",
      "metadata": {
        "id": "9ee51942-6592-4793-a6af-424a4ad5fdee"
      },
      "outputs": [],
      "source": [
        "device = torch.device('cuda' if torch.cuda.is_available() else 'cpu')"
      ]
    },
    {
      "cell_type": "markdown",
      "id": "9a22fd65-4da8-4e1c-afb3-ac217655e38b",
      "metadata": {
        "id": "9a22fd65-4da8-4e1c-afb3-ac217655e38b"
      },
      "source": [
        "# Part 0: Initializing the model and tokenizer"
      ]
    },
    {
      "cell_type": "code",
      "source": [
        "!pip install flash-attn --no-build-isolation"
      ],
      "metadata": {
        "id": "UhDXGMqSVlK5",
        "colab": {
          "base_uri": "https://localhost:8080/"
        },
        "outputId": "0d87b0da-9b41-4f74-c1f0-35a785ea3ed9"
      },
      "id": "UhDXGMqSVlK5",
      "execution_count": 5,
      "outputs": [
        {
          "output_type": "stream",
          "name": "stdout",
          "text": [
            "Collecting flash-attn\n",
            "  Downloading flash_attn-2.5.5.tar.gz (2.5 MB)\n",
            "\u001b[2K     \u001b[90m━━━━━━━━━━━━━━━━━━━━━━━━━━━━━━━━━━━━━━━━\u001b[0m \u001b[32m2.5/2.5 MB\u001b[0m \u001b[31m10.1 MB/s\u001b[0m eta \u001b[36m0:00:00\u001b[0m\n",
            "\u001b[?25h  Preparing metadata (setup.py) ... \u001b[?25l\u001b[?25hdone\n",
            "Requirement already satisfied: torch in /usr/local/lib/python3.10/dist-packages (from flash-attn) (2.1.0+cu121)\n",
            "Collecting einops (from flash-attn)\n",
            "  Downloading einops-0.7.0-py3-none-any.whl (44 kB)\n",
            "\u001b[2K     \u001b[90m━━━━━━━━━━━━━━━━━━━━━━━━━━━━━━━━━━━━━━━━\u001b[0m \u001b[32m44.6/44.6 kB\u001b[0m \u001b[31m5.9 MB/s\u001b[0m eta \u001b[36m0:00:00\u001b[0m\n",
            "\u001b[?25hRequirement already satisfied: packaging in /usr/local/lib/python3.10/dist-packages (from flash-attn) (23.2)\n",
            "Collecting ninja (from flash-attn)\n",
            "  Downloading ninja-1.11.1.1-py2.py3-none-manylinux1_x86_64.manylinux_2_5_x86_64.whl (307 kB)\n",
            "\u001b[2K     \u001b[90m━━━━━━━━━━━━━━━━━━━━━━━━━━━━━━━━━━━━━━━━\u001b[0m \u001b[32m307.2/307.2 kB\u001b[0m \u001b[31m35.4 MB/s\u001b[0m eta \u001b[36m0:00:00\u001b[0m\n",
            "\u001b[?25hRequirement already satisfied: filelock in /usr/local/lib/python3.10/dist-packages (from torch->flash-attn) (3.13.1)\n",
            "Requirement already satisfied: typing-extensions in /usr/local/lib/python3.10/dist-packages (from torch->flash-attn) (4.9.0)\n",
            "Requirement already satisfied: sympy in /usr/local/lib/python3.10/dist-packages (from torch->flash-attn) (1.12)\n",
            "Requirement already satisfied: networkx in /usr/local/lib/python3.10/dist-packages (from torch->flash-attn) (3.2.1)\n",
            "Requirement already satisfied: jinja2 in /usr/local/lib/python3.10/dist-packages (from torch->flash-attn) (3.1.3)\n",
            "Requirement already satisfied: fsspec in /usr/local/lib/python3.10/dist-packages (from torch->flash-attn) (2023.6.0)\n",
            "Requirement already satisfied: triton==2.1.0 in /usr/local/lib/python3.10/dist-packages (from torch->flash-attn) (2.1.0)\n",
            "Requirement already satisfied: MarkupSafe>=2.0 in /usr/local/lib/python3.10/dist-packages (from jinja2->torch->flash-attn) (2.1.5)\n",
            "Requirement already satisfied: mpmath>=0.19 in /usr/local/lib/python3.10/dist-packages (from sympy->torch->flash-attn) (1.3.0)\n",
            "Building wheels for collected packages: flash-attn\n",
            "  Building wheel for flash-attn (setup.py) ... \u001b[?25l\u001b[?25hdone\n",
            "  Created wheel for flash-attn: filename=flash_attn-2.5.5-cp310-cp310-linux_x86_64.whl size=120352304 sha256=e70f2f0d4fae98c9ff9742404f3e067bbae56bd3212578ff81c30f73c5ae1a15\n",
            "  Stored in directory: /root/.cache/pip/wheels/b2/67/52/8b6d5fcffdd9e1ec868f554cdef8f03eedb4bf4dcac852fca2\n",
            "Successfully built flash-attn\n",
            "Installing collected packages: ninja, einops, flash-attn\n",
            "Successfully installed einops-0.7.0 flash-attn-2.5.5 ninja-1.11.1.1\n"
          ]
        }
      ]
    },
    {
      "cell_type": "markdown",
      "id": "696bc9f8-24e8-4285-b006-8854163159eb",
      "metadata": {
        "id": "696bc9f8-24e8-4285-b006-8854163159eb"
      },
      "source": [
        "let's take mistral model for our experiments (https://huggingface.co/mistralai/Mistral-7B-Instruct-v0.2) that was tuned to follow user instructions. Pay attention that we load model in 4 bit to decrease the memory usage."
      ]
    },
    {
      "cell_type": "markdown",
      "id": "3864e526-46c3-453f-83cf-b0a1224e49e1",
      "metadata": {
        "id": "3864e526-46c3-453f-83cf-b0a1224e49e1"
      },
      "source": [
        "model_name = 'mistralai/Mistral-7B-Instruct-v0.2'"
      ]
    },
    {
      "cell_type": "code",
      "execution_count": 6,
      "id": "b8e011ad-f5ca-4b84-8d2a-828a50d55d65",
      "metadata": {
        "id": "b8e011ad-f5ca-4b84-8d2a-828a50d55d65",
        "colab": {
          "base_uri": "https://localhost:8080/",
          "height": 609,
          "referenced_widgets": [
            "9321e5870002490fb95c59d0cb8ec610",
            "2781c010dbe64237b40e0a7eaf5e542e",
            "c5d82a3fa3e142edade6200e178460be",
            "5986f46aa4d84e95bcf024c4ff3f4003",
            "f2775cb93c1c48329ed3574c00ecae4d",
            "c009623db77b4a278e5ed13742d0cc70",
            "45e6536000144ec8b2fec741b5280b0c",
            "09f0991767c94fbda8b68cb599430805",
            "65b865b7e26547ec9a83cb6b41a83bc1",
            "49aab354bbf44d8997b8cf2a22ebad85",
            "45261fac33e44a7292d79859dc11324b",
            "dc6fa3891b02486caf8ea33953d01220",
            "81908b640a1042efaffb83c1737fad01",
            "21ac6983a6844d89823a686031d4aa8b",
            "9a82c35c82a74cdbb335afee18240411",
            "b79eeccf1c3e4984ab19bb6fd84f61e9",
            "dbf90aced0be4307a5d857dcfc9ffbfd",
            "d23ebf21987b4a699fe30b7b976edd54",
            "1ae1e8cc92884046ae0415be36d18c86",
            "b9b4936f9cb34d81a35116cec4b4788b",
            "92db6428591d4f2aaf7ae9254f065640",
            "f27d28cc20124b0c8ff2c8b7b6cbea65",
            "b3e993f5ae98462d8bca8787a0f29ba7",
            "7c000afd922847aab02f432df40453c4",
            "977dfc8d2314410ebde0588fb90f52f5",
            "8c3567889426474186c5df77c9f7b8da",
            "9510ed5f5b6247d7b293ed6418e8bb33",
            "f0dfb199409543088f9a7ddc50d7315a",
            "b2f6ad06bd4547f7a0fb774b5ba6f710",
            "166fdcf390914bb3aca28931ee497159",
            "1ad2c7b62abc49dbbf882c18b5b84702",
            "c4ab7af92d5c4daea063385b07d690d2",
            "2873a155fa694964bacd1b00a569a266",
            "41c909e951bb4dfabd7cea9f6efb2242",
            "c8f440832a964bd98fef3ecee27c408b",
            "d4ac02f732174d1e905b9d4c424c7701",
            "d6a29312a49b400fa8a8a760b8e82443",
            "bc51151192974105b0db8a459a75074e",
            "b0d0585e8a89401988878101e5daf3ef",
            "05dff45bf2d4424aa8056079fb7a36af",
            "d630b55e2b1f4eac97347fc7c9dd2463",
            "d2ffca9d19484a0bbd7dde0965733688",
            "f4ce90e6699d4193bbcbeb3a9d9e1ff8",
            "179babcbd20643549e70fd6acb6e23ae",
            "f7ef1e26fa814102be3702ff22669dd7",
            "fcf89aec27cc40878b8463411c825795",
            "31e4a871dc894541adcbf139a51f9e9f",
            "0899ef6ff95f475f9742a8963a1b6c7b",
            "ee18c39b2b38448aa746b1c3a7da72e3",
            "7a9466fe82a14e34a42e6f9d38efe0d9",
            "ee6f478ef90a42e4b4b4c219c4502f4c",
            "f7871ac7c75b4ed2be74ccb4a4cd16b5",
            "7d40acf085e243ae8352058c92a93eaa",
            "fdcd69d631eb4ef58442592b97b0571f",
            "60cea75a64d441d485e0339a376f4582",
            "8a4df0379b1946c29f8ac3ba2de3e658",
            "93443992fc034f2a8a8417e63c105bdf",
            "bf117f86cd4e45f9b07ac8169390f57b",
            "12a04067dc3d4e8dbf674d90fba0378d",
            "4df4f214f5b54248a0b3c4187b3d0d5c",
            "a147139bd7be496db632d3625dae4c9f",
            "d8d09c7bba6042618278ec9ba6fcaf64",
            "a73ab056dad04f7a8243012058ce8455",
            "52dc6b59442544a285c221cc8bf2cdec",
            "af22beb3a4544275ab80195f59be7dcc",
            "328bbd4d083943dcbb020118b6c07540",
            "c154208f94ce40219c48f3d1415a701f",
            "e757b632dcc1456993ff433ce415b413",
            "157483a0c00340819847272fa094ca33",
            "a93b6b4fb8da4a6dbc9800cf97733afa",
            "a4b37ad3fd6b490886cac0e684e158aa",
            "6f3833b357c94c58aac4fdd61830968e",
            "973992f145bf4f5496ff6d953bf4676f",
            "c7843c9d57414796ad227c624b013051",
            "b9f3763890014d97a287b388158e94d6",
            "800e3b1f6100478fa7521b58c91c3fab",
            "665b1e8fb7f049499daa055b7f91a6f1",
            "0725bf0e1eba49d0a1e3e67e1625dbd4",
            "94f94207177e4b29bbdf57a62ab26743",
            "43798120157d44b882f34a41932b2f16",
            "f915397c45d846e589213036f19b4e37",
            "97548948bc944d7fa64c2bba1394c6f0",
            "ec8e4d279e14427f927d4b249d9a9345",
            "93268bfd26d541dcaab247e5c0a948ed",
            "24e67caf872141fb838d5b1c5e540475",
            "06e6d0b20d8344d8bc9a967526771f8f",
            "a24bbec16e6240c3889e4bac283c4ed3",
            "d2b0895c890d4c98a55241d7d754d6a1",
            "32dce11c847a4a8186bb01e563f163be",
            "56fa2b844a0344b4b6233e674379a3a6",
            "8c56139db138465caa5ea2cdb9b996fe",
            "699dfe87355844b0b6d280a2de6be6fc",
            "40a580a2cde04c91b5911747165a452f",
            "737d87726cbf4136a77f05ff5c814faa",
            "e2ff60f3d3d240d886e55b89c6df738d",
            "548d6fa82a674326a85d0c43732dfce0",
            "8a98a5b9782e4096aeac15278de124e6",
            "9fa836d95b0b4d6994a954b7f213b67a",
            "8b6b625a5895440f81fa98b02ae1f6ca",
            "cdfab38b406c4134ac971c37426e1605",
            "15e2e639a63247a3b81c479a5b4afc2d",
            "bb26f5f66cbc489bad600530c1b53e5e",
            "9a8a3df924814f82b4a415616ea8d208",
            "15e79d9b918c47969aa5144f11d60fa7",
            "c4a3bb24625b4779b276c3bf55702848",
            "fd446f63af08420e8d213a1da5414d11",
            "21d9b3bdb638409e8e6facbaed01c127",
            "c0479ef08194404cb1a3fb94747f2de1",
            "8147bcd03f934534acc8a02c6a3f2086",
            "8dcfbdccc874429a85a34f9c9b7bc445",
            "4cc7edcf26884c44b2ad1fa26ae3bfe6",
            "c4b066a830ed440d993ee77cf74c297e",
            "b3684108b95f47fbb0211720debe389b",
            "ebd38079eed149daa796b95e33cc3e9c",
            "9a374f36a8c94adcbba97f5ac7cb0004",
            "90f0e825d125480a80cb0d853afa5e13",
            "c7ebf3c018724c35a4ae43b5f6642a48",
            "cf83981f6b064ea9a2a9fdc996da2e5e",
            "be42b2c1775740ce8c6565bfe89564de",
            "82d1140742284ce5a1953cb623e838a4",
            "c3942b023e584b4f87d6a29f8982684f",
            "6ca2b39a01534587b5bfcc1d2e99aa20",
            "2aae679838ae49b5a82322133fbc0afa",
            "34993c56271443afa2290969cd4fa1f9",
            "c564ea241f454a669763c2bc46f09403",
            "32166053eedf4aceaaee43185818116a",
            "d6cfad47ef5943a69dcfde48dfd0ecc4",
            "02adcd76d5764c659e3d8acfed4bea67",
            "149a4bf7742a4f419da3abb507868b1b",
            "cb5f1ecbb968406ab6f39f3e385a2789",
            "c8f8973965d14da28a875dde600ecf28",
            "7bcc58e4f317418f8531cbb784f3dffc"
          ]
        },
        "outputId": "6876a2e4-2596-487c-e4f0-a9d27dc93301"
      },
      "outputs": [
        {
          "output_type": "stream",
          "name": "stderr",
          "text": [
            "/usr/local/lib/python3.10/dist-packages/huggingface_hub/utils/_token.py:88: UserWarning: \n",
            "The secret `HF_TOKEN` does not exist in your Colab secrets.\n",
            "To authenticate with the Hugging Face Hub, create a token in your settings tab (https://huggingface.co/settings/tokens), set it as secret in your Google Colab and restart your session.\n",
            "You will be able to reuse this secret in all of your notebooks.\n",
            "Please note that authentication is recommended but still optional to access public models or datasets.\n",
            "  warnings.warn(\n"
          ]
        },
        {
          "output_type": "display_data",
          "data": {
            "text/plain": [
              "tokenizer_config.json:   0%|          | 0.00/1.46k [00:00<?, ?B/s]"
            ],
            "application/vnd.jupyter.widget-view+json": {
              "version_major": 2,
              "version_minor": 0,
              "model_id": "9321e5870002490fb95c59d0cb8ec610"
            }
          },
          "metadata": {}
        },
        {
          "output_type": "display_data",
          "data": {
            "text/plain": [
              "tokenizer.model:   0%|          | 0.00/493k [00:00<?, ?B/s]"
            ],
            "application/vnd.jupyter.widget-view+json": {
              "version_major": 2,
              "version_minor": 0,
              "model_id": "dc6fa3891b02486caf8ea33953d01220"
            }
          },
          "metadata": {}
        },
        {
          "output_type": "display_data",
          "data": {
            "text/plain": [
              "tokenizer.json:   0%|          | 0.00/1.80M [00:00<?, ?B/s]"
            ],
            "application/vnd.jupyter.widget-view+json": {
              "version_major": 2,
              "version_minor": 0,
              "model_id": "b3e993f5ae98462d8bca8787a0f29ba7"
            }
          },
          "metadata": {}
        },
        {
          "output_type": "display_data",
          "data": {
            "text/plain": [
              "special_tokens_map.json:   0%|          | 0.00/72.0 [00:00<?, ?B/s]"
            ],
            "application/vnd.jupyter.widget-view+json": {
              "version_major": 2,
              "version_minor": 0,
              "model_id": "41c909e951bb4dfabd7cea9f6efb2242"
            }
          },
          "metadata": {}
        },
        {
          "output_type": "display_data",
          "data": {
            "text/plain": [
              "config.json:   0%|          | 0.00/596 [00:00<?, ?B/s]"
            ],
            "application/vnd.jupyter.widget-view+json": {
              "version_major": 2,
              "version_minor": 0,
              "model_id": "f7ef1e26fa814102be3702ff22669dd7"
            }
          },
          "metadata": {}
        },
        {
          "output_type": "display_data",
          "data": {
            "text/plain": [
              "model.safetensors.index.json:   0%|          | 0.00/25.1k [00:00<?, ?B/s]"
            ],
            "application/vnd.jupyter.widget-view+json": {
              "version_major": 2,
              "version_minor": 0,
              "model_id": "8a4df0379b1946c29f8ac3ba2de3e658"
            }
          },
          "metadata": {}
        },
        {
          "output_type": "display_data",
          "data": {
            "text/plain": [
              "Downloading shards:   0%|          | 0/3 [00:00<?, ?it/s]"
            ],
            "application/vnd.jupyter.widget-view+json": {
              "version_major": 2,
              "version_minor": 0,
              "model_id": "c154208f94ce40219c48f3d1415a701f"
            }
          },
          "metadata": {}
        },
        {
          "output_type": "display_data",
          "data": {
            "text/plain": [
              "model-00001-of-00003.safetensors:   0%|          | 0.00/4.94G [00:00<?, ?B/s]"
            ],
            "application/vnd.jupyter.widget-view+json": {
              "version_major": 2,
              "version_minor": 0,
              "model_id": "0725bf0e1eba49d0a1e3e67e1625dbd4"
            }
          },
          "metadata": {}
        },
        {
          "output_type": "display_data",
          "data": {
            "text/plain": [
              "model-00002-of-00003.safetensors:   0%|          | 0.00/5.00G [00:00<?, ?B/s]"
            ],
            "application/vnd.jupyter.widget-view+json": {
              "version_major": 2,
              "version_minor": 0,
              "model_id": "32dce11c847a4a8186bb01e563f163be"
            }
          },
          "metadata": {}
        },
        {
          "output_type": "display_data",
          "data": {
            "text/plain": [
              "model-00003-of-00003.safetensors:   0%|          | 0.00/4.54G [00:00<?, ?B/s]"
            ],
            "application/vnd.jupyter.widget-view+json": {
              "version_major": 2,
              "version_minor": 0,
              "model_id": "cdfab38b406c4134ac971c37426e1605"
            }
          },
          "metadata": {}
        },
        {
          "output_type": "display_data",
          "data": {
            "text/plain": [
              "Loading checkpoint shards:   0%|          | 0/3 [00:00<?, ?it/s]"
            ],
            "application/vnd.jupyter.widget-view+json": {
              "version_major": 2,
              "version_minor": 0,
              "model_id": "4cc7edcf26884c44b2ad1fa26ae3bfe6"
            }
          },
          "metadata": {}
        },
        {
          "output_type": "display_data",
          "data": {
            "text/plain": [
              "generation_config.json:   0%|          | 0.00/111 [00:00<?, ?B/s]"
            ],
            "application/vnd.jupyter.widget-view+json": {
              "version_major": 2,
              "version_minor": 0,
              "model_id": "6ca2b39a01534587b5bfcc1d2e99aa20"
            }
          },
          "metadata": {}
        }
      ],
      "source": [
        "tokenizer = AutoTokenizer.from_pretrained(\"mistralai/Mistral-7B-Instruct-v0.2\")\n",
        "tokenizer.pad_token_id = tokenizer.eos_token_id\n",
        "\n",
        "\n",
        "model = AutoModelForCausalLM.from_pretrained(\n",
        "    \"mistralai/Mistral-7B-Instruct-v0.2\", device_map='auto', low_cpu_mem_usage=True, offload_state_dict=True,\n",
        "    load_in_4bit=True, torch_dtype=torch.float16,\n",
        ")"
      ]
    },
    {
      "cell_type": "code",
      "source": [
        "for param in model.parameters():\n",
        "    param.requires_grad=False\n",
        "\n",
        "model.gradient_checkpointing_enable()\n",
        "model.enable_input_require_grads()\n",
        "# more on gradient checkpointing: https://pytorch.org/docs/stable/checkpoint.html https://arxiv.org/abs/1604.06174"
      ],
      "metadata": {
        "id": "DRvTFba9WIqp"
      },
      "id": "DRvTFba9WIqp",
      "execution_count": 7,
      "outputs": []
    },
    {
      "cell_type": "markdown",
      "id": "7626dfe0-d5bb-401c-a64f-280360b231d8",
      "metadata": {
        "id": "7626dfe0-d5bb-401c-a64f-280360b231d8"
      },
      "source": [
        "# Part 1 (5 points): Prompt-engineering"
      ]
    },
    {
      "cell_type": "markdown",
      "id": "d4b97541-6f9d-4b97-8c60-746fd7384cb1",
      "metadata": {
        "id": "d4b97541-6f9d-4b97-8c60-746fd7384cb1"
      },
      "source": [
        "**There are different strategies for text generation in huggingface:**\n",
        "\n",
        "| Strategy | Description | Pros & Cons |\n",
        "| --- | --- | --- |\n",
        "| Greedy Search | Chooses the word with the highest probability as the next word in the sequence. | **Pros:** Simple and fast. <br> **Cons:** Can lead to repetitive and incoherent text. |\n",
        "| Sampling with Temperature | Introduces randomness in the word selection. A higher temperature leads to more randomness. | **Pros:** Allows exploration and diverse output. <br> **Cons:** Higher temperatures can lead to nonsensical outputs. |\n",
        "| Nucleus Sampling (Top-p Sampling) | Selects the next word from a truncated vocabulary, the \"nucleus\" of words that have a cumulative probability exceeding a pre-specified threshold (p). | **Pros:** Balances diversity and quality. <br> **Cons:** Setting an optimal 'p' can be tricky. |\n",
        "| Beam Search | Explores multiple hypotheses (sequences of words) at each step, and keeps the 'k' most likely, where 'k' is the beam width. | **Pros:** Produces more reliable results than greedy search. <br> **Cons:** Can lack diversity and lead to generic responses. |\n",
        "| Top-k Sampling | Randomly selects the next word from the top 'k' words with the highest probabilities. | **Pros:** Introduces randomness, increasing output diversity. <br> **Cons:** Random selection can sometimes lead to less coherent outputs. |\n",
        "| Length Normalization | Prevents the model from favoring shorter sequences by dividing the log probabilities by the sequence length raised to some power. | **Pros:** Makes longer and potentially more informative sequences more likely. <br> **Cons:** Tuning the normalization factor can be difficult. |\n",
        "| Stochastic Beam Search | Introduces randomness into the selection process of the 'k' hypotheses in beam search. | **Pros:** Increases diversity in the generated text. <br> **Cons:** The trade-off between diversity and quality can be tricky to manage. |\n",
        "| Decoding with Minimum Bayes Risk (MBR) | Chooses the hypothesis (out of many) that minimizes expected loss under a loss function. | **Pros:** Optimizes the output according to a specific loss function. <br> **Cons:** Computationally more complex and requires a good loss function. |\n",
        "\n",
        "Documentation references:\n",
        "- [reference for `AutoModelForCausalLM.generate()`](https://huggingface.co/docs/transformers/v4.29.1/en/main_classes/text_generation#transformers.GenerationMixin.generate)\n",
        "- [reference for `AutoTokenizer.decode()`](https://huggingface.co/docs/transformers/main_classes/tokenizer#transformers.PreTrainedTokenizer.decode)\n",
        "- Huggingface [docs on generation strategies](https://huggingface.co/docs/transformers/generation_strategies)"
      ]
    },
    {
      "cell_type": "code",
      "execution_count": 8,
      "id": "3158ac83-2927-4e25-a478-7a6f8931b4b6",
      "metadata": {
        "id": "3158ac83-2927-4e25-a478-7a6f8931b4b6"
      },
      "outputs": [],
      "source": [
        "def get_answer(tokenizer, model,messages, max_new_tokens=200,temperature=0.5, do_sample=True):\n",
        "    encodeds = tokenizer.apply_chat_template(messages, return_tensors=\"pt\")\n",
        "    model_inputs = encodeds.to(device)\n",
        "    generated_ids = model.generate(model_inputs,max_new_tokens=max_new_tokens,temperature=temperature,do_sample=do_sample)\n",
        "    decoded = tokenizer.batch_decode(generated_ids,skip_special_tokens=True)\n",
        "    return decoded"
      ]
    },
    {
      "cell_type": "code",
      "execution_count": 9,
      "id": "52d87944-135e-4696-89a3-62133da6d466",
      "metadata": {
        "id": "52d87944-135e-4696-89a3-62133da6d466",
        "colab": {
          "base_uri": "https://localhost:8080/"
        },
        "outputId": "5e6a4ed4-87e0-45b3-b717-4542f321e557"
      },
      "outputs": [
        {
          "output_type": "stream",
          "name": "stderr",
          "text": [
            "The attention mask and the pad token id were not set. As a consequence, you may observe unexpected behavior. Please pass your input's `attention_mask` to obtain reliable results.\n",
            "Setting `pad_token_id` to `eos_token_id`:2 for open-end generation.\n",
            "/usr/local/lib/python3.10/dist-packages/bitsandbytes/nn/modules.py:226: UserWarning: Input type into Linear4bit is torch.float16, but bnb_4bit_compute_type=torch.float32 (default). This will lead to slow inference or training speed.\n",
            "  warnings.warn(f'Input type into Linear4bit is torch.float16, but bnb_4bit_compute_type=torch.float32 (default). This will lead to slow inference or training speed.')\n"
          ]
        },
        {
          "output_type": "stream",
          "name": "stdout",
          "text": [
            "[INST] Write an explanation of tensors for 5 year old [/INST] Tensors are like magical boxes that can hold different things, but in a very special way. Imagine you have a crayon box, it can hold many crayons of different colors. Now, imagine a box that can hold not only crayons but also numbers, shapes, and pictures. This kind of box is called a tensor.\n",
            "\n",
            "Tensors can help us understand and describe things in the world around us, like the shape of a ball, the colors of a rainbow, or the number of apples in a basket. They make it easier for us to solve problems and learn new things! So, just like how a crayon box can help us draw beautiful pictures, tensors can help us understand and explore the world in a more magical way.\n"
          ]
        }
      ],
      "source": [
        "# Let's try our model\n",
        "messages = [\n",
        "    {\"role\": \"user\", \"content\": \"Write an explanation of tensors for 5 year old\"},\n",
        "]\n",
        "\n",
        "print(get_answer(tokenizer, model, messages)[0])"
      ]
    },
    {
      "cell_type": "markdown",
      "id": "90ecd955-bc33-4da9-8eb2-df13945f0839",
      "metadata": {
        "id": "90ecd955-bc33-4da9-8eb2-df13945f0839"
      },
      "source": [
        "You should obtain an explanation from the model. If so, let us go further!"
      ]
    },
    {
      "cell_type": "markdown",
      "id": "e061404b-41f8-482f-b2a8-8d1c6f139f28",
      "metadata": {
        "id": "e061404b-41f8-482f-b2a8-8d1c6f139f28"
      },
      "source": [
        "Now we will take a sample from boolQ (https://huggingface.co/datasets/google/boolq) dataset and try prompting techniques to extract the needed answer and calculate its quality"
      ]
    },
    {
      "cell_type": "code",
      "execution_count": 10,
      "id": "1ba03448-6320-4dc6-8b27-5cac64207bcd",
      "metadata": {
        "scrolled": true,
        "id": "1ba03448-6320-4dc6-8b27-5cac64207bcd",
        "colab": {
          "base_uri": "https://localhost:8080/",
          "height": 415,
          "referenced_widgets": [
            "2d6d40df67d24cb68b3a905b6c9436ba",
            "62c271862836441391c0aaff411bacba",
            "c1278b5a103f448da4e879103c152271",
            "7ac07871cbbd4c278a7d27a290917e71",
            "703caaf2a74b41f0b0ed1de1a3ec234a",
            "521f894fa0ba4200ba2886db65baa893",
            "0475eaca8a3947e7a01e5983cf1c6ddd",
            "37fef776132c4e0facbade60ad90081b",
            "25444e6aa1484308a5c6755c65920ac4",
            "c23fdda824cc4c7d89d1e71a6e1d68c4",
            "9caabd277fa048a1b88b17f407f7fedd",
            "ad34399692004961820d1a757ceb2a3f",
            "f124eab89b4d41ccb247e3e4ac353a24",
            "482b0a442a5441609409718988a14386",
            "4f542c4fa47f43679d7a2b04cb3b090e",
            "fe6c7cd63d284e09966e594417998635",
            "9dbd8369587f48c1931e7c372fc1324a",
            "587c14c6e56b4e379b0cdb4d1f8083c8",
            "fd358165a50149239a076605f7cf5bad",
            "541c161d97524a56b557ce0cbf5e83e6",
            "c648bdafc89a4a668ce5da09e9d3ef21",
            "525b3e73c8944227bde6ee83e8a59956",
            "44d06c64afc346d2af066486859cf6d8",
            "b69847d6ee3941798c313b11cdc9d51c",
            "800c39071b6f4b3baafac6a79b0af9b6",
            "05304038c79d4a6786c59fa6e3b0723b",
            "715c1704b6e7413e90bd8d054d218229",
            "c29a2cbb9a0142eb9da4c9f4c0296508",
            "b3e46a54fd8c4dfd8d44086039813232",
            "5a55424afac8488db20b48650ab23635",
            "2fcb291d9fa542adbda14c4f8adb8512",
            "7ce0334047a84287b50a831f13c0d137",
            "54f3641930014b8db3031b15427f460d",
            "31f50f99db064e8f920f4bbe6d527356",
            "6709455ab02c417c914bc61ba6186799",
            "33a2cdd34cdd4f91b0af7e9bbb72e8e8",
            "e210d7e7ff27449abaa29fed263518ca",
            "6d0ec5784600484a954c504ce792ca9b",
            "f1be7ea449f245a4b08c39648f646adf",
            "a44d10db68714e5a8cffd383137bbf47",
            "83a4f79dec5b49b792ce33044e27e541",
            "02d24a89c2034bffb8bc684c960dce62",
            "93e0ab179d2140758dcce0a63cb490f8",
            "bf60c806057a4d11ae30a901932f7938",
            "ccfc353261bc4b2b917668f680c8a1a2",
            "1a7413a7639e4eaa815e6481d762cd4d",
            "23cab44b91f1459c839d3059a0225e9a",
            "85b2eb0e5a044f19bc1dc6d4d09b5d4e",
            "7a2a51c934d848e7b862a03a492d3ddb",
            "31f046c551ef4462965fc17540022c9a",
            "7eeba3d5da8740ce8356a73de49b1f17",
            "a3fb566791254da1b1a3aafcecaec247",
            "eb7bde03dfac4d119a34e615b811ee64",
            "cda53305fb9e4a27ad334edc9fa9195b",
            "91e270a35043478bb44c6be4efe28fa8",
            "7b8247db09cd4197aac6a1578bd8be3f",
            "04556d9c58da4c0392a070267e2a6265",
            "13fa6b65082b46ff80805a43bc334427",
            "27103389037840768a93c4cffdf4372b",
            "41dab0cb8efa40569bee16d10d52fbd4",
            "ca3e59c8b094472e8c8538f74bb4fac0",
            "344d59ade9a2490dacb845b617ca10cc",
            "7d1ff8404e7145afa6cb096dd2463afe",
            "caaa96090da54f84be4c9653cb731efa",
            "9b32d9bfda6547e5a01a6c74a9d48523",
            "04f1876b589f4882b7d4ae1e17fe26fd",
            "8f77769b6bd44a1a9e9fecbdba4d908f",
            "7dd6c769ebc74378880b4f5477db661b",
            "2a024b5d535d49d0839570738647bc2b",
            "3e65cc0d98b74fb49cae28fd304ed05c",
            "31c69b695a634d0a81a76a256f797dcf",
            "716602e6441e46e782f8ac09bd2b9f19",
            "b656d1679c614da388d8525d0402958e",
            "ec7efe67c4854b809425c1a317af68da",
            "f220813217aa4acb9737a60ecafe9a56",
            "ac1e50a83bcc439cb5ba6b3625709dff",
            "ebc241dd67bf44c89d9769275bdf611b"
          ]
        },
        "outputId": "322f4aed-21a3-4aed-b94a-1515f77b3b98"
      },
      "outputs": [
        {
          "output_type": "display_data",
          "data": {
            "text/plain": [
              "Downloading readme:   0%|          | 0.00/6.57k [00:00<?, ?B/s]"
            ],
            "application/vnd.jupyter.widget-view+json": {
              "version_major": 2,
              "version_minor": 0,
              "model_id": "2d6d40df67d24cb68b3a905b6c9436ba"
            }
          },
          "metadata": {}
        },
        {
          "output_type": "display_data",
          "data": {
            "text/plain": [
              "Downloading data files:   0%|          | 0/2 [00:00<?, ?it/s]"
            ],
            "application/vnd.jupyter.widget-view+json": {
              "version_major": 2,
              "version_minor": 0,
              "model_id": "ad34399692004961820d1a757ceb2a3f"
            }
          },
          "metadata": {}
        },
        {
          "output_type": "display_data",
          "data": {
            "text/plain": [
              "Downloading data:   0%|          | 0.00/3.69M [00:00<?, ?B/s]"
            ],
            "application/vnd.jupyter.widget-view+json": {
              "version_major": 2,
              "version_minor": 0,
              "model_id": "44d06c64afc346d2af066486859cf6d8"
            }
          },
          "metadata": {}
        },
        {
          "output_type": "display_data",
          "data": {
            "text/plain": [
              "Downloading data:   0%|          | 0.00/1.26M [00:00<?, ?B/s]"
            ],
            "application/vnd.jupyter.widget-view+json": {
              "version_major": 2,
              "version_minor": 0,
              "model_id": "31f50f99db064e8f920f4bbe6d527356"
            }
          },
          "metadata": {}
        },
        {
          "output_type": "display_data",
          "data": {
            "text/plain": [
              "Extracting data files:   0%|          | 0/2 [00:00<?, ?it/s]"
            ],
            "application/vnd.jupyter.widget-view+json": {
              "version_major": 2,
              "version_minor": 0,
              "model_id": "ccfc353261bc4b2b917668f680c8a1a2"
            }
          },
          "metadata": {}
        },
        {
          "output_type": "display_data",
          "data": {
            "text/plain": [
              "Generating train split:   0%|          | 0/9427 [00:00<?, ? examples/s]"
            ],
            "application/vnd.jupyter.widget-view+json": {
              "version_major": 2,
              "version_minor": 0,
              "model_id": "7b8247db09cd4197aac6a1578bd8be3f"
            }
          },
          "metadata": {}
        },
        {
          "output_type": "display_data",
          "data": {
            "text/plain": [
              "Generating validation split:   0%|          | 0/3270 [00:00<?, ? examples/s]"
            ],
            "application/vnd.jupyter.widget-view+json": {
              "version_major": 2,
              "version_minor": 0,
              "model_id": "8f77769b6bd44a1a9e9fecbdba4d908f"
            }
          },
          "metadata": {}
        },
        {
          "output_type": "execute_result",
          "data": {
            "text/plain": [
              "DatasetDict({\n",
              "    train: Dataset({\n",
              "        features: ['question', 'answer', 'passage'],\n",
              "        num_rows: 9427\n",
              "    })\n",
              "    validation: Dataset({\n",
              "        features: ['question', 'answer', 'passage'],\n",
              "        num_rows: 3270\n",
              "    })\n",
              "})"
            ]
          },
          "metadata": {},
          "execution_count": 10
        }
      ],
      "source": [
        "df = load_dataset(\"google/boolq\")\n",
        "df"
      ]
    },
    {
      "cell_type": "code",
      "execution_count": 11,
      "id": "0363281f-a172-469c-a12a-63568e031d79",
      "metadata": {
        "id": "0363281f-a172-469c-a12a-63568e031d79"
      },
      "outputs": [],
      "source": [
        "# Fixing 20 validation examples\n",
        "random.seed(const_seed)\n",
        "idx = random.sample(range(1, 3270), 20)"
      ]
    },
    {
      "cell_type": "code",
      "execution_count": 12,
      "id": "c9eb6d89-1627-4875-8aa6-6da57e137246",
      "metadata": {
        "id": "c9eb6d89-1627-4875-8aa6-6da57e137246"
      },
      "outputs": [],
      "source": [
        "# sample you will work with\n",
        "df_sample = df[\"validation\"].select(idx)"
      ]
    },
    {
      "cell_type": "code",
      "execution_count": 74,
      "metadata": {
        "id": "ec41c3eb-d827-4e38-b622-3d21cb540d8c",
        "colab": {
          "base_uri": "https://localhost:8080/"
        },
        "outputId": "123cc933-7ccb-4dc8-810b-76544c650848"
      },
      "outputs": [
        {
          "output_type": "stream",
          "name": "stderr",
          "text": [
            "The attention mask and the pad token id were not set. As a consequence, you may observe unexpected behavior. Please pass your input's `attention_mask` to obtain reliable results.\n",
            "Setting `pad_token_id` to `eos_token_id`:2 for open-end generation.\n"
          ]
        },
        {
          "output_type": "stream",
          "name": "stdout",
          "text": [
            "message:[{'role': 'user', 'content': \"MY QUESTION is (is the vice president the head of the senate) generate True or False based on MY QUESTION ,just need True or False(I don't need any other answer like yes or NO.)\\n                    format:\\n                        text： is the vice president the head of the senate（Repeating my question here）\\n                        answer:\\n                      \"}]\n"
          ]
        },
        {
          "output_type": "stream",
          "name": "stderr",
          "text": [
            "The attention mask and the pad token id were not set. As a consequence, you may observe unexpected behavior. Please pass your input's `attention_mask` to obtain reliable results.\n",
            "Setting `pad_token_id` to `eos_token_id`:2 for open-end generation.\n"
          ]
        },
        {
          "output_type": "stream",
          "name": "stdout",
          "text": [
            "[INST] MY QUESTION is (is the vice president the head of the senate) generate True or False based on MY QUESTION ,just need True or False(I don't need any other answer like yes or NO.)\n",
            "                    format:\n",
            "                        text： is the vice president the head of the senate（Repeating my question here）\n",
            "                        answer:\n",
            "                       [/INST] False. The Vice President serves as the President of the Senate in a largely ceremonial role, presiding over the Senate and casting tie-breaking votes when necessary. However, the Vice President does not hold the legislative power or authority of the Senate as a whole. The Senate's leadership and day-to-day operations are carried out by the Senate Majority and Minority Leaders and their respective parties.\n",
            "message:[{'role': 'user', 'content': \"MY QUESTION is (can i get $1 000 bill from the bank) generate True or False based on MY QUESTION ,just need True or False(I don't need any other answer like yes or NO.)\\n                    format:\\n                        text： can i get $1 000 bill from the bank（Repeating my question here）\\n                        answer:\\n                      \"}]\n"
          ]
        },
        {
          "output_type": "stream",
          "name": "stderr",
          "text": [
            "The attention mask and the pad token id were not set. As a consequence, you may observe unexpected behavior. Please pass your input's `attention_mask` to obtain reliable results.\n",
            "Setting `pad_token_id` to `eos_token_id`:2 for open-end generation.\n"
          ]
        },
        {
          "output_type": "stream",
          "name": "stdout",
          "text": [
            "[INST] MY QUESTION is (can i get $1 000 bill from the bank) generate True or False based on MY QUESTION ,just need True or False(I don't need any other answer like yes or NO.)\n",
            "                    format:\n",
            "                        text： can i get $1 000 bill from the bank（Repeating my question here）\n",
            "                        answer:\n",
            "                       [/INST] False. The largest denomination bill issued by most banks, including the United States, is the $100 bill. $1,000 bills are not in circulation.\n",
            "message:[{'role': 'user', 'content': \"MY QUESTION is (were any civil war battles fought in florida) generate True or False based on MY QUESTION ,just need True or False(I don't need any other answer like yes or NO.)\\n                    format:\\n                        text： were any civil war battles fought in florida（Repeating my question here）\\n                        answer:\\n                      \"}]\n"
          ]
        },
        {
          "output_type": "stream",
          "name": "stderr",
          "text": [
            "The attention mask and the pad token id were not set. As a consequence, you may observe unexpected behavior. Please pass your input's `attention_mask` to obtain reliable results.\n",
            "Setting `pad_token_id` to `eos_token_id`:2 for open-end generation.\n"
          ]
        },
        {
          "output_type": "stream",
          "name": "stdout",
          "text": [
            "[INST] MY QUESTION is (were any civil war battles fought in florida) generate True or False based on MY QUESTION ,just need True or False(I don't need any other answer like yes or NO.)\n",
            "                    format:\n",
            "                        text： were any civil war battles fought in florida（Repeating my question here）\n",
            "                        answer:\n",
            "                       [/INST] True. Several battles were fought in Florida during the American Civil War. Some notable ones include the Battle of Olustee, Battle of Natural Bridge, and the Battle of Pocotaligo.\n",
            "message:[{'role': 'user', 'content': \"MY QUESTION is (is a chipmunk the same as a ground squirrel) generate True or False based on MY QUESTION ,just need True or False(I don't need any other answer like yes or NO.)\\n                    format:\\n                        text： is a chipmunk the same as a ground squirrel（Repeating my question here）\\n                        answer:\\n                      \"}]\n"
          ]
        },
        {
          "output_type": "stream",
          "name": "stderr",
          "text": [
            "The attention mask and the pad token id were not set. As a consequence, you may observe unexpected behavior. Please pass your input's `attention_mask` to obtain reliable results.\n",
            "Setting `pad_token_id` to `eos_token_id`:2 for open-end generation.\n"
          ]
        },
        {
          "output_type": "stream",
          "name": "stdout",
          "text": [
            "[INST] MY QUESTION is (is a chipmunk the same as a ground squirrel) generate True or False based on MY QUESTION ,just need True or False(I don't need any other answer like yes or NO.)\n",
            "                    format:\n",
            "                        text： is a chipmunk the same as a ground squirrel（Repeating my question here）\n",
            "                        answer:\n",
            "                       [/INST] False. Chipmunks are a type of ground squirrel, but they are not the same species. Chipmunks belong to the genus Tamias, while ground squirrels belong to several different genera within the family Sciuridae.\n",
            "message:[{'role': 'user', 'content': \"MY QUESTION is (is russell brand singing in get him to the greek) generate True or False based on MY QUESTION ,just need True or False(I don't need any other answer like yes or NO.)\\n                    format:\\n                        text： is russell brand singing in get him to the greek（Repeating my question here）\\n                        answer:\\n                      \"}]\n"
          ]
        },
        {
          "output_type": "stream",
          "name": "stderr",
          "text": [
            "The attention mask and the pad token id were not set. As a consequence, you may observe unexpected behavior. Please pass your input's `attention_mask` to obtain reliable results.\n",
            "Setting `pad_token_id` to `eos_token_id`:2 for open-end generation.\n"
          ]
        },
        {
          "output_type": "stream",
          "name": "stdout",
          "text": [
            "[INST] MY QUESTION is (is russell brand singing in get him to the greek) generate True or False based on MY QUESTION ,just need True or False(I don't need any other answer like yes or NO.)\n",
            "                    format:\n",
            "                        text： is russell brand singing in get him to the greek（Repeating my question here）\n",
            "                        answer:\n",
            "                       [/INST] answer: True. Russell Brand plays the character of Aldous Snow in the film \"Get Him to the Greek,\" and he performs several songs throughout the movie.\n",
            "message:[{'role': 'user', 'content': \"MY QUESTION is (is there goal line technology in the world cup) generate True or False based on MY QUESTION ,just need True or False(I don't need any other answer like yes or NO.)\\n                    format:\\n                        text： is there goal line technology in the world cup（Repeating my question here）\\n                        answer:\\n                      \"}]\n"
          ]
        },
        {
          "output_type": "stream",
          "name": "stderr",
          "text": [
            "The attention mask and the pad token id were not set. As a consequence, you may observe unexpected behavior. Please pass your input's `attention_mask` to obtain reliable results.\n",
            "Setting `pad_token_id` to `eos_token_id`:2 for open-end generation.\n"
          ]
        },
        {
          "output_type": "stream",
          "name": "stdout",
          "text": [
            "[INST] MY QUESTION is (is there goal line technology in the world cup) generate True or False based on MY QUESTION ,just need True or False(I don't need any other answer like yes or NO.)\n",
            "                    format:\n",
            "                        text： is there goal line technology in the world cup（Repeating my question here）\n",
            "                        answer:\n",
            "                       [/INST] True. Goal-line technology has been used in the FIFA World Cup since 2014.\n",
            "message:[{'role': 'user', 'content': \"MY QUESTION is (is boss baby back in business on netflix) generate True or False based on MY QUESTION ,just need True or False(I don't need any other answer like yes or NO.)\\n                    format:\\n                        text： is boss baby back in business on netflix（Repeating my question here）\\n                        answer:\\n                      \"}]\n"
          ]
        },
        {
          "output_type": "stream",
          "name": "stderr",
          "text": [
            "The attention mask and the pad token id were not set. As a consequence, you may observe unexpected behavior. Please pass your input's `attention_mask` to obtain reliable results.\n",
            "Setting `pad_token_id` to `eos_token_id`:2 for open-end generation.\n"
          ]
        },
        {
          "output_type": "stream",
          "name": "stdout",
          "text": [
            "[INST] MY QUESTION is (is boss baby back in business on netflix) generate True or False based on MY QUESTION ,just need True or False(I don't need any other answer like yes or NO.)\n",
            "                    format:\n",
            "                        text： is boss baby back in business on netflix（Repeating my question here）\n",
            "                        answer:\n",
            "                       [/INST] True. \"Boss Baby: Back in Business\" is currently streaming on Netflix.\n",
            "message:[{'role': 'user', 'content': \"MY QUESTION is (are back ribs same as baby back ribs) generate True or False based on MY QUESTION ,just need True or False(I don't need any other answer like yes or NO.)\\n                    format:\\n                        text： are back ribs same as baby back ribs（Repeating my question here）\\n                        answer:\\n                      \"}]\n"
          ]
        },
        {
          "output_type": "stream",
          "name": "stderr",
          "text": [
            "The attention mask and the pad token id were not set. As a consequence, you may observe unexpected behavior. Please pass your input's `attention_mask` to obtain reliable results.\n",
            "Setting `pad_token_id` to `eos_token_id`:2 for open-end generation.\n"
          ]
        },
        {
          "output_type": "stream",
          "name": "stdout",
          "text": [
            "[INST] MY QUESTION is (are back ribs same as baby back ribs) generate True or False based on MY QUESTION ,just need True or False(I don't need any other answer like yes or NO.)\n",
            "                    format:\n",
            "                        text： are back ribs same as baby back ribs（Repeating my question here）\n",
            "                        answer:\n",
            "                       [/INST] False. Back ribs and baby back ribs are not the same. Baby back ribs specifically refer to the upper, curved section of the rib rack, while back ribs can refer to any section of the rib rack further down from the baby back ribs.\n",
            "message:[{'role': 'user', 'content': \"MY QUESTION is (is the southern tip of south america cold) generate True or False based on MY QUESTION ,just need True or False(I don't need any other answer like yes or NO.)\\n                    format:\\n                        text： is the southern tip of south america cold（Repeating my question here）\\n                        answer:\\n                      \"}]\n"
          ]
        },
        {
          "output_type": "stream",
          "name": "stderr",
          "text": [
            "The attention mask and the pad token id were not set. As a consequence, you may observe unexpected behavior. Please pass your input's `attention_mask` to obtain reliable results.\n",
            "Setting `pad_token_id` to `eos_token_id`:2 for open-end generation.\n"
          ]
        },
        {
          "output_type": "stream",
          "name": "stdout",
          "text": [
            "[INST] MY QUESTION is (is the southern tip of south america cold) generate True or False based on MY QUESTION ,just need True or False(I don't need any other answer like yes or NO.)\n",
            "                    format:\n",
            "                        text： is the southern tip of south america cold（Repeating my question here）\n",
            "                        answer:\n",
            "                       [/INST] False. The southern tip of South America, specifically the Tierra del Fuego region, is known for its cold and wet weather, but it is not as cold as places like Antarctica or the Arctic Circle. The average temperature in the region ranges from 32°F (0°C) to 55°F (13°C) throughout the year.\n",
            "message:[{'role': 'user', 'content': \"MY QUESTION is (do away goals count in the league playoffs) generate True or False based on MY QUESTION ,just need True or False(I don't need any other answer like yes or NO.)\\n                    format:\\n                        text： do away goals count in the league playoffs（Repeating my question here）\\n                        answer:\\n                      \"}]\n"
          ]
        },
        {
          "output_type": "stream",
          "name": "stderr",
          "text": [
            "The attention mask and the pad token id were not set. As a consequence, you may observe unexpected behavior. Please pass your input's `attention_mask` to obtain reliable results.\n",
            "Setting `pad_token_id` to `eos_token_id`:2 for open-end generation.\n"
          ]
        },
        {
          "output_type": "stream",
          "name": "stdout",
          "text": [
            "[INST] MY QUESTION is (do away goals count in the league playoffs) generate True or False based on MY QUESTION ,just need True or False(I don't need any other answer like yes or NO.)\n",
            "                    format:\n",
            "                        text： do away goals count in the league playoffs（Repeating my question here）\n",
            "                        answer:\n",
            "                       [/INST] The answer to your question is: It depends. Some soccer leagues and competitions consider away goals to be important in the league playoffs, while others do not. Therefore, a simple True or False answer cannot be provided without specifying which particular league or competition is being referred to.\n",
            "message:[{'role': 'user', 'content': \"MY QUESTION is (is black cumin seed same as black seed) generate True or False based on MY QUESTION ,just need True or False(I don't need any other answer like yes or NO.)\\n                    format:\\n                        text： is black cumin seed same as black seed（Repeating my question here）\\n                        answer:\\n                      \"}]\n"
          ]
        },
        {
          "output_type": "stream",
          "name": "stderr",
          "text": [
            "The attention mask and the pad token id were not set. As a consequence, you may observe unexpected behavior. Please pass your input's `attention_mask` to obtain reliable results.\n",
            "Setting `pad_token_id` to `eos_token_id`:2 for open-end generation.\n"
          ]
        },
        {
          "output_type": "stream",
          "name": "stdout",
          "text": [
            "[INST] MY QUESTION is (is black cumin seed same as black seed) generate True or False based on MY QUESTION ,just need True or False(I don't need any other answer like yes or NO.)\n",
            "                    format:\n",
            "                        text： is black cumin seed same as black seed（Repeating my question here）\n",
            "                        answer:\n",
            "                       [/INST] True. Black cumin seed and black seed are the same thing. Black seed, also known as Nigella sativa seed, is commonly referred to as black cumin seed in some contexts.\n",
            "message:[{'role': 'user', 'content': \"MY QUESTION is (have belgium ever reached the world cup final) generate True or False based on MY QUESTION ,just need True or False(I don't need any other answer like yes or NO.)\\n                    format:\\n                        text： have belgium ever reached the world cup final（Repeating my question here）\\n                        answer:\\n                      \"}]\n"
          ]
        },
        {
          "output_type": "stream",
          "name": "stderr",
          "text": [
            "The attention mask and the pad token id were not set. As a consequence, you may observe unexpected behavior. Please pass your input's `attention_mask` to obtain reliable results.\n",
            "Setting `pad_token_id` to `eos_token_id`:2 for open-end generation.\n"
          ]
        },
        {
          "output_type": "stream",
          "name": "stdout",
          "text": [
            "[INST] MY QUESTION is (have belgium ever reached the world cup final) generate True or False based on MY QUESTION ,just need True or False(I don't need any other answer like yes or NO.)\n",
            "                    format:\n",
            "                        text： have belgium ever reached the world cup final（Repeating my question here）\n",
            "                        answer:\n",
            "                       [/INST] False. Belgium has not reached the World Cup final yet.\n",
            "message:[{'role': 'user', 'content': \"MY QUESTION is (does us have military bases in saudi arabia) generate True or False based on MY QUESTION ,just need True or False(I don't need any other answer like yes or NO.)\\n                    format:\\n                        text： does us have military bases in saudi arabia（Repeating my question here）\\n                        answer:\\n                      \"}]\n"
          ]
        },
        {
          "output_type": "stream",
          "name": "stderr",
          "text": [
            "The attention mask and the pad token id were not set. As a consequence, you may observe unexpected behavior. Please pass your input's `attention_mask` to obtain reliable results.\n",
            "Setting `pad_token_id` to `eos_token_id`:2 for open-end generation.\n"
          ]
        },
        {
          "output_type": "stream",
          "name": "stdout",
          "text": [
            "[INST] MY QUESTION is (does us have military bases in saudi arabia) generate True or False based on MY QUESTION ,just need True or False(I don't need any other answer like yes or NO.)\n",
            "                    format:\n",
            "                        text： does us have military bases in saudi arabia（Repeating my question here）\n",
            "                        answer:\n",
            "                       [/INST] True. The United States has had a military presence in Saudi Arabia since the late 1990s, primarily at the Prince Sultan Air Base in the eastern part of the country. The presence is largely for the purpose of protecting US interests in the region and enhancing the security cooperation between the two countries.\n",
            "message:[{'role': 'user', 'content': \"MY QUESTION is (does the florida constitution give a minimum age for legislators) generate True or False based on MY QUESTION ,just need True or False(I don't need any other answer like yes or NO.)\\n                    format:\\n                        text： does the florida constitution give a minimum age for legislators（Repeating my question here）\\n                        answer:\\n                      \"}]\n"
          ]
        },
        {
          "output_type": "stream",
          "name": "stderr",
          "text": [
            "The attention mask and the pad token id were not set. As a consequence, you may observe unexpected behavior. Please pass your input's `attention_mask` to obtain reliable results.\n",
            "Setting `pad_token_id` to `eos_token_id`:2 for open-end generation.\n"
          ]
        },
        {
          "output_type": "stream",
          "name": "stdout",
          "text": [
            "[INST] MY QUESTION is (does the florida constitution give a minimum age for legislators) generate True or False based on MY QUESTION ,just need True or False(I don't need any other answer like yes or NO.)\n",
            "                    format:\n",
            "                        text： does the florida constitution give a minimum age for legislators（Repeating my question here）\n",
            "                        answer:\n",
            "                       [/INST] answer: true.\n",
            "\n",
            "The Florida Constitution sets a minimum age requirement for legislators. Article III, Section 1 of the Florida Constitution states that \"Each House shall be composed of Members chosen every second year, and the Members shall be qualified as follows: 1. In the Senate, each Member shall be at least twenty-five years of age, and a citizen of the United States and of this state; 2. In the House of Representatives, each Member shall be at least twenty-one years of age, and a citizen of the United States and of this state.\"\n",
            "message:[{'role': 'user', 'content': \"MY QUESTION is (is the white cover on brie cheese edible) generate True or False based on MY QUESTION ,just need True or False(I don't need any other answer like yes or NO.)\\n                    format:\\n                        text： is the white cover on brie cheese edible（Repeating my question here）\\n                        answer:\\n                      \"}]\n"
          ]
        },
        {
          "output_type": "stream",
          "name": "stderr",
          "text": [
            "The attention mask and the pad token id were not set. As a consequence, you may observe unexpected behavior. Please pass your input's `attention_mask` to obtain reliable results.\n",
            "Setting `pad_token_id` to `eos_token_id`:2 for open-end generation.\n"
          ]
        },
        {
          "output_type": "stream",
          "name": "stdout",
          "text": [
            "[INST] MY QUESTION is (is the white cover on brie cheese edible) generate True or False based on MY QUESTION ,just need True or False(I don't need any other answer like yes or NO.)\n",
            "                    format:\n",
            "                        text： is the white cover on brie cheese edible（Repeating my question here）\n",
            "                        answer:\n",
            "                       [/INST] False. The white rind on Brie cheese is not typically consumed, as it can have a distinct and strong flavor that some people find unappetizing. The edible parts of Brie are the soft, creamy interior and the top rind, which is usually brown and downy in texture.\n",
            "message:[{'role': 'user', 'content': \"MY QUESTION is (does each state have its own constitution australia) generate True or False based on MY QUESTION ,just need True or False(I don't need any other answer like yes or NO.)\\n                    format:\\n                        text： does each state have its own constitution australia（Repeating my question here）\\n                        answer:\\n                      \"}]\n"
          ]
        },
        {
          "output_type": "stream",
          "name": "stderr",
          "text": [
            "The attention mask and the pad token id were not set. As a consequence, you may observe unexpected behavior. Please pass your input's `attention_mask` to obtain reliable results.\n",
            "Setting `pad_token_id` to `eos_token_id`:2 for open-end generation.\n"
          ]
        },
        {
          "output_type": "stream",
          "name": "stdout",
          "text": [
            "[INST] MY QUESTION is (does each state have its own constitution australia) generate True or False based on MY QUESTION ,just need True or False(I don't need any other answer like yes or NO.)\n",
            "                    format:\n",
            "                        text： does each state have its own constitution australia（Repeating my question here）\n",
            "                        answer:\n",
            "                       [/INST] False. Australia has a single constitution, at the federal level, and the states do not have their own constitutional documents.\n",
            "message:[{'role': 'user', 'content': \"MY QUESTION is (can i have multiple foreign keys in a table) generate True or False based on MY QUESTION ,just need True or False(I don't need any other answer like yes or NO.)\\n                    format:\\n                        text： can i have multiple foreign keys in a table（Repeating my question here）\\n                        answer:\\n                      \"}]\n"
          ]
        },
        {
          "output_type": "stream",
          "name": "stderr",
          "text": [
            "The attention mask and the pad token id were not set. As a consequence, you may observe unexpected behavior. Please pass your input's `attention_mask` to obtain reliable results.\n",
            "Setting `pad_token_id` to `eos_token_id`:2 for open-end generation.\n"
          ]
        },
        {
          "output_type": "stream",
          "name": "stdout",
          "text": [
            "[INST] MY QUESTION is (can i have multiple foreign keys in a table) generate True or False based on MY QUESTION ,just need True or False(I don't need any other answer like yes or NO.)\n",
            "                    format:\n",
            "                        text： can i have multiple foreign keys in a table（Repeating my question here）\n",
            "                        answer:\n",
            "                       [/INST] True. A table in a relational database can have multiple foreign keys, each referencing a primary key in a different table.\n",
            "message:[{'role': 'user', 'content': \"MY QUESTION is (is there a delay of game in hockey) generate True or False based on MY QUESTION ,just need True or False(I don't need any other answer like yes or NO.)\\n                    format:\\n                        text： is there a delay of game in hockey（Repeating my question here）\\n                        answer:\\n                      \"}]\n"
          ]
        },
        {
          "output_type": "stream",
          "name": "stderr",
          "text": [
            "The attention mask and the pad token id were not set. As a consequence, you may observe unexpected behavior. Please pass your input's `attention_mask` to obtain reliable results.\n",
            "Setting `pad_token_id` to `eos_token_id`:2 for open-end generation.\n"
          ]
        },
        {
          "output_type": "stream",
          "name": "stdout",
          "text": [
            "[INST] MY QUESTION is (is there a delay of game in hockey) generate True or False based on MY QUESTION ,just need True or False(I don't need any other answer like yes or NO.)\n",
            "                    format:\n",
            "                        text： is there a delay of game in hockey（Repeating my question here）\n",
            "                        answer:\n",
            "                       [/INST] True.\n",
            "\n",
            "In hockey, there is a rule called \"delay of game,\" which penalizes players for actions that excessively delay the game. This can include things like shooting the puck over the glass or holding the puck in the defensive zone for too long.\n",
            "message:[{'role': 'user', 'content': \"MY QUESTION is (do you need a permit to carry a gun in nh) generate True or False based on MY QUESTION ,just need True or False(I don't need any other answer like yes or NO.)\\n                    format:\\n                        text： do you need a permit to carry a gun in nh（Repeating my question here）\\n                        answer:\\n                      \"}]\n"
          ]
        },
        {
          "output_type": "stream",
          "name": "stderr",
          "text": [
            "The attention mask and the pad token id were not set. As a consequence, you may observe unexpected behavior. Please pass your input's `attention_mask` to obtain reliable results.\n",
            "Setting `pad_token_id` to `eos_token_id`:2 for open-end generation.\n"
          ]
        },
        {
          "output_type": "stream",
          "name": "stdout",
          "text": [
            "[INST] MY QUESTION is (do you need a permit to carry a gun in nh) generate True or False based on MY QUESTION ,just need True or False(I don't need any other answer like yes or NO.)\n",
            "                    format:\n",
            "                        text： do you need a permit to carry a gun in nh（Repeating my question here）\n",
            "                        answer:\n",
            "                       [/INST] True. In New Hampshire, you do need a permit to carry a concealed gun. Open carry does not require a permit. However, for the purpose of your question, the requirement for a permit applies to carrying a gun.\n",
            "message:[{'role': 'user', 'content': \"MY QUESTION is (is los lobos in the rock and roll hall of fame) generate True or False based on MY QUESTION ,just need True or False(I don't need any other answer like yes or NO.)\\n                    format:\\n                        text： is los lobos in the rock and roll hall of fame（Repeating my question here）\\n                        answer:\\n                      \"}]\n",
            "[INST] MY QUESTION is (is los lobos in the rock and roll hall of fame) generate True or False based on MY QUESTION ,just need True or False(I don't need any other answer like yes or NO.)\n",
            "                    format:\n",
            "                        text： is los lobos in the rock and roll hall of fame（Repeating my question here）\n",
            "                        answer:\n",
            "                       [/INST] answer: False. Los Lobos is not in the Rock and Roll Hall of Fame yet.\n"
          ]
        }
      ],
      "source": [
        "# For instance, you can construct your prompt the following way\n",
        "answers = []\n",
        "for i in range(0, 20):\n",
        "    messages = [\n",
        "        {\n",
        "            \"role\": \"user\",\n",
        "            \"content\": f'''MY QUESTION is ({df_sample['question'][i]}) generate True or False based on MY QUESTION ,just need True or False(I don't need any other answer like yes or NO.)\n",
        "                    format:\n",
        "                        text： {df_sample['question'][i]}（Repeating my question here）\n",
        "                        answer:\n",
        "                      '''\n",
        "        }\n",
        "    ]\n",
        "    print(f\"message:{messages}\")\n",
        "    answer=get_answer(tokenizer, model, messages)[0]\n",
        "    print(answer)\n",
        "    answers.append(answer)\n"
      ],
      "id": "ec41c3eb-d827-4e38-b622-3d21cb540d8c"
    },
    {
      "cell_type": "code",
      "source": [
        "post_ = []\n",
        "pattern_inst = re.compile(r'INST', re.IGNORECASE)\n",
        "pattern_tf = re.compile(r'\\b(true|false)\\b', re.IGNORECASE)\n",
        "\n",
        "for answer_text in answers:\n",
        "    # Find all occurrences of \"INST\"\n",
        "    inst_matches = [match for match in pattern_inst.finditer(answer_text)]\n",
        "    # Find all occurrences of \"true\" or \"false\"\n",
        "    tf_matches = [match for match in pattern_tf.finditer(answer_text)]\n",
        "\n",
        "    if len(inst_matches) >= 2 and tf_matches:\n",
        "        # Get the end position of the second \"INST\"\n",
        "        second_inst_end_pos = inst_matches[1].end()\n",
        "\n",
        "        # Search for \"true\" or \"false\" after the second \"INST\"\n",
        "        match_tf = pattern_tf.search(answer_text, second_inst_end_pos)\n",
        "\n",
        "        if match_tf:\n",
        "            # If found after the second \"INST\", append this match\n",
        "            post.append(match_tf.group(1))\n",
        "        else:\n",
        "            # If not found after the second \"INST\", append the last occurrence of \"true\" or \"false\"\n",
        "            post.append(tf_matches[-1].group(1))\n",
        "    elif tf_matches:\n",
        "        # If \"INST\" is not found or less than 2, but \"true\" or \"false\" is found, append the last occurrence\n",
        "        post.append(tf_matches[-1].group(1))\n",
        "    else:\n",
        "        # If neither \"INST\" nor \"true\" or \"false\" are found\n",
        "        post.append(\"未找到\")\n",
        "\n",
        "print(post)\n",
        "\n"
      ],
      "metadata": {
        "colab": {
          "base_uri": "https://localhost:8080/"
        },
        "id": "cexIxlatR8w8",
        "outputId": "52197a70-7ce0-49ea-e9e7-70bacb2abf9c"
      },
      "id": "cexIxlatR8w8",
      "execution_count": 78,
      "outputs": [
        {
          "output_type": "stream",
          "name": "stdout",
          "text": [
            "['False', 'False', 'True', 'False', 'True', 'True', 'True', 'False', 'False', 'true', 'True', 'False', 'true', 'True', 'False', 'False', 'True', 'True', 'True', 'False', 'False', 'False', 'False', 'False', 'True', 'False', 'True', 'True', 'True', 'False', 'False', 'true', 'True', 'False', 'true', 'True', 'False', 'False', 'True', 'True', 'true', 'False', 'False', 'False', 'True', 'False', 'True', 'True', 'True', 'False', 'False', 'true', 'True', 'False', 'true', 'True', 'False', 'False', 'True', 'True', 'true', 'False', 'False', 'False', 'True', 'False', 'True', 'True', 'True', 'False', 'False', 'True', 'True', 'False', 'True', 'true', 'False', 'False', 'True', 'True', 'True', 'False', 'False', 'False', 'True', 'False', 'True', 'True', 'True', 'False', 'False', 'True', 'True', 'False', 'True', 'true', 'False', 'False', 'True', 'True', 'True', 'False']\n"
          ]
        }
      ]
    },
    {
      "cell_type": "code",
      "source": [
        "bool_pre=[]\n",
        "for i in range(0,20):\n",
        "  prediction = post[i].lower() == 'true'\n",
        "  bool_pre.append(prediction)\n",
        "bool_pre"
      ],
      "metadata": {
        "id": "bv_LWWInyZjf",
        "colab": {
          "base_uri": "https://localhost:8080/"
        },
        "outputId": "68218329-4f43-4172-93e8-75d6af270613"
      },
      "id": "bv_LWWInyZjf",
      "execution_count": 79,
      "outputs": [
        {
          "output_type": "execute_result",
          "data": {
            "text/plain": [
              "[False,\n",
              " False,\n",
              " True,\n",
              " False,\n",
              " True,\n",
              " True,\n",
              " True,\n",
              " False,\n",
              " False,\n",
              " True,\n",
              " True,\n",
              " False,\n",
              " True,\n",
              " True,\n",
              " False,\n",
              " False,\n",
              " True,\n",
              " True,\n",
              " True,\n",
              " False]"
            ]
          },
          "metadata": {},
          "execution_count": 79
        }
      ]
    },
    {
      "cell_type": "markdown",
      "id": "e4183b1f-7a62-4d2f-8227-e52cb5d37d84",
      "metadata": {
        "id": "e4183b1f-7a62-4d2f-8227-e52cb5d37d84"
      },
      "source": [
        "Is anything wrong with the output? Now it is time for you to play around and try to come up with some better prompt."
      ]
    },
    {
      "cell_type": "code",
      "source": [
        "# TODO: create function to evaluate answers\n",
        "# Note: you can adapt function for different answer structures,\n",
        "# but you should be able to automatically extract the target \"true\" or \"false\" components\n",
        "\n",
        "def evaluate_answers(true_answers, predictions):\n",
        "\n",
        "    assert len(true_answers) == len(predictions)\n",
        "\n",
        "    total_questions = len(true_answers)\n",
        "    matched_count = 0\n",
        "\n",
        "    for true_answer, prediction in zip(true_answers, predictions):\n",
        "\n",
        "        if true_answer == prediction:\n",
        "            matched_count += 1\n",
        "\n",
        "    score= (matched_count / 20) * 100\n",
        "\n",
        "    return score\n",
        "print(f\"naive prompt:{evaluate_answers(df_sample['answer'], bool_pre)}\")"
      ],
      "metadata": {
        "id": "6QIrNYoVw4Xy",
        "colab": {
          "base_uri": "https://localhost:8080/"
        },
        "outputId": "78397804-a7e1-48a6-e0af-5364a27e5fd6"
      },
      "id": "6QIrNYoVw4Xy",
      "execution_count": 80,
      "outputs": [
        {
          "output_type": "stream",
          "name": "stdout",
          "text": [
            "naive prompt:55.00000000000001\n"
          ]
        }
      ]
    },
    {
      "cell_type": "markdown",
      "id": "bd21f1b7-1fc5-47ad-b14f-85f3644847f0",
      "metadata": {
        "id": "bd21f1b7-1fc5-47ad-b14f-85f3644847f0"
      },
      "source": [
        "TODO: Try and compare \"naive\" prompting (your best hand-crafted variant), few-shot prompting (https://www.promptingguide.ai/techniques/fewshot) and chain-of-thought prompting (step-be-step thinking - https://www.promptingguide.ai/techniques/cot).\n",
        "\n",
        "Save the generation results into separate csv files and do not forget to attach them to your homework."
      ]
    },
    {
      "cell_type": "markdown",
      "source": [
        "Naive prompting"
      ],
      "metadata": {
        "id": "MWZUOr2t2EWj"
      },
      "id": "MWZUOr2t2EWj"
    },
    {
      "cell_type": "code",
      "source": [
        "import pandas as pd\n",
        "naive_p = pd.DataFrame({\"answers\": answers})\n",
        "naive_p.to_csv(\"answer_n.csv\", index=False)"
      ],
      "metadata": {
        "id": "VOFEeRZ42D9Y"
      },
      "id": "VOFEeRZ42D9Y",
      "execution_count": 81,
      "outputs": []
    },
    {
      "cell_type": "markdown",
      "source": [
        "Few-Shot Prompting"
      ],
      "metadata": {
        "id": "XmKF09lS3bRE"
      },
      "id": "XmKF09lS3bRE"
    },
    {
      "cell_type": "code",
      "source": [
        "answers_F = []\n",
        "\n",
        "idy=random.sample(range(1, 3270), 4)\n",
        "\n",
        "for i in range(0, 20):\n",
        "    messages_F = [\n",
        "        {\n",
        "            \"role\": \"user\",\n",
        "            \"content\": f'''Answer the fifth question with true or false\n",
        "            1. Question: {df[\"validation\"][idy[0]]['question']}\n",
        "              Answer: {df[\"validation\"][idy[0]]['answer']}\n",
        "            2. Question: {df[\"validation\"][idy[1]]['question']}\n",
        "              Answer: {df[\"validation\"][idy[1]]['answer']}\n",
        "            3. Question: {df[\"validation\"][idy[2]]['question']}\n",
        "              Answer: {df[\"validation\"][idy[2]]['answer']}\n",
        "            4. Question: {df[\"validation\"][idy[3]]['question']}\n",
        "              Answer: {df[\"validation\"][idy[3]]['answer']}\n",
        "            5. Question: {df_sample['question'][i]}\n",
        "              Answer: (true/false)\n",
        "            '''\n",
        "        }\n",
        "    ]\n",
        "    print(messages_F)\n",
        "    answersd=get_answer(tokenizer,model,messages_F)[0]\n",
        "    print(answersd)\n",
        "    answers_F.append(answersd)"
      ],
      "metadata": {
        "id": "FdSPoZut3apx",
        "colab": {
          "base_uri": "https://localhost:8080/"
        },
        "outputId": "f9fdfe0d-80c8-4538-edec-d270f4c1fc05"
      },
      "id": "FdSPoZut3apx",
      "execution_count": 86,
      "outputs": [
        {
          "output_type": "stream",
          "name": "stderr",
          "text": [
            "The attention mask and the pad token id were not set. As a consequence, you may observe unexpected behavior. Please pass your input's `attention_mask` to obtain reliable results.\n",
            "Setting `pad_token_id` to `eos_token_id`:2 for open-end generation.\n"
          ]
        },
        {
          "output_type": "stream",
          "name": "stdout",
          "text": [
            "[{'role': 'user', 'content': 'Answer the fifth question with true or false\\n            1. Question: did ireland ever win the soccer world cup\\n              Answer: False\\n            2. Question: is there always a way to win solitaire\\n              Answer: False\\n            3. Question: is a fire 7 the same as a kindle\\n              Answer: True\\n            4. Question: do ncaa division 2 schools offer athletic scholarships\\n              Answer: False\\n            5. Question: is the vice president the head of the senate\\n              Answer: (true/false)\\n            '}]\n"
          ]
        },
        {
          "output_type": "stream",
          "name": "stderr",
          "text": [
            "The attention mask and the pad token id were not set. As a consequence, you may observe unexpected behavior. Please pass your input's `attention_mask` to obtain reliable results.\n",
            "Setting `pad_token_id` to `eos_token_id`:2 for open-end generation.\n"
          ]
        },
        {
          "output_type": "stream",
          "name": "stdout",
          "text": [
            "[INST] Answer the fifth question with true or false\n",
            "            1. Question: did ireland ever win the soccer world cup\n",
            "              Answer: False\n",
            "            2. Question: is there always a way to win solitaire\n",
            "              Answer: False\n",
            "            3. Question: is a fire 7 the same as a kindle\n",
            "              Answer: True\n",
            "            4. Question: do ncaa division 2 schools offer athletic scholarships\n",
            "              Answer: False\n",
            "            5. Question: is the vice president the head of the senate\n",
            "              Answer: (true/false)\n",
            "             [/INST] The Vice President is not the head of the Senate. The Vice President serves as the President of the Senate, but only has a vote in the event of a tie. The Senate is presided over by the Senate President or, in the absence of the President, by the Senate Pro Tempore.\n",
            "[{'role': 'user', 'content': 'Answer the fifth question with true or false\\n            1. Question: did ireland ever win the soccer world cup\\n              Answer: False\\n            2. Question: is there always a way to win solitaire\\n              Answer: False\\n            3. Question: is a fire 7 the same as a kindle\\n              Answer: True\\n            4. Question: do ncaa division 2 schools offer athletic scholarships\\n              Answer: False\\n            5. Question: can i get $1 000 bill from the bank\\n              Answer: (true/false)\\n            '}]\n"
          ]
        },
        {
          "output_type": "stream",
          "name": "stderr",
          "text": [
            "The attention mask and the pad token id were not set. As a consequence, you may observe unexpected behavior. Please pass your input's `attention_mask` to obtain reliable results.\n",
            "Setting `pad_token_id` to `eos_token_id`:2 for open-end generation.\n"
          ]
        },
        {
          "output_type": "stream",
          "name": "stdout",
          "text": [
            "[INST] Answer the fifth question with true or false\n",
            "            1. Question: did ireland ever win the soccer world cup\n",
            "              Answer: False\n",
            "            2. Question: is there always a way to win solitaire\n",
            "              Answer: False\n",
            "            3. Question: is a fire 7 the same as a kindle\n",
            "              Answer: True\n",
            "            4. Question: do ncaa division 2 schools offer athletic scholarships\n",
            "              Answer: False\n",
            "            5. Question: can i get $1 000 bill from the bank\n",
            "              Answer: (true/false)\n",
            "             [/INST] Answer: False. In the United States, the largest denomination bill issued by the Federal Reserve is the $100 bill. There is no $1,000 bill in circulation.\n",
            "[{'role': 'user', 'content': 'Answer the fifth question with true or false\\n            1. Question: did ireland ever win the soccer world cup\\n              Answer: False\\n            2. Question: is there always a way to win solitaire\\n              Answer: False\\n            3. Question: is a fire 7 the same as a kindle\\n              Answer: True\\n            4. Question: do ncaa division 2 schools offer athletic scholarships\\n              Answer: False\\n            5. Question: were any civil war battles fought in florida\\n              Answer: (true/false)\\n            '}]\n"
          ]
        },
        {
          "output_type": "stream",
          "name": "stderr",
          "text": [
            "The attention mask and the pad token id were not set. As a consequence, you may observe unexpected behavior. Please pass your input's `attention_mask` to obtain reliable results.\n",
            "Setting `pad_token_id` to `eos_token_id`:2 for open-end generation.\n"
          ]
        },
        {
          "output_type": "stream",
          "name": "stdout",
          "text": [
            "[INST] Answer the fifth question with true or false\n",
            "            1. Question: did ireland ever win the soccer world cup\n",
            "              Answer: False\n",
            "            2. Question: is there always a way to win solitaire\n",
            "              Answer: False\n",
            "            3. Question: is a fire 7 the same as a kindle\n",
            "              Answer: True\n",
            "            4. Question: do ncaa division 2 schools offer athletic scholarships\n",
            "              Answer: False\n",
            "            5. Question: were any civil war battles fought in florida\n",
            "              Answer: (true/false)\n",
            "             [/INST] Answer: True. Florida was a battleground in the American Civil War, with several significant engagements taking place there between 1861 and 1865. Some of the most notable battles in Florida include the Battle of Olustee, the Battle of Natural Bridge, and the Battle of Pocotaligo.\n",
            "[{'role': 'user', 'content': 'Answer the fifth question with true or false\\n            1. Question: did ireland ever win the soccer world cup\\n              Answer: False\\n            2. Question: is there always a way to win solitaire\\n              Answer: False\\n            3. Question: is a fire 7 the same as a kindle\\n              Answer: True\\n            4. Question: do ncaa division 2 schools offer athletic scholarships\\n              Answer: False\\n            5. Question: is a chipmunk the same as a ground squirrel\\n              Answer: (true/false)\\n            '}]\n"
          ]
        },
        {
          "output_type": "stream",
          "name": "stderr",
          "text": [
            "The attention mask and the pad token id were not set. As a consequence, you may observe unexpected behavior. Please pass your input's `attention_mask` to obtain reliable results.\n",
            "Setting `pad_token_id` to `eos_token_id`:2 for open-end generation.\n"
          ]
        },
        {
          "output_type": "stream",
          "name": "stdout",
          "text": [
            "[INST] Answer the fifth question with true or false\n",
            "            1. Question: did ireland ever win the soccer world cup\n",
            "              Answer: False\n",
            "            2. Question: is there always a way to win solitaire\n",
            "              Answer: False\n",
            "            3. Question: is a fire 7 the same as a kindle\n",
            "              Answer: True\n",
            "            4. Question: do ncaa division 2 schools offer athletic scholarships\n",
            "              Answer: False\n",
            "            5. Question: is a chipmunk the same as a ground squirrel\n",
            "              Answer: (true/false)\n",
            "             [/INST] Chipmunks and ground squirrels are related species, but they are not exactly the same animal. Chipmunks are a specific type of ground squirrel. Therefore, the answer is False for question 5.\n",
            "[{'role': 'user', 'content': 'Answer the fifth question with true or false\\n            1. Question: did ireland ever win the soccer world cup\\n              Answer: False\\n            2. Question: is there always a way to win solitaire\\n              Answer: False\\n            3. Question: is a fire 7 the same as a kindle\\n              Answer: True\\n            4. Question: do ncaa division 2 schools offer athletic scholarships\\n              Answer: False\\n            5. Question: is russell brand singing in get him to the greek\\n              Answer: (true/false)\\n            '}]\n"
          ]
        },
        {
          "output_type": "stream",
          "name": "stderr",
          "text": [
            "The attention mask and the pad token id were not set. As a consequence, you may observe unexpected behavior. Please pass your input's `attention_mask` to obtain reliable results.\n",
            "Setting `pad_token_id` to `eos_token_id`:2 for open-end generation.\n"
          ]
        },
        {
          "output_type": "stream",
          "name": "stdout",
          "text": [
            "[INST] Answer the fifth question with true or false\n",
            "            1. Question: did ireland ever win the soccer world cup\n",
            "              Answer: False\n",
            "            2. Question: is there always a way to win solitaire\n",
            "              Answer: False\n",
            "            3. Question: is a fire 7 the same as a kindle\n",
            "              Answer: True\n",
            "            4. Question: do ncaa division 2 schools offer athletic scholarships\n",
            "              Answer: False\n",
            "            5. Question: is russell brand singing in get him to the greek\n",
            "              Answer: (true/false)\n",
            "             [/INST] Answer: True\n",
            "\n",
            "In the movie \"Get Him to the Greek,\" Russell Brand does sing several songs, including \"I'm a Little Bit in Love with You\" and \"Milkflowers.\"\n",
            "[{'role': 'user', 'content': 'Answer the fifth question with true or false\\n            1. Question: did ireland ever win the soccer world cup\\n              Answer: False\\n            2. Question: is there always a way to win solitaire\\n              Answer: False\\n            3. Question: is a fire 7 the same as a kindle\\n              Answer: True\\n            4. Question: do ncaa division 2 schools offer athletic scholarships\\n              Answer: False\\n            5. Question: is there goal line technology in the world cup\\n              Answer: (true/false)\\n            '}]\n"
          ]
        },
        {
          "output_type": "stream",
          "name": "stderr",
          "text": [
            "The attention mask and the pad token id were not set. As a consequence, you may observe unexpected behavior. Please pass your input's `attention_mask` to obtain reliable results.\n",
            "Setting `pad_token_id` to `eos_token_id`:2 for open-end generation.\n"
          ]
        },
        {
          "output_type": "stream",
          "name": "stdout",
          "text": [
            "[INST] Answer the fifth question with true or false\n",
            "            1. Question: did ireland ever win the soccer world cup\n",
            "              Answer: False\n",
            "            2. Question: is there always a way to win solitaire\n",
            "              Answer: False\n",
            "            3. Question: is a fire 7 the same as a kindle\n",
            "              Answer: True\n",
            "            4. Question: do ncaa division 2 schools offer athletic scholarships\n",
            "              Answer: False\n",
            "            5. Question: is there goal line technology in the world cup\n",
            "              Answer: (true/false)\n",
            "             [/INST] Answer: True. Goal line technology has been used in the FIFA World Cup since 2014.\n",
            "[{'role': 'user', 'content': 'Answer the fifth question with true or false\\n            1. Question: did ireland ever win the soccer world cup\\n              Answer: False\\n            2. Question: is there always a way to win solitaire\\n              Answer: False\\n            3. Question: is a fire 7 the same as a kindle\\n              Answer: True\\n            4. Question: do ncaa division 2 schools offer athletic scholarships\\n              Answer: False\\n            5. Question: is boss baby back in business on netflix\\n              Answer: (true/false)\\n            '}]\n"
          ]
        },
        {
          "output_type": "stream",
          "name": "stderr",
          "text": [
            "The attention mask and the pad token id were not set. As a consequence, you may observe unexpected behavior. Please pass your input's `attention_mask` to obtain reliable results.\n",
            "Setting `pad_token_id` to `eos_token_id`:2 for open-end generation.\n"
          ]
        },
        {
          "output_type": "stream",
          "name": "stdout",
          "text": [
            "[INST] Answer the fifth question with true or false\n",
            "            1. Question: did ireland ever win the soccer world cup\n",
            "              Answer: False\n",
            "            2. Question: is there always a way to win solitaire\n",
            "              Answer: False\n",
            "            3. Question: is a fire 7 the same as a kindle\n",
            "              Answer: True\n",
            "            4. Question: do ncaa division 2 schools offer athletic scholarships\n",
            "              Answer: False\n",
            "            5. Question: is boss baby back in business on netflix\n",
            "              Answer: (true/false)\n",
            "             [/INST] Answer: True\n",
            "\n",
            "Explanation: \"The Boss Baby: Back in Business\" is a Netflix original animated series based on the 2017 DreamWorks Animation film \"The Boss Baby.\" It was released on January 13, 2019.\n",
            "[{'role': 'user', 'content': 'Answer the fifth question with true or false\\n            1. Question: did ireland ever win the soccer world cup\\n              Answer: False\\n            2. Question: is there always a way to win solitaire\\n              Answer: False\\n            3. Question: is a fire 7 the same as a kindle\\n              Answer: True\\n            4. Question: do ncaa division 2 schools offer athletic scholarships\\n              Answer: False\\n            5. Question: are back ribs same as baby back ribs\\n              Answer: (true/false)\\n            '}]\n"
          ]
        },
        {
          "output_type": "stream",
          "name": "stderr",
          "text": [
            "The attention mask and the pad token id were not set. As a consequence, you may observe unexpected behavior. Please pass your input's `attention_mask` to obtain reliable results.\n",
            "Setting `pad_token_id` to `eos_token_id`:2 for open-end generation.\n"
          ]
        },
        {
          "output_type": "stream",
          "name": "stdout",
          "text": [
            "[INST] Answer the fifth question with true or false\n",
            "            1. Question: did ireland ever win the soccer world cup\n",
            "              Answer: False\n",
            "            2. Question: is there always a way to win solitaire\n",
            "              Answer: False\n",
            "            3. Question: is a fire 7 the same as a kindle\n",
            "              Answer: True\n",
            "            4. Question: do ncaa division 2 schools offer athletic scholarships\n",
            "              Answer: False\n",
            "            5. Question: are back ribs same as baby back ribs\n",
            "              Answer: (true/false)\n",
            "             [/INST] Answer: True, both back ribs and baby back ribs come from the same part of the animal, which is the backbone area. The name \"baby back ribs\" comes from their size and tenderness, as they are typically smaller and more tender than other types of pork ribs.\n",
            "[{'role': 'user', 'content': 'Answer the fifth question with true or false\\n            1. Question: did ireland ever win the soccer world cup\\n              Answer: False\\n            2. Question: is there always a way to win solitaire\\n              Answer: False\\n            3. Question: is a fire 7 the same as a kindle\\n              Answer: True\\n            4. Question: do ncaa division 2 schools offer athletic scholarships\\n              Answer: False\\n            5. Question: is the southern tip of south america cold\\n              Answer: (true/false)\\n            '}]\n"
          ]
        },
        {
          "output_type": "stream",
          "name": "stderr",
          "text": [
            "The attention mask and the pad token id were not set. As a consequence, you may observe unexpected behavior. Please pass your input's `attention_mask` to obtain reliable results.\n",
            "Setting `pad_token_id` to `eos_token_id`:2 for open-end generation.\n"
          ]
        },
        {
          "output_type": "stream",
          "name": "stdout",
          "text": [
            "[INST] Answer the fifth question with true or false\n",
            "            1. Question: did ireland ever win the soccer world cup\n",
            "              Answer: False\n",
            "            2. Question: is there always a way to win solitaire\n",
            "              Answer: False\n",
            "            3. Question: is a fire 7 the same as a kindle\n",
            "              Answer: True\n",
            "            4. Question: do ncaa division 2 schools offer athletic scholarships\n",
            "              Answer: False\n",
            "            5. Question: is the southern tip of south america cold\n",
            "              Answer: (true/false)\n",
            "             [/INST] The answer is: False for question 5. The southern tip of South America is not always cold. Some areas, like Tierra del Fuego and Cape Horn, can have cold weather due to their high latitude and strong winds, but other areas, like Patagonia and the southern coast of Chile and Argentina, can have mild to warm temperatures.\n",
            "[{'role': 'user', 'content': 'Answer the fifth question with true or false\\n            1. Question: did ireland ever win the soccer world cup\\n              Answer: False\\n            2. Question: is there always a way to win solitaire\\n              Answer: False\\n            3. Question: is a fire 7 the same as a kindle\\n              Answer: True\\n            4. Question: do ncaa division 2 schools offer athletic scholarships\\n              Answer: False\\n            5. Question: do away goals count in the league playoffs\\n              Answer: (true/false)\\n            '}]\n"
          ]
        },
        {
          "output_type": "stream",
          "name": "stderr",
          "text": [
            "The attention mask and the pad token id were not set. As a consequence, you may observe unexpected behavior. Please pass your input's `attention_mask` to obtain reliable results.\n",
            "Setting `pad_token_id` to `eos_token_id`:2 for open-end generation.\n"
          ]
        },
        {
          "output_type": "stream",
          "name": "stdout",
          "text": [
            "[INST] Answer the fifth question with true or false\n",
            "            1. Question: did ireland ever win the soccer world cup\n",
            "              Answer: False\n",
            "            2. Question: is there always a way to win solitaire\n",
            "              Answer: False\n",
            "            3. Question: is a fire 7 the same as a kindle\n",
            "              Answer: True\n",
            "            4. Question: do ncaa division 2 schools offer athletic scholarships\n",
            "              Answer: False\n",
            "            5. Question: do away goals count in the league playoffs\n",
            "              Answer: (true/false)\n",
            "             [/INST] Answer: The answer to question 5 is \"True.\" In soccer, a goal scored during regular play is worth one point. However, if a match ends in a tie after 90 minutes, then the team that scores a goal during extra time or penalty shootouts will be declared the winner. This additional goal is often referred to as an \"away goal,\" as it is scored by the team playing away from their home stadium. In the context of league playoffs or knockout competitions, the away goals rule can be crucial in determining the outcome of a two-legged tie.\n",
            "[{'role': 'user', 'content': 'Answer the fifth question with true or false\\n            1. Question: did ireland ever win the soccer world cup\\n              Answer: False\\n            2. Question: is there always a way to win solitaire\\n              Answer: False\\n            3. Question: is a fire 7 the same as a kindle\\n              Answer: True\\n            4. Question: do ncaa division 2 schools offer athletic scholarships\\n              Answer: False\\n            5. Question: is black cumin seed same as black seed\\n              Answer: (true/false)\\n            '}]\n"
          ]
        },
        {
          "output_type": "stream",
          "name": "stderr",
          "text": [
            "The attention mask and the pad token id were not set. As a consequence, you may observe unexpected behavior. Please pass your input's `attention_mask` to obtain reliable results.\n",
            "Setting `pad_token_id` to `eos_token_id`:2 for open-end generation.\n"
          ]
        },
        {
          "output_type": "stream",
          "name": "stdout",
          "text": [
            "[INST] Answer the fifth question with true or false\n",
            "            1. Question: did ireland ever win the soccer world cup\n",
            "              Answer: False\n",
            "            2. Question: is there always a way to win solitaire\n",
            "              Answer: False\n",
            "            3. Question: is a fire 7 the same as a kindle\n",
            "              Answer: True\n",
            "            4. Question: do ncaa division 2 schools offer athletic scholarships\n",
            "              Answer: False\n",
            "            5. Question: is black cumin seed same as black seed\n",
            "              Answer: (true/false)\n",
            "             [/INST] Answer: True. Black seed and black cumin seed are often used interchangeably to refer to the same thing, which is the seed of the Nigella sativa plant.\n",
            "[{'role': 'user', 'content': 'Answer the fifth question with true or false\\n            1. Question: did ireland ever win the soccer world cup\\n              Answer: False\\n            2. Question: is there always a way to win solitaire\\n              Answer: False\\n            3. Question: is a fire 7 the same as a kindle\\n              Answer: True\\n            4. Question: do ncaa division 2 schools offer athletic scholarships\\n              Answer: False\\n            5. Question: have belgium ever reached the world cup final\\n              Answer: (true/false)\\n            '}]\n"
          ]
        },
        {
          "output_type": "stream",
          "name": "stderr",
          "text": [
            "The attention mask and the pad token id were not set. As a consequence, you may observe unexpected behavior. Please pass your input's `attention_mask` to obtain reliable results.\n",
            "Setting `pad_token_id` to `eos_token_id`:2 for open-end generation.\n"
          ]
        },
        {
          "output_type": "stream",
          "name": "stdout",
          "text": [
            "[INST] Answer the fifth question with true or false\n",
            "            1. Question: did ireland ever win the soccer world cup\n",
            "              Answer: False\n",
            "            2. Question: is there always a way to win solitaire\n",
            "              Answer: False\n",
            "            3. Question: is a fire 7 the same as a kindle\n",
            "              Answer: True\n",
            "            4. Question: do ncaa division 2 schools offer athletic scholarships\n",
            "              Answer: False\n",
            "            5. Question: have belgium ever reached the world cup final\n",
            "              Answer: (true/false)\n",
            "             [/INST] Belgium has reached the World Cup final once. They finished runners-up in the 1986 World Cup in Mexico. Therefore, the answer is:\n",
            "\n",
            "Answer: True.\n",
            "[{'role': 'user', 'content': 'Answer the fifth question with true or false\\n            1. Question: did ireland ever win the soccer world cup\\n              Answer: False\\n            2. Question: is there always a way to win solitaire\\n              Answer: False\\n            3. Question: is a fire 7 the same as a kindle\\n              Answer: True\\n            4. Question: do ncaa division 2 schools offer athletic scholarships\\n              Answer: False\\n            5. Question: does us have military bases in saudi arabia\\n              Answer: (true/false)\\n            '}]\n"
          ]
        },
        {
          "output_type": "stream",
          "name": "stderr",
          "text": [
            "The attention mask and the pad token id were not set. As a consequence, you may observe unexpected behavior. Please pass your input's `attention_mask` to obtain reliable results.\n",
            "Setting `pad_token_id` to `eos_token_id`:2 for open-end generation.\n"
          ]
        },
        {
          "output_type": "stream",
          "name": "stdout",
          "text": [
            "[INST] Answer the fifth question with true or false\n",
            "            1. Question: did ireland ever win the soccer world cup\n",
            "              Answer: False\n",
            "            2. Question: is there always a way to win solitaire\n",
            "              Answer: False\n",
            "            3. Question: is a fire 7 the same as a kindle\n",
            "              Answer: True\n",
            "            4. Question: do ncaa division 2 schools offer athletic scholarships\n",
            "              Answer: False\n",
            "            5. Question: does us have military bases in saudi arabia\n",
            "              Answer: (true/false)\n",
            "             [/INST] Answer: True. The United States does have military bases in Saudi Arabia.\n",
            "[{'role': 'user', 'content': 'Answer the fifth question with true or false\\n            1. Question: did ireland ever win the soccer world cup\\n              Answer: False\\n            2. Question: is there always a way to win solitaire\\n              Answer: False\\n            3. Question: is a fire 7 the same as a kindle\\n              Answer: True\\n            4. Question: do ncaa division 2 schools offer athletic scholarships\\n              Answer: False\\n            5. Question: does the florida constitution give a minimum age for legislators\\n              Answer: (true/false)\\n            '}]\n"
          ]
        },
        {
          "output_type": "stream",
          "name": "stderr",
          "text": [
            "The attention mask and the pad token id were not set. As a consequence, you may observe unexpected behavior. Please pass your input's `attention_mask` to obtain reliable results.\n",
            "Setting `pad_token_id` to `eos_token_id`:2 for open-end generation.\n"
          ]
        },
        {
          "output_type": "stream",
          "name": "stdout",
          "text": [
            "[INST] Answer the fifth question with true or false\n",
            "            1. Question: did ireland ever win the soccer world cup\n",
            "              Answer: False\n",
            "            2. Question: is there always a way to win solitaire\n",
            "              Answer: False\n",
            "            3. Question: is a fire 7 the same as a kindle\n",
            "              Answer: True\n",
            "            4. Question: do ncaa division 2 schools offer athletic scholarships\n",
            "              Answer: False\n",
            "            5. Question: does the florida constitution give a minimum age for legislators\n",
            "              Answer: (true/false)\n",
            "             [/INST] Answer: True. The Florida Constitution sets the minimum age for members of the Florida Senate at 21 years old and for members of the Florida House of Representatives at 18 years old. (Article III, Section 3(1) and (2)).\n",
            "[{'role': 'user', 'content': 'Answer the fifth question with true or false\\n            1. Question: did ireland ever win the soccer world cup\\n              Answer: False\\n            2. Question: is there always a way to win solitaire\\n              Answer: False\\n            3. Question: is a fire 7 the same as a kindle\\n              Answer: True\\n            4. Question: do ncaa division 2 schools offer athletic scholarships\\n              Answer: False\\n            5. Question: is the white cover on brie cheese edible\\n              Answer: (true/false)\\n            '}]\n"
          ]
        },
        {
          "output_type": "stream",
          "name": "stderr",
          "text": [
            "The attention mask and the pad token id were not set. As a consequence, you may observe unexpected behavior. Please pass your input's `attention_mask` to obtain reliable results.\n",
            "Setting `pad_token_id` to `eos_token_id`:2 for open-end generation.\n"
          ]
        },
        {
          "output_type": "stream",
          "name": "stdout",
          "text": [
            "[INST] Answer the fifth question with true or false\n",
            "            1. Question: did ireland ever win the soccer world cup\n",
            "              Answer: False\n",
            "            2. Question: is there always a way to win solitaire\n",
            "              Answer: False\n",
            "            3. Question: is a fire 7 the same as a kindle\n",
            "              Answer: True\n",
            "            4. Question: do ncaa division 2 schools offer athletic scholarships\n",
            "              Answer: False\n",
            "            5. Question: is the white cover on brie cheese edible\n",
            "              Answer: (true/false)\n",
            "             [/INST] Answer: True. The white rind or coating on Brie cheese is edible. It adds to the taste and texture of the cheese.\n",
            "[{'role': 'user', 'content': 'Answer the fifth question with true or false\\n            1. Question: did ireland ever win the soccer world cup\\n              Answer: False\\n            2. Question: is there always a way to win solitaire\\n              Answer: False\\n            3. Question: is a fire 7 the same as a kindle\\n              Answer: True\\n            4. Question: do ncaa division 2 schools offer athletic scholarships\\n              Answer: False\\n            5. Question: does each state have its own constitution australia\\n              Answer: (true/false)\\n            '}]\n"
          ]
        },
        {
          "output_type": "stream",
          "name": "stderr",
          "text": [
            "The attention mask and the pad token id were not set. As a consequence, you may observe unexpected behavior. Please pass your input's `attention_mask` to obtain reliable results.\n",
            "Setting `pad_token_id` to `eos_token_id`:2 for open-end generation.\n"
          ]
        },
        {
          "output_type": "stream",
          "name": "stdout",
          "text": [
            "[INST] Answer the fifth question with true or false\n",
            "            1. Question: did ireland ever win the soccer world cup\n",
            "              Answer: False\n",
            "            2. Question: is there always a way to win solitaire\n",
            "              Answer: False\n",
            "            3. Question: is a fire 7 the same as a kindle\n",
            "              Answer: True\n",
            "            4. Question: do ncaa division 2 schools offer athletic scholarships\n",
            "              Answer: False\n",
            "            5. Question: does each state have its own constitution australia\n",
            "              Answer: (true/false)\n",
            "             [/INST] Answer: False. In Australia, each state and territory has its own government and legislature, but they all operate under the Australian Constitution, which is the supreme law of the country. Therefore, while each state may have its own laws and regulations, they do not have their own constitutions in the same way that the United States has a federal constitution and state constitutions.\n",
            "[{'role': 'user', 'content': 'Answer the fifth question with true or false\\n            1. Question: did ireland ever win the soccer world cup\\n              Answer: False\\n            2. Question: is there always a way to win solitaire\\n              Answer: False\\n            3. Question: is a fire 7 the same as a kindle\\n              Answer: True\\n            4. Question: do ncaa division 2 schools offer athletic scholarships\\n              Answer: False\\n            5. Question: can i have multiple foreign keys in a table\\n              Answer: (true/false)\\n            '}]\n"
          ]
        },
        {
          "output_type": "stream",
          "name": "stderr",
          "text": [
            "The attention mask and the pad token id were not set. As a consequence, you may observe unexpected behavior. Please pass your input's `attention_mask` to obtain reliable results.\n",
            "Setting `pad_token_id` to `eos_token_id`:2 for open-end generation.\n"
          ]
        },
        {
          "output_type": "stream",
          "name": "stdout",
          "text": [
            "[INST] Answer the fifth question with true or false\n",
            "            1. Question: did ireland ever win the soccer world cup\n",
            "              Answer: False\n",
            "            2. Question: is there always a way to win solitaire\n",
            "              Answer: False\n",
            "            3. Question: is a fire 7 the same as a kindle\n",
            "              Answer: True\n",
            "            4. Question: do ncaa division 2 schools offer athletic scholarships\n",
            "              Answer: False\n",
            "            5. Question: can i have multiple foreign keys in a table\n",
            "              Answer: (true/false)\n",
            "             [/INST] Answer: True. In a relational database, you can have multiple foreign keys in a single table, each referencing a primary key in a different table. This is used to establish relationships between multiple entities in the database.\n",
            "[{'role': 'user', 'content': 'Answer the fifth question with true or false\\n            1. Question: did ireland ever win the soccer world cup\\n              Answer: False\\n            2. Question: is there always a way to win solitaire\\n              Answer: False\\n            3. Question: is a fire 7 the same as a kindle\\n              Answer: True\\n            4. Question: do ncaa division 2 schools offer athletic scholarships\\n              Answer: False\\n            5. Question: is there a delay of game in hockey\\n              Answer: (true/false)\\n            '}]\n"
          ]
        },
        {
          "output_type": "stream",
          "name": "stderr",
          "text": [
            "The attention mask and the pad token id were not set. As a consequence, you may observe unexpected behavior. Please pass your input's `attention_mask` to obtain reliable results.\n",
            "Setting `pad_token_id` to `eos_token_id`:2 for open-end generation.\n"
          ]
        },
        {
          "output_type": "stream",
          "name": "stdout",
          "text": [
            "[INST] Answer the fifth question with true or false\n",
            "            1. Question: did ireland ever win the soccer world cup\n",
            "              Answer: False\n",
            "            2. Question: is there always a way to win solitaire\n",
            "              Answer: False\n",
            "            3. Question: is a fire 7 the same as a kindle\n",
            "              Answer: True\n",
            "            4. Question: do ncaa division 2 schools offer athletic scholarships\n",
            "              Answer: False\n",
            "            5. Question: is there a delay of game in hockey\n",
            "              Answer: (true/false)\n",
            "             [/INST] Answer:\n",
            "Yes, the answer for question 5 is \"True\". In hockey, a delay of game penalty can be called when a team fails to keep the puck in their own defensive zone for a sufficient length of time or when they shoot the puck out of their own defensive zone over the boards. This results in a faceoff in the offensive zone for the opposing team.\n",
            "[{'role': 'user', 'content': 'Answer the fifth question with true or false\\n            1. Question: did ireland ever win the soccer world cup\\n              Answer: False\\n            2. Question: is there always a way to win solitaire\\n              Answer: False\\n            3. Question: is a fire 7 the same as a kindle\\n              Answer: True\\n            4. Question: do ncaa division 2 schools offer athletic scholarships\\n              Answer: False\\n            5. Question: do you need a permit to carry a gun in nh\\n              Answer: (true/false)\\n            '}]\n"
          ]
        },
        {
          "output_type": "stream",
          "name": "stderr",
          "text": [
            "The attention mask and the pad token id were not set. As a consequence, you may observe unexpected behavior. Please pass your input's `attention_mask` to obtain reliable results.\n",
            "Setting `pad_token_id` to `eos_token_id`:2 for open-end generation.\n"
          ]
        },
        {
          "output_type": "stream",
          "name": "stdout",
          "text": [
            "[INST] Answer the fifth question with true or false\n",
            "            1. Question: did ireland ever win the soccer world cup\n",
            "              Answer: False\n",
            "            2. Question: is there always a way to win solitaire\n",
            "              Answer: False\n",
            "            3. Question: is a fire 7 the same as a kindle\n",
            "              Answer: True\n",
            "            4. Question: do ncaa division 2 schools offer athletic scholarships\n",
            "              Answer: False\n",
            "            5. Question: do you need a permit to carry a gun in nh\n",
            "              Answer: (true/false)\n",
            "             [/INST] Answer: True, in the state of New Hampshire, you do need a permit to carry a gun. However, it's important to note that specific laws and requirements may vary, so it's always a good idea to check with local authorities or consult legal resources for the most accurate information.\n",
            "[{'role': 'user', 'content': 'Answer the fifth question with true or false\\n            1. Question: did ireland ever win the soccer world cup\\n              Answer: False\\n            2. Question: is there always a way to win solitaire\\n              Answer: False\\n            3. Question: is a fire 7 the same as a kindle\\n              Answer: True\\n            4. Question: do ncaa division 2 schools offer athletic scholarships\\n              Answer: False\\n            5. Question: is los lobos in the rock and roll hall of fame\\n              Answer: (true/false)\\n            '}]\n",
            "[INST] Answer the fifth question with true or false\n",
            "            1. Question: did ireland ever win the soccer world cup\n",
            "              Answer: False\n",
            "            2. Question: is there always a way to win solitaire\n",
            "              Answer: False\n",
            "            3. Question: is a fire 7 the same as a kindle\n",
            "              Answer: True\n",
            "            4. Question: do ncaa division 2 schools offer athletic scholarships\n",
            "              Answer: False\n",
            "            5. Question: is los lobos in the rock and roll hall of fame\n",
            "              Answer: (true/false)\n",
            "             [/INST] Answer: False, Los Lobos is not in the Rock and Roll Hall of Fame.\n"
          ]
        }
      ]
    },
    {
      "cell_type": "code",
      "source": [
        "answers_F[0]"
      ],
      "metadata": {
        "colab": {
          "base_uri": "https://localhost:8080/",
          "height": 191
        },
        "id": "sWFJhK2KUfUM",
        "outputId": "11a97a60-0b83-4234-a4f4-2003eb570333"
      },
      "id": "sWFJhK2KUfUM",
      "execution_count": 91,
      "outputs": [
        {
          "output_type": "execute_result",
          "data": {
            "text/plain": [
              "'[INST] Answer the fifth question with true or false\\n            1. Question: did ireland ever win the soccer world cup\\n              Answer: False\\n            2. Question: is there always a way to win solitaire\\n              Answer: False\\n            3. Question: is a fire 7 the same as a kindle\\n              Answer: True\\n            4. Question: do ncaa division 2 schools offer athletic scholarships\\n              Answer: False\\n            5. Question: is the vice president the head of the senate\\n              Answer: (true/false)\\n             [/INST] The Vice President is not the head of the Senate. The Vice President serves as the President of the Senate, but only has a vote in the event of a tie. The Senate is presided over by the Senate President or, in the absence of the President, by the Senate Pro Tempore.'"
            ],
            "application/vnd.google.colaboratory.intrinsic+json": {
              "type": "string"
            }
          },
          "metadata": {},
          "execution_count": 91
        }
      ]
    },
    {
      "cell_type": "code",
      "source": [
        "import re\n",
        "\n",
        "post_F = []\n",
        "pattern_inst = re.compile(r'INST', re.IGNORECASE)\n",
        "pattern_tf = re.compile(r'\\b(true|false)\\b', re.IGNORECASE)\n",
        "\n",
        "for answer_text in answers_F:\n",
        "    # Find all occurrences of \"INST\"\n",
        "    inst_matches = [match for match in pattern_inst.finditer(answer_text)]\n",
        "    # Find all occurrences of \"true\" or \"false\"\n",
        "    tf_matches = [match for match in pattern_tf.finditer(answer_text)]\n",
        "\n",
        "    if len(inst_matches) >= 2 and tf_matches:\n",
        "        # Get the end position of the second \"INST\"\n",
        "        second_inst_end_pos = inst_matches[1].end()\n",
        "\n",
        "        # Search for \"true\" or \"false\" after the second \"INST\"\n",
        "        match_tf = pattern_tf.search(answer_text, second_inst_end_pos)\n",
        "\n",
        "        if match_tf:\n",
        "            # If found after the second \"INST\", append this match\n",
        "            post_F.append(match_tf.group(1))\n",
        "        else:\n",
        "            # If not found after the second \"INST\", append the last occurrence of \"true\" or \"false\"\n",
        "            post_F.append(tf_matches[-1].group(1))\n",
        "    elif tf_matches:\n",
        "        # If \"INST\" is not found or less than 2, but \"true\" or \"false\" is found, append the last occurrence\n",
        "        post_F.append(tf_matches[-1].group(1))\n",
        "    else:\n",
        "        # If neither \"INST\" nor \"true\" or \"false\" are found\n",
        "        post_F.append(\"未找到\")\n",
        "\n",
        "print(post_F)\n"
      ],
      "metadata": {
        "id": "3c8NpN6E78rC",
        "colab": {
          "base_uri": "https://localhost:8080/"
        },
        "outputId": "2a911ab7-549e-4954-a5a3-e53a98f8927e"
      },
      "id": "3c8NpN6E78rC",
      "execution_count": 92,
      "outputs": [
        {
          "output_type": "stream",
          "name": "stdout",
          "text": [
            "['false', 'False', 'True', 'False', 'True', 'True', 'True', 'True', 'False', 'True', 'True', 'True', 'True', 'True', 'True', 'False', 'True', 'True', 'True', 'False']\n"
          ]
        }
      ]
    },
    {
      "cell_type": "code",
      "source": [
        "bool_pre=[]\n",
        "for i in range(0,20):\n",
        "  prediction = post_F[i].lower() == 'true'\n",
        "  bool_pre.append(prediction)\n",
        "bool_pre"
      ],
      "metadata": {
        "id": "qnroA1aQ8lKy",
        "colab": {
          "base_uri": "https://localhost:8080/"
        },
        "outputId": "6df90fb3-9d91-4e50-a164-c2889a164098"
      },
      "id": "qnroA1aQ8lKy",
      "execution_count": 93,
      "outputs": [
        {
          "output_type": "execute_result",
          "data": {
            "text/plain": [
              "[False,\n",
              " False,\n",
              " True,\n",
              " False,\n",
              " True,\n",
              " True,\n",
              " True,\n",
              " True,\n",
              " False,\n",
              " True,\n",
              " True,\n",
              " True,\n",
              " True,\n",
              " True,\n",
              " True,\n",
              " False,\n",
              " True,\n",
              " True,\n",
              " True,\n",
              " False]"
            ]
          },
          "metadata": {},
          "execution_count": 93
        }
      ]
    },
    {
      "cell_type": "code",
      "source": [
        "def evaluate_answers(true_answers, predictions):\n",
        "\n",
        "    assert len(true_answers) == len(predictions)\n",
        "\n",
        "    total_questions = len(true_answers)\n",
        "    matched_count = 0\n",
        "\n",
        "    for true_answer, prediction in zip(true_answers, predictions):\n",
        "\n",
        "        if true_answer == prediction:\n",
        "            matched_count += 1\n",
        "\n",
        "    score= (matched_count / 20) * 100\n",
        "\n",
        "    return score\n",
        "print(evaluate_answers(df_sample['answer'], bool_pre))"
      ],
      "metadata": {
        "id": "_yHQDSJN8Szn",
        "colab": {
          "base_uri": "https://localhost:8080/"
        },
        "outputId": "41ee7110-af1f-4b0c-86de-86387a13fdd7"
      },
      "id": "_yHQDSJN8Szn",
      "execution_count": 94,
      "outputs": [
        {
          "output_type": "stream",
          "name": "stdout",
          "text": [
            "70.0\n"
          ]
        }
      ]
    },
    {
      "cell_type": "code",
      "source": [
        "import pandas as pd\n",
        "f = pd.DataFrame({\"answers_F\": answers_F})\n",
        "f.to_csv(\"answers_F.csv\", index=False)"
      ],
      "metadata": {
        "id": "slR5j4fi9PFL"
      },
      "id": "slR5j4fi9PFL",
      "execution_count": 95,
      "outputs": []
    },
    {
      "cell_type": "markdown",
      "source": [
        "Chain-of-Thought Prompting"
      ],
      "metadata": {
        "id": "EK1aqmf33fCe"
      },
      "id": "EK1aqmf33fCe"
    },
    {
      "cell_type": "code",
      "source": [
        "answers_C = []\n",
        "\n",
        "idy=random.sample(range(1, 3270), 4)\n",
        "\n",
        "for i in range(0, 20):\n",
        "    messages_C = [\n",
        "        {\n",
        "            \"role\": \"user\",\n",
        "            \"content\": f'''Answer the forth question with true or false,Answer format must be:Answer 4 is (True or False)\n",
        "            1. Question: {df[\"validation\"][idy[0]]['question']}\n",
        "              Answer: {df[\"validation\"][idy[0]]['answer']},Because:{df[\"validation\"][idy[0]]['passage']}\n",
        "            2. Question: {df[\"validation\"][idy[1]]['question']}\n",
        "              Answer: {df[\"validation\"][idy[1]]['answer']},Because:{df[\"validation\"][idy[1]]['passage']}\n",
        "            3. Question: {df[\"validation\"][idy[2]]['question']}\n",
        "              Answer: {df[\"validation\"][idy[2]]['answer']},Because:{df[\"validation\"][idy[2]]['passage']}\n",
        "            4. Question: {df_sample['question'][i]}\n",
        "              Answer: (true/false)\n",
        "            '''\n",
        "        }\n",
        "    ]\n",
        "    print(messages_C)\n",
        "    answersc=get_answer(tokenizer,model,messages_C)[0]\n",
        "    print(answersc)\n",
        "    answers_C.append(answersc)"
      ],
      "metadata": {
        "id": "rigna50o3eXE",
        "colab": {
          "base_uri": "https://localhost:8080/"
        },
        "outputId": "0ae938fb-fee4-4420-d7db-a9ba7a572e26"
      },
      "id": "rigna50o3eXE",
      "execution_count": 34,
      "outputs": [
        {
          "output_type": "stream",
          "name": "stderr",
          "text": [
            "The attention mask and the pad token id were not set. As a consequence, you may observe unexpected behavior. Please pass your input's `attention_mask` to obtain reliable results.\n",
            "Setting `pad_token_id` to `eos_token_id`:2 for open-end generation.\n"
          ]
        },
        {
          "output_type": "stream",
          "name": "stdout",
          "text": [
            "[{'role': 'user', 'content': \"Answer the forth question with true or false,Answer format must be:Answer 4 is (True or False)\\n            1. Question: does every state have a good samaritan law\\n              Answer: True,Because:All 50 states and the District of Columbia have some type of Good Samaritan law. The details of good Samaritan laws/acts vary by jurisdiction, including who is protected from liability and under what circumstances.\\n            2. Question: can picking your nose affect your sense of smell\\n              Answer: False,Because:Picking one's nose with dirty fingers or fingernails may increase risks of infection that may include an increase in the diversity of nose flora (and thus infection or illness), or occasional nosebleeds. One case of rhinotillexomania resulted in perforation of the nasal septum and self-induced ethmoidectomy. Nose picking, however, should not affect the sense of smell, as the nasal cavity where the olfactory nerves are located is too high up to reach.\\n            3. Question: have the san jose sharks won a stanley cup\\n              Answer: False,Because:The Sharks were founded in 1991 and were the first NHL franchise based in the San Francisco Bay Area since the California Golden Seals relocated to Cleveland in 1976. The Sharks have advanced to the Stanley Cup Finals once, losing to the Pittsburgh Penguins in 2016. They have won the Presidents' Trophy once, as the team with the league's best regular season record in the 2008--09 season. They have also won six division titles as a member of the Pacific Division since 1993.\\n            4. Question: is the vice president the head of the senate\\n              Answer: (true/false)\\n            \"}]\n"
          ]
        },
        {
          "output_type": "stream",
          "name": "stderr",
          "text": [
            "The attention mask and the pad token id were not set. As a consequence, you may observe unexpected behavior. Please pass your input's `attention_mask` to obtain reliable results.\n",
            "Setting `pad_token_id` to `eos_token_id`:2 for open-end generation.\n"
          ]
        },
        {
          "output_type": "stream",
          "name": "stdout",
          "text": [
            "[INST] Answer the forth question with true or false,Answer format must be:Answer 4 is (True or False)\n",
            "            1. Question: does every state have a good samaritan law\n",
            "              Answer: True,Because:All 50 states and the District of Columbia have some type of Good Samaritan law. The details of good Samaritan laws/acts vary by jurisdiction, including who is protected from liability and under what circumstances.\n",
            "            2. Question: can picking your nose affect your sense of smell\n",
            "              Answer: False,Because:Picking one's nose with dirty fingers or fingernails may increase risks of infection that may include an increase in the diversity of nose flora (and thus infection or illness), or occasional nosebleeds. One case of rhinotillexomania resulted in perforation of the nasal septum and self-induced ethmoidectomy. Nose picking, however, should not affect the sense of smell, as the nasal cavity where the olfactory nerves are located is too high up to reach.\n",
            "            3. Question: have the san jose sharks won a stanley cup\n",
            "              Answer: False,Because:The Sharks were founded in 1991 and were the first NHL franchise based in the San Francisco Bay Area since the California Golden Seals relocated to Cleveland in 1976. The Sharks have advanced to the Stanley Cup Finals once, losing to the Pittsburgh Penguins in 2016. They have won the Presidents' Trophy once, as the team with the league's best regular season record in the 2008--09 season. They have also won six division titles as a member of the Pacific Division since 1993.\n",
            "            4. Question: is the vice president the head of the senate\n",
            "              Answer: (true/false)\n",
            "             [/INST] Answer 4 is False, Because: The Vice President is not the head of the Senate. The Vice President serves as a member of the Senate representing their home state and can cast tie-breaking votes, but they do not have any special powers or authority over the Senate as a whole. The President of the Senate is the presiding officer of the Senate, who is traditionally the Senate Pro Tempore or the Senate Majority Leader.\n",
            "[{'role': 'user', 'content': \"Answer the forth question with true or false,Answer format must be:Answer 4 is (True or False)\\n            1. Question: does every state have a good samaritan law\\n              Answer: True,Because:All 50 states and the District of Columbia have some type of Good Samaritan law. The details of good Samaritan laws/acts vary by jurisdiction, including who is protected from liability and under what circumstances.\\n            2. Question: can picking your nose affect your sense of smell\\n              Answer: False,Because:Picking one's nose with dirty fingers or fingernails may increase risks of infection that may include an increase in the diversity of nose flora (and thus infection or illness), or occasional nosebleeds. One case of rhinotillexomania resulted in perforation of the nasal septum and self-induced ethmoidectomy. Nose picking, however, should not affect the sense of smell, as the nasal cavity where the olfactory nerves are located is too high up to reach.\\n            3. Question: have the san jose sharks won a stanley cup\\n              Answer: False,Because:The Sharks were founded in 1991 and were the first NHL franchise based in the San Francisco Bay Area since the California Golden Seals relocated to Cleveland in 1976. The Sharks have advanced to the Stanley Cup Finals once, losing to the Pittsburgh Penguins in 2016. They have won the Presidents' Trophy once, as the team with the league's best regular season record in the 2008--09 season. They have also won six division titles as a member of the Pacific Division since 1993.\\n            4. Question: can i get $1 000 bill from the bank\\n              Answer: (true/false)\\n            \"}]\n"
          ]
        },
        {
          "output_type": "stream",
          "name": "stderr",
          "text": [
            "The attention mask and the pad token id were not set. As a consequence, you may observe unexpected behavior. Please pass your input's `attention_mask` to obtain reliable results.\n",
            "Setting `pad_token_id` to `eos_token_id`:2 for open-end generation.\n"
          ]
        },
        {
          "output_type": "stream",
          "name": "stdout",
          "text": [
            "[INST] Answer the forth question with true or false,Answer format must be:Answer 4 is (True or False)\n",
            "            1. Question: does every state have a good samaritan law\n",
            "              Answer: True,Because:All 50 states and the District of Columbia have some type of Good Samaritan law. The details of good Samaritan laws/acts vary by jurisdiction, including who is protected from liability and under what circumstances.\n",
            "            2. Question: can picking your nose affect your sense of smell\n",
            "              Answer: False,Because:Picking one's nose with dirty fingers or fingernails may increase risks of infection that may include an increase in the diversity of nose flora (and thus infection or illness), or occasional nosebleeds. One case of rhinotillexomania resulted in perforation of the nasal septum and self-induced ethmoidectomy. Nose picking, however, should not affect the sense of smell, as the nasal cavity where the olfactory nerves are located is too high up to reach.\n",
            "            3. Question: have the san jose sharks won a stanley cup\n",
            "              Answer: False,Because:The Sharks were founded in 1991 and were the first NHL franchise based in the San Francisco Bay Area since the California Golden Seals relocated to Cleveland in 1976. The Sharks have advanced to the Stanley Cup Finals once, losing to the Pittsburgh Penguins in 2016. They have won the Presidents' Trophy once, as the team with the league's best regular season record in the 2008--09 season. They have also won six division titles as a member of the Pacific Division since 1993.\n",
            "            4. Question: can i get $1 000 bill from the bank\n",
            "              Answer: (true/false)\n",
            "             [/INST] False, Because: The United States $1,000 bill was last printed in 1945 and was officially withdrawn from circulation in 1969. Since then, the Federal Reserve has not produced or circulated any $1,000 bills. However, some extremely rare, uncirculated $1,000 bills may still exist in private collections.\n",
            "[{'role': 'user', 'content': \"Answer the forth question with true or false,Answer format must be:Answer 4 is (True or False)\\n            1. Question: does every state have a good samaritan law\\n              Answer: True,Because:All 50 states and the District of Columbia have some type of Good Samaritan law. The details of good Samaritan laws/acts vary by jurisdiction, including who is protected from liability and under what circumstances.\\n            2. Question: can picking your nose affect your sense of smell\\n              Answer: False,Because:Picking one's nose with dirty fingers or fingernails may increase risks of infection that may include an increase in the diversity of nose flora (and thus infection or illness), or occasional nosebleeds. One case of rhinotillexomania resulted in perforation of the nasal septum and self-induced ethmoidectomy. Nose picking, however, should not affect the sense of smell, as the nasal cavity where the olfactory nerves are located is too high up to reach.\\n            3. Question: have the san jose sharks won a stanley cup\\n              Answer: False,Because:The Sharks were founded in 1991 and were the first NHL franchise based in the San Francisco Bay Area since the California Golden Seals relocated to Cleveland in 1976. The Sharks have advanced to the Stanley Cup Finals once, losing to the Pittsburgh Penguins in 2016. They have won the Presidents' Trophy once, as the team with the league's best regular season record in the 2008--09 season. They have also won six division titles as a member of the Pacific Division since 1993.\\n            4. Question: were any civil war battles fought in florida\\n              Answer: (true/false)\\n            \"}]\n"
          ]
        },
        {
          "output_type": "stream",
          "name": "stderr",
          "text": [
            "The attention mask and the pad token id were not set. As a consequence, you may observe unexpected behavior. Please pass your input's `attention_mask` to obtain reliable results.\n",
            "Setting `pad_token_id` to `eos_token_id`:2 for open-end generation.\n"
          ]
        },
        {
          "output_type": "stream",
          "name": "stdout",
          "text": [
            "[INST] Answer the forth question with true or false,Answer format must be:Answer 4 is (True or False)\n",
            "            1. Question: does every state have a good samaritan law\n",
            "              Answer: True,Because:All 50 states and the District of Columbia have some type of Good Samaritan law. The details of good Samaritan laws/acts vary by jurisdiction, including who is protected from liability and under what circumstances.\n",
            "            2. Question: can picking your nose affect your sense of smell\n",
            "              Answer: False,Because:Picking one's nose with dirty fingers or fingernails may increase risks of infection that may include an increase in the diversity of nose flora (and thus infection or illness), or occasional nosebleeds. One case of rhinotillexomania resulted in perforation of the nasal septum and self-induced ethmoidectomy. Nose picking, however, should not affect the sense of smell, as the nasal cavity where the olfactory nerves are located is too high up to reach.\n",
            "            3. Question: have the san jose sharks won a stanley cup\n",
            "              Answer: False,Because:The Sharks were founded in 1991 and were the first NHL franchise based in the San Francisco Bay Area since the California Golden Seals relocated to Cleveland in 1976. The Sharks have advanced to the Stanley Cup Finals once, losing to the Pittsburgh Penguins in 2016. They have won the Presidents' Trophy once, as the team with the league's best regular season record in the 2008--09 season. They have also won six division titles as a member of the Pacific Division since 1993.\n",
            "            4. Question: were any civil war battles fought in florida\n",
            "              Answer: (true/false)\n",
            "             [/INST] Answer 4 is True.\n",
            "\n",
            "Florida played a significant role in the American Civil War, with several important battles being fought there. Some of the most notable battles include:\n",
            "\n",
            "1. Battle of Dade City (December 28, 1862)\n",
            "2. Battle of Olustee (February 20, 1864)\n",
            "3. Battle of Natural Bridge (March 30, 1865)\n",
            "4. Battle of the Wilderness (May 5-7, 1864) - although not fought entirely in Florida, it is noteworthy as it was the largest battle fought during the Civil War and involved Confederate forces that were present in Florida.\n",
            "\n",
            "These battles had significant impacts on the outcome of the war and the eventual Union victory.\n",
            "[{'role': 'user', 'content': \"Answer the forth question with true or false,Answer format must be:Answer 4 is (True or False)\\n            1. Question: does every state have a good samaritan law\\n              Answer: True,Because:All 50 states and the District of Columbia have some type of Good Samaritan law. The details of good Samaritan laws/acts vary by jurisdiction, including who is protected from liability and under what circumstances.\\n            2. Question: can picking your nose affect your sense of smell\\n              Answer: False,Because:Picking one's nose with dirty fingers or fingernails may increase risks of infection that may include an increase in the diversity of nose flora (and thus infection or illness), or occasional nosebleeds. One case of rhinotillexomania resulted in perforation of the nasal septum and self-induced ethmoidectomy. Nose picking, however, should not affect the sense of smell, as the nasal cavity where the olfactory nerves are located is too high up to reach.\\n            3. Question: have the san jose sharks won a stanley cup\\n              Answer: False,Because:The Sharks were founded in 1991 and were the first NHL franchise based in the San Francisco Bay Area since the California Golden Seals relocated to Cleveland in 1976. The Sharks have advanced to the Stanley Cup Finals once, losing to the Pittsburgh Penguins in 2016. They have won the Presidents' Trophy once, as the team with the league's best regular season record in the 2008--09 season. They have also won six division titles as a member of the Pacific Division since 1993.\\n            4. Question: is a chipmunk the same as a ground squirrel\\n              Answer: (true/false)\\n            \"}]\n"
          ]
        },
        {
          "output_type": "stream",
          "name": "stderr",
          "text": [
            "The attention mask and the pad token id were not set. As a consequence, you may observe unexpected behavior. Please pass your input's `attention_mask` to obtain reliable results.\n",
            "Setting `pad_token_id` to `eos_token_id`:2 for open-end generation.\n"
          ]
        },
        {
          "output_type": "stream",
          "name": "stdout",
          "text": [
            "[INST] Answer the forth question with true or false,Answer format must be:Answer 4 is (True or False)\n",
            "            1. Question: does every state have a good samaritan law\n",
            "              Answer: True,Because:All 50 states and the District of Columbia have some type of Good Samaritan law. The details of good Samaritan laws/acts vary by jurisdiction, including who is protected from liability and under what circumstances.\n",
            "            2. Question: can picking your nose affect your sense of smell\n",
            "              Answer: False,Because:Picking one's nose with dirty fingers or fingernails may increase risks of infection that may include an increase in the diversity of nose flora (and thus infection or illness), or occasional nosebleeds. One case of rhinotillexomania resulted in perforation of the nasal septum and self-induced ethmoidectomy. Nose picking, however, should not affect the sense of smell, as the nasal cavity where the olfactory nerves are located is too high up to reach.\n",
            "            3. Question: have the san jose sharks won a stanley cup\n",
            "              Answer: False,Because:The Sharks were founded in 1991 and were the first NHL franchise based in the San Francisco Bay Area since the California Golden Seals relocated to Cleveland in 1976. The Sharks have advanced to the Stanley Cup Finals once, losing to the Pittsburgh Penguins in 2016. They have won the Presidents' Trophy once, as the team with the league's best regular season record in the 2008--09 season. They have also won six division titles as a member of the Pacific Division since 1993.\n",
            "            4. Question: is a chipmunk the same as a ground squirrel\n",
            "              Answer: (true/false)\n",
            "             [/INST] Answer 4 is False,Because: A chipmunk is a type of ground squirrel, but it is not the same species as all ground squirrels. Chipmunks belong to the genus Tamias, while ground squirrels belong to various genera, such as Aitios, Citellus, and Xerus. Chipmunks are characterized by their striped body, short limbs, and a stocky build, while ground squirrels come in various sizes, shapes, and colors. Chipmunks are also omnivores, while ground squirrels are primarily herbivorous or omnivorous.\n",
            "[{'role': 'user', 'content': \"Answer the forth question with true or false,Answer format must be:Answer 4 is (True or False)\\n            1. Question: does every state have a good samaritan law\\n              Answer: True,Because:All 50 states and the District of Columbia have some type of Good Samaritan law. The details of good Samaritan laws/acts vary by jurisdiction, including who is protected from liability and under what circumstances.\\n            2. Question: can picking your nose affect your sense of smell\\n              Answer: False,Because:Picking one's nose with dirty fingers or fingernails may increase risks of infection that may include an increase in the diversity of nose flora (and thus infection or illness), or occasional nosebleeds. One case of rhinotillexomania resulted in perforation of the nasal septum and self-induced ethmoidectomy. Nose picking, however, should not affect the sense of smell, as the nasal cavity where the olfactory nerves are located is too high up to reach.\\n            3. Question: have the san jose sharks won a stanley cup\\n              Answer: False,Because:The Sharks were founded in 1991 and were the first NHL franchise based in the San Francisco Bay Area since the California Golden Seals relocated to Cleveland in 1976. The Sharks have advanced to the Stanley Cup Finals once, losing to the Pittsburgh Penguins in 2016. They have won the Presidents' Trophy once, as the team with the league's best regular season record in the 2008--09 season. They have also won six division titles as a member of the Pacific Division since 1993.\\n            4. Question: is russell brand singing in get him to the greek\\n              Answer: (true/false)\\n            \"}]\n"
          ]
        },
        {
          "output_type": "stream",
          "name": "stderr",
          "text": [
            "The attention mask and the pad token id were not set. As a consequence, you may observe unexpected behavior. Please pass your input's `attention_mask` to obtain reliable results.\n",
            "Setting `pad_token_id` to `eos_token_id`:2 for open-end generation.\n"
          ]
        },
        {
          "output_type": "stream",
          "name": "stdout",
          "text": [
            "[INST] Answer the forth question with true or false,Answer format must be:Answer 4 is (True or False)\n",
            "            1. Question: does every state have a good samaritan law\n",
            "              Answer: True,Because:All 50 states and the District of Columbia have some type of Good Samaritan law. The details of good Samaritan laws/acts vary by jurisdiction, including who is protected from liability and under what circumstances.\n",
            "            2. Question: can picking your nose affect your sense of smell\n",
            "              Answer: False,Because:Picking one's nose with dirty fingers or fingernails may increase risks of infection that may include an increase in the diversity of nose flora (and thus infection or illness), or occasional nosebleeds. One case of rhinotillexomania resulted in perforation of the nasal septum and self-induced ethmoidectomy. Nose picking, however, should not affect the sense of smell, as the nasal cavity where the olfactory nerves are located is too high up to reach.\n",
            "            3. Question: have the san jose sharks won a stanley cup\n",
            "              Answer: False,Because:The Sharks were founded in 1991 and were the first NHL franchise based in the San Francisco Bay Area since the California Golden Seals relocated to Cleveland in 1976. The Sharks have advanced to the Stanley Cup Finals once, losing to the Pittsburgh Penguins in 2016. They have won the Presidents' Trophy once, as the team with the league's best regular season record in the 2008--09 season. They have also won six division titles as a member of the Pacific Division since 1993.\n",
            "            4. Question: is russell brand singing in get him to the greek\n",
            "              Answer: (true/false)\n",
            "             [/INST] Answer 4 is True. In the 2010 film \"Get Him to the Greek,\" Russell Brand plays the role of Aldous Snow, a rock star whose personal assistant, played by Jonas Hill, is tasked with bringing him to a concert in Los Angeles. Throughout the film, Aldous Snow performs several songs.\n",
            "[{'role': 'user', 'content': \"Answer the forth question with true or false,Answer format must be:Answer 4 is (True or False)\\n            1. Question: does every state have a good samaritan law\\n              Answer: True,Because:All 50 states and the District of Columbia have some type of Good Samaritan law. The details of good Samaritan laws/acts vary by jurisdiction, including who is protected from liability and under what circumstances.\\n            2. Question: can picking your nose affect your sense of smell\\n              Answer: False,Because:Picking one's nose with dirty fingers or fingernails may increase risks of infection that may include an increase in the diversity of nose flora (and thus infection or illness), or occasional nosebleeds. One case of rhinotillexomania resulted in perforation of the nasal septum and self-induced ethmoidectomy. Nose picking, however, should not affect the sense of smell, as the nasal cavity where the olfactory nerves are located is too high up to reach.\\n            3. Question: have the san jose sharks won a stanley cup\\n              Answer: False,Because:The Sharks were founded in 1991 and were the first NHL franchise based in the San Francisco Bay Area since the California Golden Seals relocated to Cleveland in 1976. The Sharks have advanced to the Stanley Cup Finals once, losing to the Pittsburgh Penguins in 2016. They have won the Presidents' Trophy once, as the team with the league's best regular season record in the 2008--09 season. They have also won six division titles as a member of the Pacific Division since 1993.\\n            4. Question: is there goal line technology in the world cup\\n              Answer: (true/false)\\n            \"}]\n"
          ]
        },
        {
          "output_type": "stream",
          "name": "stderr",
          "text": [
            "The attention mask and the pad token id were not set. As a consequence, you may observe unexpected behavior. Please pass your input's `attention_mask` to obtain reliable results.\n",
            "Setting `pad_token_id` to `eos_token_id`:2 for open-end generation.\n"
          ]
        },
        {
          "output_type": "stream",
          "name": "stdout",
          "text": [
            "[INST] Answer the forth question with true or false,Answer format must be:Answer 4 is (True or False)\n",
            "            1. Question: does every state have a good samaritan law\n",
            "              Answer: True,Because:All 50 states and the District of Columbia have some type of Good Samaritan law. The details of good Samaritan laws/acts vary by jurisdiction, including who is protected from liability and under what circumstances.\n",
            "            2. Question: can picking your nose affect your sense of smell\n",
            "              Answer: False,Because:Picking one's nose with dirty fingers or fingernails may increase risks of infection that may include an increase in the diversity of nose flora (and thus infection or illness), or occasional nosebleeds. One case of rhinotillexomania resulted in perforation of the nasal septum and self-induced ethmoidectomy. Nose picking, however, should not affect the sense of smell, as the nasal cavity where the olfactory nerves are located is too high up to reach.\n",
            "            3. Question: have the san jose sharks won a stanley cup\n",
            "              Answer: False,Because:The Sharks were founded in 1991 and were the first NHL franchise based in the San Francisco Bay Area since the California Golden Seals relocated to Cleveland in 1976. The Sharks have advanced to the Stanley Cup Finals once, losing to the Pittsburgh Penguins in 2016. They have won the Presidents' Trophy once, as the team with the league's best regular season record in the 2008--09 season. They have also won six division titles as a member of the Pacific Division since 1993.\n",
            "            4. Question: is there goal line technology in the world cup\n",
            "              Answer: (true/false)\n",
            "             [/INST] Answer 4 is True.\n",
            "Since the 2014 FIFA World Cup, goal-line technology has been used in the FIFA World Cup to determine whether a goal has been scored or not. The technology uses a combination of Hawk-Eye ball-tracking technology and a sensor system installed in the goalposts to identify when the entire ball has crossed the goal line. This technology was introduced to eliminate goals that were incorrectly disallowed due to the human error of the referee.\n",
            "[{'role': 'user', 'content': \"Answer the forth question with true or false,Answer format must be:Answer 4 is (True or False)\\n            1. Question: does every state have a good samaritan law\\n              Answer: True,Because:All 50 states and the District of Columbia have some type of Good Samaritan law. The details of good Samaritan laws/acts vary by jurisdiction, including who is protected from liability and under what circumstances.\\n            2. Question: can picking your nose affect your sense of smell\\n              Answer: False,Because:Picking one's nose with dirty fingers or fingernails may increase risks of infection that may include an increase in the diversity of nose flora (and thus infection or illness), or occasional nosebleeds. One case of rhinotillexomania resulted in perforation of the nasal septum and self-induced ethmoidectomy. Nose picking, however, should not affect the sense of smell, as the nasal cavity where the olfactory nerves are located is too high up to reach.\\n            3. Question: have the san jose sharks won a stanley cup\\n              Answer: False,Because:The Sharks were founded in 1991 and were the first NHL franchise based in the San Francisco Bay Area since the California Golden Seals relocated to Cleveland in 1976. The Sharks have advanced to the Stanley Cup Finals once, losing to the Pittsburgh Penguins in 2016. They have won the Presidents' Trophy once, as the team with the league's best regular season record in the 2008--09 season. They have also won six division titles as a member of the Pacific Division since 1993.\\n            4. Question: is boss baby back in business on netflix\\n              Answer: (true/false)\\n            \"}]\n"
          ]
        },
        {
          "output_type": "stream",
          "name": "stderr",
          "text": [
            "The attention mask and the pad token id were not set. As a consequence, you may observe unexpected behavior. Please pass your input's `attention_mask` to obtain reliable results.\n",
            "Setting `pad_token_id` to `eos_token_id`:2 for open-end generation.\n"
          ]
        },
        {
          "output_type": "stream",
          "name": "stdout",
          "text": [
            "[INST] Answer the forth question with true or false,Answer format must be:Answer 4 is (True or False)\n",
            "            1. Question: does every state have a good samaritan law\n",
            "              Answer: True,Because:All 50 states and the District of Columbia have some type of Good Samaritan law. The details of good Samaritan laws/acts vary by jurisdiction, including who is protected from liability and under what circumstances.\n",
            "            2. Question: can picking your nose affect your sense of smell\n",
            "              Answer: False,Because:Picking one's nose with dirty fingers or fingernails may increase risks of infection that may include an increase in the diversity of nose flora (and thus infection or illness), or occasional nosebleeds. One case of rhinotillexomania resulted in perforation of the nasal septum and self-induced ethmoidectomy. Nose picking, however, should not affect the sense of smell, as the nasal cavity where the olfactory nerves are located is too high up to reach.\n",
            "            3. Question: have the san jose sharks won a stanley cup\n",
            "              Answer: False,Because:The Sharks were founded in 1991 and were the first NHL franchise based in the San Francisco Bay Area since the California Golden Seals relocated to Cleveland in 1976. The Sharks have advanced to the Stanley Cup Finals once, losing to the Pittsburgh Penguins in 2016. They have won the Presidents' Trophy once, as the team with the league's best regular season record in the 2008--09 season. They have also won six division titles as a member of the Pacific Division since 1993.\n",
            "            4. Question: is boss baby back in business on netflix\n",
            "              Answer: (true/false)\n",
            "             [/INST] Answer 4 is True. \"Boss Baby: Back in Business\" is a Netflix original animated series based on the 2017 DreamWorks Animation film \"The Boss Baby.\" The show follows the adventures of the titular character, a baby with a briefcase, as he runs his family's business, Baby Corp., with the help of his older brother and a baby sister.\n",
            "[{'role': 'user', 'content': \"Answer the forth question with true or false,Answer format must be:Answer 4 is (True or False)\\n            1. Question: does every state have a good samaritan law\\n              Answer: True,Because:All 50 states and the District of Columbia have some type of Good Samaritan law. The details of good Samaritan laws/acts vary by jurisdiction, including who is protected from liability and under what circumstances.\\n            2. Question: can picking your nose affect your sense of smell\\n              Answer: False,Because:Picking one's nose with dirty fingers or fingernails may increase risks of infection that may include an increase in the diversity of nose flora (and thus infection or illness), or occasional nosebleeds. One case of rhinotillexomania resulted in perforation of the nasal septum and self-induced ethmoidectomy. Nose picking, however, should not affect the sense of smell, as the nasal cavity where the olfactory nerves are located is too high up to reach.\\n            3. Question: have the san jose sharks won a stanley cup\\n              Answer: False,Because:The Sharks were founded in 1991 and were the first NHL franchise based in the San Francisco Bay Area since the California Golden Seals relocated to Cleveland in 1976. The Sharks have advanced to the Stanley Cup Finals once, losing to the Pittsburgh Penguins in 2016. They have won the Presidents' Trophy once, as the team with the league's best regular season record in the 2008--09 season. They have also won six division titles as a member of the Pacific Division since 1993.\\n            4. Question: are back ribs same as baby back ribs\\n              Answer: (true/false)\\n            \"}]\n"
          ]
        },
        {
          "output_type": "stream",
          "name": "stderr",
          "text": [
            "The attention mask and the pad token id were not set. As a consequence, you may observe unexpected behavior. Please pass your input's `attention_mask` to obtain reliable results.\n",
            "Setting `pad_token_id` to `eos_token_id`:2 for open-end generation.\n"
          ]
        },
        {
          "output_type": "stream",
          "name": "stdout",
          "text": [
            "[INST] Answer the forth question with true or false,Answer format must be:Answer 4 is (True or False)\n",
            "            1. Question: does every state have a good samaritan law\n",
            "              Answer: True,Because:All 50 states and the District of Columbia have some type of Good Samaritan law. The details of good Samaritan laws/acts vary by jurisdiction, including who is protected from liability and under what circumstances.\n",
            "            2. Question: can picking your nose affect your sense of smell\n",
            "              Answer: False,Because:Picking one's nose with dirty fingers or fingernails may increase risks of infection that may include an increase in the diversity of nose flora (and thus infection or illness), or occasional nosebleeds. One case of rhinotillexomania resulted in perforation of the nasal septum and self-induced ethmoidectomy. Nose picking, however, should not affect the sense of smell, as the nasal cavity where the olfactory nerves are located is too high up to reach.\n",
            "            3. Question: have the san jose sharks won a stanley cup\n",
            "              Answer: False,Because:The Sharks were founded in 1991 and were the first NHL franchise based in the San Francisco Bay Area since the California Golden Seals relocated to Cleveland in 1976. The Sharks have advanced to the Stanley Cup Finals once, losing to the Pittsburgh Penguins in 2016. They have won the Presidents' Trophy once, as the team with the league's best regular season record in the 2008--09 season. They have also won six division titles as a member of the Pacific Division since 1993.\n",
            "            4. Question: are back ribs same as baby back ribs\n",
            "              Answer: (true/false)\n",
            "             [/INST] Answer 4 is: False, Because: Back ribs and baby back ribs are not the same thing. Back ribs refer to pork ribs cut from the back of the hog, specifically the upper portion of the spine, which includes the vertebrae and the long, curved rib bones. Baby back ribs, on the other hand, are a specific type of back ribs, cut from the lower part of the back ribs, closer to the belly of the hog. Baby back ribs are called \"baby\" because they are smaller in size compared to the larger, meatier back ribs. Both cuts are delicious and popular for barbecuing, but they have distinct differences in taste, texture, and cooking methods.\n",
            "[{'role': 'user', 'content': \"Answer the forth question with true or false,Answer format must be:Answer 4 is (True or False)\\n            1. Question: does every state have a good samaritan law\\n              Answer: True,Because:All 50 states and the District of Columbia have some type of Good Samaritan law. The details of good Samaritan laws/acts vary by jurisdiction, including who is protected from liability and under what circumstances.\\n            2. Question: can picking your nose affect your sense of smell\\n              Answer: False,Because:Picking one's nose with dirty fingers or fingernails may increase risks of infection that may include an increase in the diversity of nose flora (and thus infection or illness), or occasional nosebleeds. One case of rhinotillexomania resulted in perforation of the nasal septum and self-induced ethmoidectomy. Nose picking, however, should not affect the sense of smell, as the nasal cavity where the olfactory nerves are located is too high up to reach.\\n            3. Question: have the san jose sharks won a stanley cup\\n              Answer: False,Because:The Sharks were founded in 1991 and were the first NHL franchise based in the San Francisco Bay Area since the California Golden Seals relocated to Cleveland in 1976. The Sharks have advanced to the Stanley Cup Finals once, losing to the Pittsburgh Penguins in 2016. They have won the Presidents' Trophy once, as the team with the league's best regular season record in the 2008--09 season. They have also won six division titles as a member of the Pacific Division since 1993.\\n            4. Question: is the southern tip of south america cold\\n              Answer: (true/false)\\n            \"}]\n"
          ]
        },
        {
          "output_type": "stream",
          "name": "stderr",
          "text": [
            "The attention mask and the pad token id were not set. As a consequence, you may observe unexpected behavior. Please pass your input's `attention_mask` to obtain reliable results.\n",
            "Setting `pad_token_id` to `eos_token_id`:2 for open-end generation.\n"
          ]
        },
        {
          "output_type": "stream",
          "name": "stdout",
          "text": [
            "[INST] Answer the forth question with true or false,Answer format must be:Answer 4 is (True or False)\n",
            "            1. Question: does every state have a good samaritan law\n",
            "              Answer: True,Because:All 50 states and the District of Columbia have some type of Good Samaritan law. The details of good Samaritan laws/acts vary by jurisdiction, including who is protected from liability and under what circumstances.\n",
            "            2. Question: can picking your nose affect your sense of smell\n",
            "              Answer: False,Because:Picking one's nose with dirty fingers or fingernails may increase risks of infection that may include an increase in the diversity of nose flora (and thus infection or illness), or occasional nosebleeds. One case of rhinotillexomania resulted in perforation of the nasal septum and self-induced ethmoidectomy. Nose picking, however, should not affect the sense of smell, as the nasal cavity where the olfactory nerves are located is too high up to reach.\n",
            "            3. Question: have the san jose sharks won a stanley cup\n",
            "              Answer: False,Because:The Sharks were founded in 1991 and were the first NHL franchise based in the San Francisco Bay Area since the California Golden Seals relocated to Cleveland in 1976. The Sharks have advanced to the Stanley Cup Finals once, losing to the Pittsburgh Penguins in 2016. They have won the Presidents' Trophy once, as the team with the league's best regular season record in the 2008--09 season. They have also won six division titles as a member of the Pacific Division since 1993.\n",
            "            4. Question: is the southern tip of south america cold\n",
            "              Answer: (true/false)\n",
            "             [/INST] Answer 4 is False,Because:The southern tip of South America is not generally considered to be a cold region. In fact, the southernmost tip of South America, known as Tierra del Fuego, has a temperate rainforest climate with mild temperatures and frequent rainfall. The region is known for its high levels of rainfall and strong winds, but it is not typically considered to be a cold region.\n",
            "[{'role': 'user', 'content': \"Answer the forth question with true or false,Answer format must be:Answer 4 is (True or False)\\n            1. Question: does every state have a good samaritan law\\n              Answer: True,Because:All 50 states and the District of Columbia have some type of Good Samaritan law. The details of good Samaritan laws/acts vary by jurisdiction, including who is protected from liability and under what circumstances.\\n            2. Question: can picking your nose affect your sense of smell\\n              Answer: False,Because:Picking one's nose with dirty fingers or fingernails may increase risks of infection that may include an increase in the diversity of nose flora (and thus infection or illness), or occasional nosebleeds. One case of rhinotillexomania resulted in perforation of the nasal septum and self-induced ethmoidectomy. Nose picking, however, should not affect the sense of smell, as the nasal cavity where the olfactory nerves are located is too high up to reach.\\n            3. Question: have the san jose sharks won a stanley cup\\n              Answer: False,Because:The Sharks were founded in 1991 and were the first NHL franchise based in the San Francisco Bay Area since the California Golden Seals relocated to Cleveland in 1976. The Sharks have advanced to the Stanley Cup Finals once, losing to the Pittsburgh Penguins in 2016. They have won the Presidents' Trophy once, as the team with the league's best regular season record in the 2008--09 season. They have also won six division titles as a member of the Pacific Division since 1993.\\n            4. Question: do away goals count in the league playoffs\\n              Answer: (true/false)\\n            \"}]\n"
          ]
        },
        {
          "output_type": "stream",
          "name": "stderr",
          "text": [
            "The attention mask and the pad token id were not set. As a consequence, you may observe unexpected behavior. Please pass your input's `attention_mask` to obtain reliable results.\n",
            "Setting `pad_token_id` to `eos_token_id`:2 for open-end generation.\n"
          ]
        },
        {
          "output_type": "stream",
          "name": "stdout",
          "text": [
            "[INST] Answer the forth question with true or false,Answer format must be:Answer 4 is (True or False)\n",
            "            1. Question: does every state have a good samaritan law\n",
            "              Answer: True,Because:All 50 states and the District of Columbia have some type of Good Samaritan law. The details of good Samaritan laws/acts vary by jurisdiction, including who is protected from liability and under what circumstances.\n",
            "            2. Question: can picking your nose affect your sense of smell\n",
            "              Answer: False,Because:Picking one's nose with dirty fingers or fingernails may increase risks of infection that may include an increase in the diversity of nose flora (and thus infection or illness), or occasional nosebleeds. One case of rhinotillexomania resulted in perforation of the nasal septum and self-induced ethmoidectomy. Nose picking, however, should not affect the sense of smell, as the nasal cavity where the olfactory nerves are located is too high up to reach.\n",
            "            3. Question: have the san jose sharks won a stanley cup\n",
            "              Answer: False,Because:The Sharks were founded in 1991 and were the first NHL franchise based in the San Francisco Bay Area since the California Golden Seals relocated to Cleveland in 1976. The Sharks have advanced to the Stanley Cup Finals once, losing to the Pittsburgh Penguins in 2016. They have won the Presidents' Trophy once, as the team with the league's best regular season record in the 2008--09 season. They have also won six division titles as a member of the Pacific Division since 1993.\n",
            "            4. Question: do away goals count in the league playoffs\n",
            "              Answer: (true/false)\n",
            "             [/INST] Answer 4 is True. In ice hockey, a goal scored as a result of an opposition team committing a penalty or an offense that results in a power play, is called a \"power play goal.\" In the National Hockey League (NHL) playoffs, a goal scored during a power play that also results in a player being put in the penalty box (minor or major penalty) is called a \"short-handed goal.\" If a team scores a goal while they have more than one skater in the penalty box, it is called a \"shorthanded goal\" or a \"shorthanded, power-play goal\" if it is also scored during a power play. A \"shorthanded, power-play goal\" is also referred to as a \"short-handed, power-play, game-winning goal\" if it is the final goal scored in a game. In the NHL playoffs, a goal scored during a power play while an opponent has\n",
            "[{'role': 'user', 'content': \"Answer the forth question with true or false,Answer format must be:Answer 4 is (True or False)\\n            1. Question: does every state have a good samaritan law\\n              Answer: True,Because:All 50 states and the District of Columbia have some type of Good Samaritan law. The details of good Samaritan laws/acts vary by jurisdiction, including who is protected from liability and under what circumstances.\\n            2. Question: can picking your nose affect your sense of smell\\n              Answer: False,Because:Picking one's nose with dirty fingers or fingernails may increase risks of infection that may include an increase in the diversity of nose flora (and thus infection or illness), or occasional nosebleeds. One case of rhinotillexomania resulted in perforation of the nasal septum and self-induced ethmoidectomy. Nose picking, however, should not affect the sense of smell, as the nasal cavity where the olfactory nerves are located is too high up to reach.\\n            3. Question: have the san jose sharks won a stanley cup\\n              Answer: False,Because:The Sharks were founded in 1991 and were the first NHL franchise based in the San Francisco Bay Area since the California Golden Seals relocated to Cleveland in 1976. The Sharks have advanced to the Stanley Cup Finals once, losing to the Pittsburgh Penguins in 2016. They have won the Presidents' Trophy once, as the team with the league's best regular season record in the 2008--09 season. They have also won six division titles as a member of the Pacific Division since 1993.\\n            4. Question: is black cumin seed same as black seed\\n              Answer: (true/false)\\n            \"}]\n"
          ]
        },
        {
          "output_type": "stream",
          "name": "stderr",
          "text": [
            "The attention mask and the pad token id were not set. As a consequence, you may observe unexpected behavior. Please pass your input's `attention_mask` to obtain reliable results.\n",
            "Setting `pad_token_id` to `eos_token_id`:2 for open-end generation.\n"
          ]
        },
        {
          "output_type": "stream",
          "name": "stdout",
          "text": [
            "[INST] Answer the forth question with true or false,Answer format must be:Answer 4 is (True or False)\n",
            "            1. Question: does every state have a good samaritan law\n",
            "              Answer: True,Because:All 50 states and the District of Columbia have some type of Good Samaritan law. The details of good Samaritan laws/acts vary by jurisdiction, including who is protected from liability and under what circumstances.\n",
            "            2. Question: can picking your nose affect your sense of smell\n",
            "              Answer: False,Because:Picking one's nose with dirty fingers or fingernails may increase risks of infection that may include an increase in the diversity of nose flora (and thus infection or illness), or occasional nosebleeds. One case of rhinotillexomania resulted in perforation of the nasal septum and self-induced ethmoidectomy. Nose picking, however, should not affect the sense of smell, as the nasal cavity where the olfactory nerves are located is too high up to reach.\n",
            "            3. Question: have the san jose sharks won a stanley cup\n",
            "              Answer: False,Because:The Sharks were founded in 1991 and were the first NHL franchise based in the San Francisco Bay Area since the California Golden Seals relocated to Cleveland in 1976. The Sharks have advanced to the Stanley Cup Finals once, losing to the Pittsburgh Penguins in 2016. They have won the Presidents' Trophy once, as the team with the league's best regular season record in the 2008--09 season. They have also won six division titles as a member of the Pacific Division since 1993.\n",
            "            4. Question: is black cumin seed same as black seed\n",
            "              Answer: (true/false)\n",
            "             [/INST] Answer 4 is True. Black seed and black cumin seed are the same thing. The term \"black seed\" or \"black cumin\" refers to the seeds of the Nigella sativa plant, which is native to southwestern Asia and the eastern Mediterranean region. The seeds have been used in traditional medicine for thousands of years and are known for their antioxidant and anti-inflammatory properties. The common name \"black seed\" or \"black cumin\" comes from the seeds' dark color and the plant's cumin-like appearance.\n",
            "[{'role': 'user', 'content': \"Answer the forth question with true or false,Answer format must be:Answer 4 is (True or False)\\n            1. Question: does every state have a good samaritan law\\n              Answer: True,Because:All 50 states and the District of Columbia have some type of Good Samaritan law. The details of good Samaritan laws/acts vary by jurisdiction, including who is protected from liability and under what circumstances.\\n            2. Question: can picking your nose affect your sense of smell\\n              Answer: False,Because:Picking one's nose with dirty fingers or fingernails may increase risks of infection that may include an increase in the diversity of nose flora (and thus infection or illness), or occasional nosebleeds. One case of rhinotillexomania resulted in perforation of the nasal septum and self-induced ethmoidectomy. Nose picking, however, should not affect the sense of smell, as the nasal cavity where the olfactory nerves are located is too high up to reach.\\n            3. Question: have the san jose sharks won a stanley cup\\n              Answer: False,Because:The Sharks were founded in 1991 and were the first NHL franchise based in the San Francisco Bay Area since the California Golden Seals relocated to Cleveland in 1976. The Sharks have advanced to the Stanley Cup Finals once, losing to the Pittsburgh Penguins in 2016. They have won the Presidents' Trophy once, as the team with the league's best regular season record in the 2008--09 season. They have also won six division titles as a member of the Pacific Division since 1993.\\n            4. Question: have belgium ever reached the world cup final\\n              Answer: (true/false)\\n            \"}]\n"
          ]
        },
        {
          "output_type": "stream",
          "name": "stderr",
          "text": [
            "The attention mask and the pad token id were not set. As a consequence, you may observe unexpected behavior. Please pass your input's `attention_mask` to obtain reliable results.\n",
            "Setting `pad_token_id` to `eos_token_id`:2 for open-end generation.\n"
          ]
        },
        {
          "output_type": "stream",
          "name": "stdout",
          "text": [
            "[INST] Answer the forth question with true or false,Answer format must be:Answer 4 is (True or False)\n",
            "            1. Question: does every state have a good samaritan law\n",
            "              Answer: True,Because:All 50 states and the District of Columbia have some type of Good Samaritan law. The details of good Samaritan laws/acts vary by jurisdiction, including who is protected from liability and under what circumstances.\n",
            "            2. Question: can picking your nose affect your sense of smell\n",
            "              Answer: False,Because:Picking one's nose with dirty fingers or fingernails may increase risks of infection that may include an increase in the diversity of nose flora (and thus infection or illness), or occasional nosebleeds. One case of rhinotillexomania resulted in perforation of the nasal septum and self-induced ethmoidectomy. Nose picking, however, should not affect the sense of smell, as the nasal cavity where the olfactory nerves are located is too high up to reach.\n",
            "            3. Question: have the san jose sharks won a stanley cup\n",
            "              Answer: False,Because:The Sharks were founded in 1991 and were the first NHL franchise based in the San Francisco Bay Area since the California Golden Seals relocated to Cleveland in 1976. The Sharks have advanced to the Stanley Cup Finals once, losing to the Pittsburgh Penguins in 2016. They have won the Presidents' Trophy once, as the team with the league's best regular season record in the 2008--09 season. They have also won six division titles as a member of the Pacific Division since 1993.\n",
            "            4. Question: have belgium ever reached the world cup final\n",
            "              Answer: (true/false)\n",
            "             [/INST] Answer 4 is True. Belgium has reached the World Cup final once, in 1986. They lost to Argentina in the final match, with Diego Maradona scoring the famous \"Hand of God\" goal. Belgium has also reached the semifinals twice, in 1930 and 2018.\n",
            "[{'role': 'user', 'content': \"Answer the forth question with true or false,Answer format must be:Answer 4 is (True or False)\\n            1. Question: does every state have a good samaritan law\\n              Answer: True,Because:All 50 states and the District of Columbia have some type of Good Samaritan law. The details of good Samaritan laws/acts vary by jurisdiction, including who is protected from liability and under what circumstances.\\n            2. Question: can picking your nose affect your sense of smell\\n              Answer: False,Because:Picking one's nose with dirty fingers or fingernails may increase risks of infection that may include an increase in the diversity of nose flora (and thus infection or illness), or occasional nosebleeds. One case of rhinotillexomania resulted in perforation of the nasal septum and self-induced ethmoidectomy. Nose picking, however, should not affect the sense of smell, as the nasal cavity where the olfactory nerves are located is too high up to reach.\\n            3. Question: have the san jose sharks won a stanley cup\\n              Answer: False,Because:The Sharks were founded in 1991 and were the first NHL franchise based in the San Francisco Bay Area since the California Golden Seals relocated to Cleveland in 1976. The Sharks have advanced to the Stanley Cup Finals once, losing to the Pittsburgh Penguins in 2016. They have won the Presidents' Trophy once, as the team with the league's best regular season record in the 2008--09 season. They have also won six division titles as a member of the Pacific Division since 1993.\\n            4. Question: does us have military bases in saudi arabia\\n              Answer: (true/false)\\n            \"}]\n"
          ]
        },
        {
          "output_type": "stream",
          "name": "stderr",
          "text": [
            "The attention mask and the pad token id were not set. As a consequence, you may observe unexpected behavior. Please pass your input's `attention_mask` to obtain reliable results.\n",
            "Setting `pad_token_id` to `eos_token_id`:2 for open-end generation.\n"
          ]
        },
        {
          "output_type": "stream",
          "name": "stdout",
          "text": [
            "[INST] Answer the forth question with true or false,Answer format must be:Answer 4 is (True or False)\n",
            "            1. Question: does every state have a good samaritan law\n",
            "              Answer: True,Because:All 50 states and the District of Columbia have some type of Good Samaritan law. The details of good Samaritan laws/acts vary by jurisdiction, including who is protected from liability and under what circumstances.\n",
            "            2. Question: can picking your nose affect your sense of smell\n",
            "              Answer: False,Because:Picking one's nose with dirty fingers or fingernails may increase risks of infection that may include an increase in the diversity of nose flora (and thus infection or illness), or occasional nosebleeds. One case of rhinotillexomania resulted in perforation of the nasal septum and self-induced ethmoidectomy. Nose picking, however, should not affect the sense of smell, as the nasal cavity where the olfactory nerves are located is too high up to reach.\n",
            "            3. Question: have the san jose sharks won a stanley cup\n",
            "              Answer: False,Because:The Sharks were founded in 1991 and were the first NHL franchise based in the San Francisco Bay Area since the California Golden Seals relocated to Cleveland in 1976. The Sharks have advanced to the Stanley Cup Finals once, losing to the Pittsburgh Penguins in 2016. They have won the Presidents' Trophy once, as the team with the league's best regular season record in the 2008--09 season. They have also won six division titles as a member of the Pacific Division since 1993.\n",
            "            4. Question: does us have military bases in saudi arabia\n",
            "              Answer: (true/false)\n",
            "             [/INST] Answer 4 is True.\n",
            "\n",
            "The United States has had a military presence in Saudi Arabia since the Gulf War in 1990. The presence is primarily for the protection of the Saudi Arabian government and its oil infrastructure. The largest US military installation in Saudi Arabia is the King Khalid Military City, located in the Tabuk region in northwestern Saudi Arabia. The US also operates the King Abdulaziz Air Base, near the Red Sea city of Jeddah, and the Prince Sultan Air Base, near Riyadh. The US maintains a significant military presence in the country to ensure the security of the strategic partnership between the two nations.\n",
            "[{'role': 'user', 'content': \"Answer the forth question with true or false,Answer format must be:Answer 4 is (True or False)\\n            1. Question: does every state have a good samaritan law\\n              Answer: True,Because:All 50 states and the District of Columbia have some type of Good Samaritan law. The details of good Samaritan laws/acts vary by jurisdiction, including who is protected from liability and under what circumstances.\\n            2. Question: can picking your nose affect your sense of smell\\n              Answer: False,Because:Picking one's nose with dirty fingers or fingernails may increase risks of infection that may include an increase in the diversity of nose flora (and thus infection or illness), or occasional nosebleeds. One case of rhinotillexomania resulted in perforation of the nasal septum and self-induced ethmoidectomy. Nose picking, however, should not affect the sense of smell, as the nasal cavity where the olfactory nerves are located is too high up to reach.\\n            3. Question: have the san jose sharks won a stanley cup\\n              Answer: False,Because:The Sharks were founded in 1991 and were the first NHL franchise based in the San Francisco Bay Area since the California Golden Seals relocated to Cleveland in 1976. The Sharks have advanced to the Stanley Cup Finals once, losing to the Pittsburgh Penguins in 2016. They have won the Presidents' Trophy once, as the team with the league's best regular season record in the 2008--09 season. They have also won six division titles as a member of the Pacific Division since 1993.\\n            4. Question: does the florida constitution give a minimum age for legislators\\n              Answer: (true/false)\\n            \"}]\n"
          ]
        },
        {
          "output_type": "stream",
          "name": "stderr",
          "text": [
            "The attention mask and the pad token id were not set. As a consequence, you may observe unexpected behavior. Please pass your input's `attention_mask` to obtain reliable results.\n",
            "Setting `pad_token_id` to `eos_token_id`:2 for open-end generation.\n"
          ]
        },
        {
          "output_type": "stream",
          "name": "stdout",
          "text": [
            "[INST] Answer the forth question with true or false,Answer format must be:Answer 4 is (True or False)\n",
            "            1. Question: does every state have a good samaritan law\n",
            "              Answer: True,Because:All 50 states and the District of Columbia have some type of Good Samaritan law. The details of good Samaritan laws/acts vary by jurisdiction, including who is protected from liability and under what circumstances.\n",
            "            2. Question: can picking your nose affect your sense of smell\n",
            "              Answer: False,Because:Picking one's nose with dirty fingers or fingernails may increase risks of infection that may include an increase in the diversity of nose flora (and thus infection or illness), or occasional nosebleeds. One case of rhinotillexomania resulted in perforation of the nasal septum and self-induced ethmoidectomy. Nose picking, however, should not affect the sense of smell, as the nasal cavity where the olfactory nerves are located is too high up to reach.\n",
            "            3. Question: have the san jose sharks won a stanley cup\n",
            "              Answer: False,Because:The Sharks were founded in 1991 and were the first NHL franchise based in the San Francisco Bay Area since the California Golden Seals relocated to Cleveland in 1976. The Sharks have advanced to the Stanley Cup Finals once, losing to the Pittsburgh Penguins in 2016. They have won the Presidents' Trophy once, as the team with the league's best regular season record in the 2008--09 season. They have also won six division titles as a member of the Pacific Division since 1993.\n",
            "            4. Question: does the florida constitution give a minimum age for legislators\n",
            "              Answer: (true/false)\n",
            "             [/INST] Answer 4 is True. The Florida Constitution sets the minimum age for members of the Florida Senate at 21 years old and for members of the Florida House of Representatives at 25 years old. (Article III, Section 11(b) and (c), respectively).\n",
            "[{'role': 'user', 'content': \"Answer the forth question with true or false,Answer format must be:Answer 4 is (True or False)\\n            1. Question: does every state have a good samaritan law\\n              Answer: True,Because:All 50 states and the District of Columbia have some type of Good Samaritan law. The details of good Samaritan laws/acts vary by jurisdiction, including who is protected from liability and under what circumstances.\\n            2. Question: can picking your nose affect your sense of smell\\n              Answer: False,Because:Picking one's nose with dirty fingers or fingernails may increase risks of infection that may include an increase in the diversity of nose flora (and thus infection or illness), or occasional nosebleeds. One case of rhinotillexomania resulted in perforation of the nasal septum and self-induced ethmoidectomy. Nose picking, however, should not affect the sense of smell, as the nasal cavity where the olfactory nerves are located is too high up to reach.\\n            3. Question: have the san jose sharks won a stanley cup\\n              Answer: False,Because:The Sharks were founded in 1991 and were the first NHL franchise based in the San Francisco Bay Area since the California Golden Seals relocated to Cleveland in 1976. The Sharks have advanced to the Stanley Cup Finals once, losing to the Pittsburgh Penguins in 2016. They have won the Presidents' Trophy once, as the team with the league's best regular season record in the 2008--09 season. They have also won six division titles as a member of the Pacific Division since 1993.\\n            4. Question: is the white cover on brie cheese edible\\n              Answer: (true/false)\\n            \"}]\n"
          ]
        },
        {
          "output_type": "stream",
          "name": "stderr",
          "text": [
            "The attention mask and the pad token id were not set. As a consequence, you may observe unexpected behavior. Please pass your input's `attention_mask` to obtain reliable results.\n",
            "Setting `pad_token_id` to `eos_token_id`:2 for open-end generation.\n"
          ]
        },
        {
          "output_type": "stream",
          "name": "stdout",
          "text": [
            "[INST] Answer the forth question with true or false,Answer format must be:Answer 4 is (True or False)\n",
            "            1. Question: does every state have a good samaritan law\n",
            "              Answer: True,Because:All 50 states and the District of Columbia have some type of Good Samaritan law. The details of good Samaritan laws/acts vary by jurisdiction, including who is protected from liability and under what circumstances.\n",
            "            2. Question: can picking your nose affect your sense of smell\n",
            "              Answer: False,Because:Picking one's nose with dirty fingers or fingernails may increase risks of infection that may include an increase in the diversity of nose flora (and thus infection or illness), or occasional nosebleeds. One case of rhinotillexomania resulted in perforation of the nasal septum and self-induced ethmoidectomy. Nose picking, however, should not affect the sense of smell, as the nasal cavity where the olfactory nerves are located is too high up to reach.\n",
            "            3. Question: have the san jose sharks won a stanley cup\n",
            "              Answer: False,Because:The Sharks were founded in 1991 and were the first NHL franchise based in the San Francisco Bay Area since the California Golden Seals relocated to Cleveland in 1976. The Sharks have advanced to the Stanley Cup Finals once, losing to the Pittsburgh Penguins in 2016. They have won the Presidents' Trophy once, as the team with the league's best regular season record in the 2008--09 season. They have also won six division titles as a member of the Pacific Division since 1993.\n",
            "            4. Question: is the white cover on brie cheese edible\n",
            "              Answer: (true/false)\n",
            "             [/INST] Answer 4 is True.\n",
            "\n",
            "The white rind or mold that forms on Brie cheese is edible and is an essential part of the cheese. The rind contributes to the flavor and aroma of the cheese. It is often consumed along with the rest of the cheese, but some people choose to remove it before eating.\n",
            "[{'role': 'user', 'content': \"Answer the forth question with true or false,Answer format must be:Answer 4 is (True or False)\\n            1. Question: does every state have a good samaritan law\\n              Answer: True,Because:All 50 states and the District of Columbia have some type of Good Samaritan law. The details of good Samaritan laws/acts vary by jurisdiction, including who is protected from liability and under what circumstances.\\n            2. Question: can picking your nose affect your sense of smell\\n              Answer: False,Because:Picking one's nose with dirty fingers or fingernails may increase risks of infection that may include an increase in the diversity of nose flora (and thus infection or illness), or occasional nosebleeds. One case of rhinotillexomania resulted in perforation of the nasal septum and self-induced ethmoidectomy. Nose picking, however, should not affect the sense of smell, as the nasal cavity where the olfactory nerves are located is too high up to reach.\\n            3. Question: have the san jose sharks won a stanley cup\\n              Answer: False,Because:The Sharks were founded in 1991 and were the first NHL franchise based in the San Francisco Bay Area since the California Golden Seals relocated to Cleveland in 1976. The Sharks have advanced to the Stanley Cup Finals once, losing to the Pittsburgh Penguins in 2016. They have won the Presidents' Trophy once, as the team with the league's best regular season record in the 2008--09 season. They have also won six division titles as a member of the Pacific Division since 1993.\\n            4. Question: does each state have its own constitution australia\\n              Answer: (true/false)\\n            \"}]\n"
          ]
        },
        {
          "output_type": "stream",
          "name": "stderr",
          "text": [
            "The attention mask and the pad token id were not set. As a consequence, you may observe unexpected behavior. Please pass your input's `attention_mask` to obtain reliable results.\n",
            "Setting `pad_token_id` to `eos_token_id`:2 for open-end generation.\n"
          ]
        },
        {
          "output_type": "stream",
          "name": "stdout",
          "text": [
            "[INST] Answer the forth question with true or false,Answer format must be:Answer 4 is (True or False)\n",
            "            1. Question: does every state have a good samaritan law\n",
            "              Answer: True,Because:All 50 states and the District of Columbia have some type of Good Samaritan law. The details of good Samaritan laws/acts vary by jurisdiction, including who is protected from liability and under what circumstances.\n",
            "            2. Question: can picking your nose affect your sense of smell\n",
            "              Answer: False,Because:Picking one's nose with dirty fingers or fingernails may increase risks of infection that may include an increase in the diversity of nose flora (and thus infection or illness), or occasional nosebleeds. One case of rhinotillexomania resulted in perforation of the nasal septum and self-induced ethmoidectomy. Nose picking, however, should not affect the sense of smell, as the nasal cavity where the olfactory nerves are located is too high up to reach.\n",
            "            3. Question: have the san jose sharks won a stanley cup\n",
            "              Answer: False,Because:The Sharks were founded in 1991 and were the first NHL franchise based in the San Francisco Bay Area since the California Golden Seals relocated to Cleveland in 1976. The Sharks have advanced to the Stanley Cup Finals once, losing to the Pittsburgh Penguins in 2016. They have won the Presidents' Trophy once, as the team with the league's best regular season record in the 2008--09 season. They have also won six division titles as a member of the Pacific Division since 1993.\n",
            "            4. Question: does each state have its own constitution australia\n",
            "              Answer: (true/false)\n",
            "             [/INST] Answer 4 is False, Because:\n",
            "In the United States, each state has its own constitution, but Australia is a single country with a federal constitution. The Australian Constitution, which was ratified in 1900, establishes the framework for the national government, while each state has its own constitution or set of laws that govern its internal affairs.\n",
            "[{'role': 'user', 'content': \"Answer the forth question with true or false,Answer format must be:Answer 4 is (True or False)\\n            1. Question: does every state have a good samaritan law\\n              Answer: True,Because:All 50 states and the District of Columbia have some type of Good Samaritan law. The details of good Samaritan laws/acts vary by jurisdiction, including who is protected from liability and under what circumstances.\\n            2. Question: can picking your nose affect your sense of smell\\n              Answer: False,Because:Picking one's nose with dirty fingers or fingernails may increase risks of infection that may include an increase in the diversity of nose flora (and thus infection or illness), or occasional nosebleeds. One case of rhinotillexomania resulted in perforation of the nasal septum and self-induced ethmoidectomy. Nose picking, however, should not affect the sense of smell, as the nasal cavity where the olfactory nerves are located is too high up to reach.\\n            3. Question: have the san jose sharks won a stanley cup\\n              Answer: False,Because:The Sharks were founded in 1991 and were the first NHL franchise based in the San Francisco Bay Area since the California Golden Seals relocated to Cleveland in 1976. The Sharks have advanced to the Stanley Cup Finals once, losing to the Pittsburgh Penguins in 2016. They have won the Presidents' Trophy once, as the team with the league's best regular season record in the 2008--09 season. They have also won six division titles as a member of the Pacific Division since 1993.\\n            4. Question: can i have multiple foreign keys in a table\\n              Answer: (true/false)\\n            \"}]\n"
          ]
        },
        {
          "output_type": "stream",
          "name": "stderr",
          "text": [
            "The attention mask and the pad token id were not set. As a consequence, you may observe unexpected behavior. Please pass your input's `attention_mask` to obtain reliable results.\n",
            "Setting `pad_token_id` to `eos_token_id`:2 for open-end generation.\n"
          ]
        },
        {
          "output_type": "stream",
          "name": "stdout",
          "text": [
            "[INST] Answer the forth question with true or false,Answer format must be:Answer 4 is (True or False)\n",
            "            1. Question: does every state have a good samaritan law\n",
            "              Answer: True,Because:All 50 states and the District of Columbia have some type of Good Samaritan law. The details of good Samaritan laws/acts vary by jurisdiction, including who is protected from liability and under what circumstances.\n",
            "            2. Question: can picking your nose affect your sense of smell\n",
            "              Answer: False,Because:Picking one's nose with dirty fingers or fingernails may increase risks of infection that may include an increase in the diversity of nose flora (and thus infection or illness), or occasional nosebleeds. One case of rhinotillexomania resulted in perforation of the nasal septum and self-induced ethmoidectomy. Nose picking, however, should not affect the sense of smell, as the nasal cavity where the olfactory nerves are located is too high up to reach.\n",
            "            3. Question: have the san jose sharks won a stanley cup\n",
            "              Answer: False,Because:The Sharks were founded in 1991 and were the first NHL franchise based in the San Francisco Bay Area since the California Golden Seals relocated to Cleveland in 1976. The Sharks have advanced to the Stanley Cup Finals once, losing to the Pittsburgh Penguins in 2016. They have won the Presidents' Trophy once, as the team with the league's best regular season record in the 2008--09 season. They have also won six division titles as a member of the Pacific Division since 1993.\n",
            "            4. Question: can i have multiple foreign keys in a table\n",
            "              Answer: (true/false)\n",
            "             [/INST] Answer 4 is: True.\n",
            "\n",
            "In a relational database, a table can have multiple foreign keys, each referencing a primary key in another table. This is a fundamental concept of database normalization and the relational model, as it allows for data to be organized in a logical and consistent manner, with relationships between entities being defined and maintained through the use of foreign keys.\n",
            "[{'role': 'user', 'content': \"Answer the forth question with true or false,Answer format must be:Answer 4 is (True or False)\\n            1. Question: does every state have a good samaritan law\\n              Answer: True,Because:All 50 states and the District of Columbia have some type of Good Samaritan law. The details of good Samaritan laws/acts vary by jurisdiction, including who is protected from liability and under what circumstances.\\n            2. Question: can picking your nose affect your sense of smell\\n              Answer: False,Because:Picking one's nose with dirty fingers or fingernails may increase risks of infection that may include an increase in the diversity of nose flora (and thus infection or illness), or occasional nosebleeds. One case of rhinotillexomania resulted in perforation of the nasal septum and self-induced ethmoidectomy. Nose picking, however, should not affect the sense of smell, as the nasal cavity where the olfactory nerves are located is too high up to reach.\\n            3. Question: have the san jose sharks won a stanley cup\\n              Answer: False,Because:The Sharks were founded in 1991 and were the first NHL franchise based in the San Francisco Bay Area since the California Golden Seals relocated to Cleveland in 1976. The Sharks have advanced to the Stanley Cup Finals once, losing to the Pittsburgh Penguins in 2016. They have won the Presidents' Trophy once, as the team with the league's best regular season record in the 2008--09 season. They have also won six division titles as a member of the Pacific Division since 1993.\\n            4. Question: is there a delay of game in hockey\\n              Answer: (true/false)\\n            \"}]\n"
          ]
        },
        {
          "output_type": "stream",
          "name": "stderr",
          "text": [
            "The attention mask and the pad token id were not set. As a consequence, you may observe unexpected behavior. Please pass your input's `attention_mask` to obtain reliable results.\n",
            "Setting `pad_token_id` to `eos_token_id`:2 for open-end generation.\n"
          ]
        },
        {
          "output_type": "stream",
          "name": "stdout",
          "text": [
            "[INST] Answer the forth question with true or false,Answer format must be:Answer 4 is (True or False)\n",
            "            1. Question: does every state have a good samaritan law\n",
            "              Answer: True,Because:All 50 states and the District of Columbia have some type of Good Samaritan law. The details of good Samaritan laws/acts vary by jurisdiction, including who is protected from liability and under what circumstances.\n",
            "            2. Question: can picking your nose affect your sense of smell\n",
            "              Answer: False,Because:Picking one's nose with dirty fingers or fingernails may increase risks of infection that may include an increase in the diversity of nose flora (and thus infection or illness), or occasional nosebleeds. One case of rhinotillexomania resulted in perforation of the nasal septum and self-induced ethmoidectomy. Nose picking, however, should not affect the sense of smell, as the nasal cavity where the olfactory nerves are located is too high up to reach.\n",
            "            3. Question: have the san jose sharks won a stanley cup\n",
            "              Answer: False,Because:The Sharks were founded in 1991 and were the first NHL franchise based in the San Francisco Bay Area since the California Golden Seals relocated to Cleveland in 1976. The Sharks have advanced to the Stanley Cup Finals once, losing to the Pittsburgh Penguins in 2016. They have won the Presidents' Trophy once, as the team with the league's best regular season record in the 2008--09 season. They have also won six division titles as a member of the Pacific Division since 1993.\n",
            "            4. Question: is there a delay of game in hockey\n",
            "              Answer: (true/false)\n",
            "             [/INST] Answer 4 is: True.\n",
            "\n",
            "In hockey, a delay of game penalty can be called when a player:\n",
            "\n",
            "* Drops the puck over the boards behind their own goal, or\n",
            "* Throws the puck over the glass in their own defensive zone, or\n",
            "* Kicks the puck out of their own defensive zone, or\n",
            "* Covers the puck in their own defensive zone with their hand or body for more than ten seconds without attempting to play it.\n",
            "\n",
            "This rule is designed to keep the play moving and prevent teams from wasting time.\n",
            "[{'role': 'user', 'content': \"Answer the forth question with true or false,Answer format must be:Answer 4 is (True or False)\\n            1. Question: does every state have a good samaritan law\\n              Answer: True,Because:All 50 states and the District of Columbia have some type of Good Samaritan law. The details of good Samaritan laws/acts vary by jurisdiction, including who is protected from liability and under what circumstances.\\n            2. Question: can picking your nose affect your sense of smell\\n              Answer: False,Because:Picking one's nose with dirty fingers or fingernails may increase risks of infection that may include an increase in the diversity of nose flora (and thus infection or illness), or occasional nosebleeds. One case of rhinotillexomania resulted in perforation of the nasal septum and self-induced ethmoidectomy. Nose picking, however, should not affect the sense of smell, as the nasal cavity where the olfactory nerves are located is too high up to reach.\\n            3. Question: have the san jose sharks won a stanley cup\\n              Answer: False,Because:The Sharks were founded in 1991 and were the first NHL franchise based in the San Francisco Bay Area since the California Golden Seals relocated to Cleveland in 1976. The Sharks have advanced to the Stanley Cup Finals once, losing to the Pittsburgh Penguins in 2016. They have won the Presidents' Trophy once, as the team with the league's best regular season record in the 2008--09 season. They have also won six division titles as a member of the Pacific Division since 1993.\\n            4. Question: do you need a permit to carry a gun in nh\\n              Answer: (true/false)\\n            \"}]\n"
          ]
        },
        {
          "output_type": "stream",
          "name": "stderr",
          "text": [
            "The attention mask and the pad token id were not set. As a consequence, you may observe unexpected behavior. Please pass your input's `attention_mask` to obtain reliable results.\n",
            "Setting `pad_token_id` to `eos_token_id`:2 for open-end generation.\n"
          ]
        },
        {
          "output_type": "stream",
          "name": "stdout",
          "text": [
            "[INST] Answer the forth question with true or false,Answer format must be:Answer 4 is (True or False)\n",
            "            1. Question: does every state have a good samaritan law\n",
            "              Answer: True,Because:All 50 states and the District of Columbia have some type of Good Samaritan law. The details of good Samaritan laws/acts vary by jurisdiction, including who is protected from liability and under what circumstances.\n",
            "            2. Question: can picking your nose affect your sense of smell\n",
            "              Answer: False,Because:Picking one's nose with dirty fingers or fingernails may increase risks of infection that may include an increase in the diversity of nose flora (and thus infection or illness), or occasional nosebleeds. One case of rhinotillexomania resulted in perforation of the nasal septum and self-induced ethmoidectomy. Nose picking, however, should not affect the sense of smell, as the nasal cavity where the olfactory nerves are located is too high up to reach.\n",
            "            3. Question: have the san jose sharks won a stanley cup\n",
            "              Answer: False,Because:The Sharks were founded in 1991 and were the first NHL franchise based in the San Francisco Bay Area since the California Golden Seals relocated to Cleveland in 1976. The Sharks have advanced to the Stanley Cup Finals once, losing to the Pittsburgh Penguins in 2016. They have won the Presidents' Trophy once, as the team with the league's best regular season record in the 2008--09 season. They have also won six division titles as a member of the Pacific Division since 1993.\n",
            "            4. Question: do you need a permit to carry a gun in nh\n",
            "              Answer: (true/false)\n",
            "             [/INST] Answer 4 is True. In New Hampshire, you do not need a permit to carry a concealed handgun, but you may carry a firearm openly without a permit. However, there are certain restrictions and requirements for carrying firearms in specific places, such as schools and government buildings. It's important to familiarize yourself with the specific laws and regulations in New Hampshire if you plan to carry a firearm.\n",
            "[{'role': 'user', 'content': \"Answer the forth question with true or false,Answer format must be:Answer 4 is (True or False)\\n            1. Question: does every state have a good samaritan law\\n              Answer: True,Because:All 50 states and the District of Columbia have some type of Good Samaritan law. The details of good Samaritan laws/acts vary by jurisdiction, including who is protected from liability and under what circumstances.\\n            2. Question: can picking your nose affect your sense of smell\\n              Answer: False,Because:Picking one's nose with dirty fingers or fingernails may increase risks of infection that may include an increase in the diversity of nose flora (and thus infection or illness), or occasional nosebleeds. One case of rhinotillexomania resulted in perforation of the nasal septum and self-induced ethmoidectomy. Nose picking, however, should not affect the sense of smell, as the nasal cavity where the olfactory nerves are located is too high up to reach.\\n            3. Question: have the san jose sharks won a stanley cup\\n              Answer: False,Because:The Sharks were founded in 1991 and were the first NHL franchise based in the San Francisco Bay Area since the California Golden Seals relocated to Cleveland in 1976. The Sharks have advanced to the Stanley Cup Finals once, losing to the Pittsburgh Penguins in 2016. They have won the Presidents' Trophy once, as the team with the league's best regular season record in the 2008--09 season. They have also won six division titles as a member of the Pacific Division since 1993.\\n            4. Question: is los lobos in the rock and roll hall of fame\\n              Answer: (true/false)\\n            \"}]\n",
            "[INST] Answer the forth question with true or false,Answer format must be:Answer 4 is (True or False)\n",
            "            1. Question: does every state have a good samaritan law\n",
            "              Answer: True,Because:All 50 states and the District of Columbia have some type of Good Samaritan law. The details of good Samaritan laws/acts vary by jurisdiction, including who is protected from liability and under what circumstances.\n",
            "            2. Question: can picking your nose affect your sense of smell\n",
            "              Answer: False,Because:Picking one's nose with dirty fingers or fingernails may increase risks of infection that may include an increase in the diversity of nose flora (and thus infection or illness), or occasional nosebleeds. One case of rhinotillexomania resulted in perforation of the nasal septum and self-induced ethmoidectomy. Nose picking, however, should not affect the sense of smell, as the nasal cavity where the olfactory nerves are located is too high up to reach.\n",
            "            3. Question: have the san jose sharks won a stanley cup\n",
            "              Answer: False,Because:The Sharks were founded in 1991 and were the first NHL franchise based in the San Francisco Bay Area since the California Golden Seals relocated to Cleveland in 1976. The Sharks have advanced to the Stanley Cup Finals once, losing to the Pittsburgh Penguins in 2016. They have won the Presidents' Trophy once, as the team with the league's best regular season record in the 2008--09 season. They have also won six division titles as a member of the Pacific Division since 1993.\n",
            "            4. Question: is los lobos in the rock and roll hall of fame\n",
            "              Answer: (true/false)\n",
            "             [/INST] Answer 4 is: False, Because: Los Lobos is not officially inducted into the Rock and Roll Hall of Fame yet. They have been eligible since 2005, but have not been inducted as of 2023. Los Lobos is a prominent American Chicano band, known for their contributions to rock, blues, and Tex-Mex music genres. They have won four Grammy Awards and were inducted into the National Latin Songwriters Hall of Fame in 2011.\n"
          ]
        }
      ]
    },
    {
      "cell_type": "code",
      "source": [
        "import re\n",
        "\n",
        "post_C = []\n",
        "pattern_inst = re.compile(r'INST', re.IGNORECASE)\n",
        "pattern_tf = re.compile(r'\\b(true|false)\\b', re.IGNORECASE)\n",
        "\n",
        "for answer_text in answers_C:\n",
        "    # Find all occurrences of \"INST\"\n",
        "    inst_matches = [match for match in pattern_inst.finditer(answer_text)]\n",
        "    # Find all occurrences of \"true\" or \"false\"\n",
        "    tf_matches = [match for match in pattern_tf.finditer(answer_text)]\n",
        "\n",
        "    if len(inst_matches) >= 2 and tf_matches:\n",
        "        # Get the end position of the second \"INST\"\n",
        "        second_inst_end_pos = inst_matches[1].end()\n",
        "\n",
        "        # Search for \"true\" or \"false\" after the second \"INST\"\n",
        "        match_tf = pattern_tf.search(answer_text, second_inst_end_pos)\n",
        "\n",
        "        if match_tf:\n",
        "            # If found after the second \"INST\", append this match\n",
        "            post_C.append(match_tf.group(1))\n",
        "        else:\n",
        "            # If not found after the second \"INST\", append the last occurrence of \"true\" or \"false\"\n",
        "            post_C.append(tf_matches[-1].group(1))\n",
        "    elif tf_matches:\n",
        "        # If \"INST\" is not found or less than 2, but \"true\" or \"false\" is found, append the last occurrence\n",
        "        post_C.append(tf_matches[-1].group(1))\n",
        "    else:\n",
        "        # If neither \"INST\" nor \"true\" or \"false\" are found\n",
        "        post_C.append(\"未找到\")\n",
        "\n",
        "print(post_C)"
      ],
      "metadata": {
        "id": "Rp8xco6tBTt2",
        "colab": {
          "base_uri": "https://localhost:8080/"
        },
        "outputId": "afe72035-d236-4b3e-f301-1aa44763b59e"
      },
      "id": "Rp8xco6tBTt2",
      "execution_count": 35,
      "outputs": [
        {
          "output_type": "stream",
          "name": "stdout",
          "text": [
            "['False', 'False', 'True', 'False', 'True', 'True', 'True', 'False', 'False', 'True', 'True', 'True', 'True', 'True', 'True', 'False', 'True', 'True', 'True', 'False']\n"
          ]
        }
      ]
    },
    {
      "cell_type": "code",
      "source": [
        "bool_pre=[]\n",
        "for i in range(0,20):\n",
        "  prediction = post_C[i].lower() == 'true'\n",
        "  bool_pre.append(prediction)\n",
        "bool_pre"
      ],
      "metadata": {
        "id": "NLiz7HHDCBbf",
        "colab": {
          "base_uri": "https://localhost:8080/"
        },
        "outputId": "d465cfa8-4e55-4fce-a2bb-dcac820a46db"
      },
      "id": "NLiz7HHDCBbf",
      "execution_count": 36,
      "outputs": [
        {
          "output_type": "execute_result",
          "data": {
            "text/plain": [
              "[False,\n",
              " False,\n",
              " True,\n",
              " False,\n",
              " True,\n",
              " True,\n",
              " True,\n",
              " False,\n",
              " False,\n",
              " True,\n",
              " True,\n",
              " True,\n",
              " True,\n",
              " True,\n",
              " True,\n",
              " False,\n",
              " True,\n",
              " True,\n",
              " True,\n",
              " False]"
            ]
          },
          "metadata": {},
          "execution_count": 36
        }
      ]
    },
    {
      "cell_type": "code",
      "source": [
        "def evaluate_answers(true_answers, predictions):\n",
        "\n",
        "    assert len(true_answers) == len(predictions)\n",
        "\n",
        "    total_questions = len(true_answers)\n",
        "    matched_count = 0\n",
        "\n",
        "    for true_answer, prediction in zip(true_answers, predictions):\n",
        "\n",
        "        if true_answer == prediction:\n",
        "            matched_count += 1\n",
        "\n",
        "    score= (matched_count / 20) * 100\n",
        "\n",
        "    return score\n",
        "print(evaluate_answers(df_sample['answer'], bool_pre))"
      ],
      "metadata": {
        "id": "LStdLIJMCEUy",
        "colab": {
          "base_uri": "https://localhost:8080/"
        },
        "outputId": "47078a1e-af2f-4538-eb72-e778146d69c1"
      },
      "id": "LStdLIJMCEUy",
      "execution_count": 37,
      "outputs": [
        {
          "output_type": "stream",
          "name": "stdout",
          "text": [
            "65.0\n"
          ]
        }
      ]
    },
    {
      "cell_type": "code",
      "source": [
        "import pandas as pd\n",
        "C = pd.DataFrame({\"answers_C\": answers_C})\n",
        "C.to_csv(\"answers_C.csv\", index=False)"
      ],
      "metadata": {
        "id": "J4pnfLKSCxO3"
      },
      "id": "J4pnfLKSCxO3",
      "execution_count": 38,
      "outputs": []
    },
    {
      "cell_type": "markdown",
      "id": "9e446cfb-7e1f-446e-966c-aa6f6725eddf",
      "metadata": {
        "id": "9e446cfb-7e1f-446e-966c-aa6f6725eddf"
      },
      "source": [
        "# Part 2 (5 points): Fine-tuning with PEFT and LoRA"
      ]
    },
    {
      "cell_type": "markdown",
      "id": "425ed2aa-5c31-4f9c-a7b7-da7061a39d89",
      "metadata": {
        "id": "425ed2aa-5c31-4f9c-a7b7-da7061a39d89"
      },
      "source": [
        "TODO: initialize Trainer and pass train part of our dataset for 2-3 epoches\n",
        "\n",
        "Note: carefully set max_seq_length and args (that are transformers.TrainingArguments)"
      ]
    },
    {
      "cell_type": "markdown",
      "id": "6e02de8d-5401-4d7e-8a82-28cbeeee0dc1",
      "metadata": {
        "id": "6e02de8d-5401-4d7e-8a82-28cbeeee0dc1"
      },
      "source": [
        "TODO: save and check your tuned model. Provide scores on our 20 validation examples and save result to csv file"
      ]
    }
  ],
  "metadata": {
    "kernelspec": {
      "display_name": "Python 3",
      "name": "python3"
    },
    "language_info": {
      "name": "python"
    },
    "colab": {
      "provenance": [],
      "gpuType": "A100",
      "machine_shape": "hm"
    },
    "accelerator": "GPU",
    "widgets": {
      "application/vnd.jupyter.widget-state+json": {
        "9321e5870002490fb95c59d0cb8ec610": {
          "model_module": "@jupyter-widgets/controls",
          "model_name": "HBoxModel",
          "model_module_version": "1.5.0",
          "state": {
            "_dom_classes": [],
            "_model_module": "@jupyter-widgets/controls",
            "_model_module_version": "1.5.0",
            "_model_name": "HBoxModel",
            "_view_count": null,
            "_view_module": "@jupyter-widgets/controls",
            "_view_module_version": "1.5.0",
            "_view_name": "HBoxView",
            "box_style": "",
            "children": [
              "IPY_MODEL_2781c010dbe64237b40e0a7eaf5e542e",
              "IPY_MODEL_c5d82a3fa3e142edade6200e178460be",
              "IPY_MODEL_5986f46aa4d84e95bcf024c4ff3f4003"
            ],
            "layout": "IPY_MODEL_f2775cb93c1c48329ed3574c00ecae4d"
          }
        },
        "2781c010dbe64237b40e0a7eaf5e542e": {
          "model_module": "@jupyter-widgets/controls",
          "model_name": "HTMLModel",
          "model_module_version": "1.5.0",
          "state": {
            "_dom_classes": [],
            "_model_module": "@jupyter-widgets/controls",
            "_model_module_version": "1.5.0",
            "_model_name": "HTMLModel",
            "_view_count": null,
            "_view_module": "@jupyter-widgets/controls",
            "_view_module_version": "1.5.0",
            "_view_name": "HTMLView",
            "description": "",
            "description_tooltip": null,
            "layout": "IPY_MODEL_c009623db77b4a278e5ed13742d0cc70",
            "placeholder": "​",
            "style": "IPY_MODEL_45e6536000144ec8b2fec741b5280b0c",
            "value": "tokenizer_config.json: 100%"
          }
        },
        "c5d82a3fa3e142edade6200e178460be": {
          "model_module": "@jupyter-widgets/controls",
          "model_name": "FloatProgressModel",
          "model_module_version": "1.5.0",
          "state": {
            "_dom_classes": [],
            "_model_module": "@jupyter-widgets/controls",
            "_model_module_version": "1.5.0",
            "_model_name": "FloatProgressModel",
            "_view_count": null,
            "_view_module": "@jupyter-widgets/controls",
            "_view_module_version": "1.5.0",
            "_view_name": "ProgressView",
            "bar_style": "success",
            "description": "",
            "description_tooltip": null,
            "layout": "IPY_MODEL_09f0991767c94fbda8b68cb599430805",
            "max": 1460,
            "min": 0,
            "orientation": "horizontal",
            "style": "IPY_MODEL_65b865b7e26547ec9a83cb6b41a83bc1",
            "value": 1460
          }
        },
        "5986f46aa4d84e95bcf024c4ff3f4003": {
          "model_module": "@jupyter-widgets/controls",
          "model_name": "HTMLModel",
          "model_module_version": "1.5.0",
          "state": {
            "_dom_classes": [],
            "_model_module": "@jupyter-widgets/controls",
            "_model_module_version": "1.5.0",
            "_model_name": "HTMLModel",
            "_view_count": null,
            "_view_module": "@jupyter-widgets/controls",
            "_view_module_version": "1.5.0",
            "_view_name": "HTMLView",
            "description": "",
            "description_tooltip": null,
            "layout": "IPY_MODEL_49aab354bbf44d8997b8cf2a22ebad85",
            "placeholder": "​",
            "style": "IPY_MODEL_45261fac33e44a7292d79859dc11324b",
            "value": " 1.46k/1.46k [00:00&lt;00:00, 133kB/s]"
          }
        },
        "f2775cb93c1c48329ed3574c00ecae4d": {
          "model_module": "@jupyter-widgets/base",
          "model_name": "LayoutModel",
          "model_module_version": "1.2.0",
          "state": {
            "_model_module": "@jupyter-widgets/base",
            "_model_module_version": "1.2.0",
            "_model_name": "LayoutModel",
            "_view_count": null,
            "_view_module": "@jupyter-widgets/base",
            "_view_module_version": "1.2.0",
            "_view_name": "LayoutView",
            "align_content": null,
            "align_items": null,
            "align_self": null,
            "border": null,
            "bottom": null,
            "display": null,
            "flex": null,
            "flex_flow": null,
            "grid_area": null,
            "grid_auto_columns": null,
            "grid_auto_flow": null,
            "grid_auto_rows": null,
            "grid_column": null,
            "grid_gap": null,
            "grid_row": null,
            "grid_template_areas": null,
            "grid_template_columns": null,
            "grid_template_rows": null,
            "height": null,
            "justify_content": null,
            "justify_items": null,
            "left": null,
            "margin": null,
            "max_height": null,
            "max_width": null,
            "min_height": null,
            "min_width": null,
            "object_fit": null,
            "object_position": null,
            "order": null,
            "overflow": null,
            "overflow_x": null,
            "overflow_y": null,
            "padding": null,
            "right": null,
            "top": null,
            "visibility": null,
            "width": null
          }
        },
        "c009623db77b4a278e5ed13742d0cc70": {
          "model_module": "@jupyter-widgets/base",
          "model_name": "LayoutModel",
          "model_module_version": "1.2.0",
          "state": {
            "_model_module": "@jupyter-widgets/base",
            "_model_module_version": "1.2.0",
            "_model_name": "LayoutModel",
            "_view_count": null,
            "_view_module": "@jupyter-widgets/base",
            "_view_module_version": "1.2.0",
            "_view_name": "LayoutView",
            "align_content": null,
            "align_items": null,
            "align_self": null,
            "border": null,
            "bottom": null,
            "display": null,
            "flex": null,
            "flex_flow": null,
            "grid_area": null,
            "grid_auto_columns": null,
            "grid_auto_flow": null,
            "grid_auto_rows": null,
            "grid_column": null,
            "grid_gap": null,
            "grid_row": null,
            "grid_template_areas": null,
            "grid_template_columns": null,
            "grid_template_rows": null,
            "height": null,
            "justify_content": null,
            "justify_items": null,
            "left": null,
            "margin": null,
            "max_height": null,
            "max_width": null,
            "min_height": null,
            "min_width": null,
            "object_fit": null,
            "object_position": null,
            "order": null,
            "overflow": null,
            "overflow_x": null,
            "overflow_y": null,
            "padding": null,
            "right": null,
            "top": null,
            "visibility": null,
            "width": null
          }
        },
        "45e6536000144ec8b2fec741b5280b0c": {
          "model_module": "@jupyter-widgets/controls",
          "model_name": "DescriptionStyleModel",
          "model_module_version": "1.5.0",
          "state": {
            "_model_module": "@jupyter-widgets/controls",
            "_model_module_version": "1.5.0",
            "_model_name": "DescriptionStyleModel",
            "_view_count": null,
            "_view_module": "@jupyter-widgets/base",
            "_view_module_version": "1.2.0",
            "_view_name": "StyleView",
            "description_width": ""
          }
        },
        "09f0991767c94fbda8b68cb599430805": {
          "model_module": "@jupyter-widgets/base",
          "model_name": "LayoutModel",
          "model_module_version": "1.2.0",
          "state": {
            "_model_module": "@jupyter-widgets/base",
            "_model_module_version": "1.2.0",
            "_model_name": "LayoutModel",
            "_view_count": null,
            "_view_module": "@jupyter-widgets/base",
            "_view_module_version": "1.2.0",
            "_view_name": "LayoutView",
            "align_content": null,
            "align_items": null,
            "align_self": null,
            "border": null,
            "bottom": null,
            "display": null,
            "flex": null,
            "flex_flow": null,
            "grid_area": null,
            "grid_auto_columns": null,
            "grid_auto_flow": null,
            "grid_auto_rows": null,
            "grid_column": null,
            "grid_gap": null,
            "grid_row": null,
            "grid_template_areas": null,
            "grid_template_columns": null,
            "grid_template_rows": null,
            "height": null,
            "justify_content": null,
            "justify_items": null,
            "left": null,
            "margin": null,
            "max_height": null,
            "max_width": null,
            "min_height": null,
            "min_width": null,
            "object_fit": null,
            "object_position": null,
            "order": null,
            "overflow": null,
            "overflow_x": null,
            "overflow_y": null,
            "padding": null,
            "right": null,
            "top": null,
            "visibility": null,
            "width": null
          }
        },
        "65b865b7e26547ec9a83cb6b41a83bc1": {
          "model_module": "@jupyter-widgets/controls",
          "model_name": "ProgressStyleModel",
          "model_module_version": "1.5.0",
          "state": {
            "_model_module": "@jupyter-widgets/controls",
            "_model_module_version": "1.5.0",
            "_model_name": "ProgressStyleModel",
            "_view_count": null,
            "_view_module": "@jupyter-widgets/base",
            "_view_module_version": "1.2.0",
            "_view_name": "StyleView",
            "bar_color": null,
            "description_width": ""
          }
        },
        "49aab354bbf44d8997b8cf2a22ebad85": {
          "model_module": "@jupyter-widgets/base",
          "model_name": "LayoutModel",
          "model_module_version": "1.2.0",
          "state": {
            "_model_module": "@jupyter-widgets/base",
            "_model_module_version": "1.2.0",
            "_model_name": "LayoutModel",
            "_view_count": null,
            "_view_module": "@jupyter-widgets/base",
            "_view_module_version": "1.2.0",
            "_view_name": "LayoutView",
            "align_content": null,
            "align_items": null,
            "align_self": null,
            "border": null,
            "bottom": null,
            "display": null,
            "flex": null,
            "flex_flow": null,
            "grid_area": null,
            "grid_auto_columns": null,
            "grid_auto_flow": null,
            "grid_auto_rows": null,
            "grid_column": null,
            "grid_gap": null,
            "grid_row": null,
            "grid_template_areas": null,
            "grid_template_columns": null,
            "grid_template_rows": null,
            "height": null,
            "justify_content": null,
            "justify_items": null,
            "left": null,
            "margin": null,
            "max_height": null,
            "max_width": null,
            "min_height": null,
            "min_width": null,
            "object_fit": null,
            "object_position": null,
            "order": null,
            "overflow": null,
            "overflow_x": null,
            "overflow_y": null,
            "padding": null,
            "right": null,
            "top": null,
            "visibility": null,
            "width": null
          }
        },
        "45261fac33e44a7292d79859dc11324b": {
          "model_module": "@jupyter-widgets/controls",
          "model_name": "DescriptionStyleModel",
          "model_module_version": "1.5.0",
          "state": {
            "_model_module": "@jupyter-widgets/controls",
            "_model_module_version": "1.5.0",
            "_model_name": "DescriptionStyleModel",
            "_view_count": null,
            "_view_module": "@jupyter-widgets/base",
            "_view_module_version": "1.2.0",
            "_view_name": "StyleView",
            "description_width": ""
          }
        },
        "dc6fa3891b02486caf8ea33953d01220": {
          "model_module": "@jupyter-widgets/controls",
          "model_name": "HBoxModel",
          "model_module_version": "1.5.0",
          "state": {
            "_dom_classes": [],
            "_model_module": "@jupyter-widgets/controls",
            "_model_module_version": "1.5.0",
            "_model_name": "HBoxModel",
            "_view_count": null,
            "_view_module": "@jupyter-widgets/controls",
            "_view_module_version": "1.5.0",
            "_view_name": "HBoxView",
            "box_style": "",
            "children": [
              "IPY_MODEL_81908b640a1042efaffb83c1737fad01",
              "IPY_MODEL_21ac6983a6844d89823a686031d4aa8b",
              "IPY_MODEL_9a82c35c82a74cdbb335afee18240411"
            ],
            "layout": "IPY_MODEL_b79eeccf1c3e4984ab19bb6fd84f61e9"
          }
        },
        "81908b640a1042efaffb83c1737fad01": {
          "model_module": "@jupyter-widgets/controls",
          "model_name": "HTMLModel",
          "model_module_version": "1.5.0",
          "state": {
            "_dom_classes": [],
            "_model_module": "@jupyter-widgets/controls",
            "_model_module_version": "1.5.0",
            "_model_name": "HTMLModel",
            "_view_count": null,
            "_view_module": "@jupyter-widgets/controls",
            "_view_module_version": "1.5.0",
            "_view_name": "HTMLView",
            "description": "",
            "description_tooltip": null,
            "layout": "IPY_MODEL_dbf90aced0be4307a5d857dcfc9ffbfd",
            "placeholder": "​",
            "style": "IPY_MODEL_d23ebf21987b4a699fe30b7b976edd54",
            "value": "tokenizer.model: 100%"
          }
        },
        "21ac6983a6844d89823a686031d4aa8b": {
          "model_module": "@jupyter-widgets/controls",
          "model_name": "FloatProgressModel",
          "model_module_version": "1.5.0",
          "state": {
            "_dom_classes": [],
            "_model_module": "@jupyter-widgets/controls",
            "_model_module_version": "1.5.0",
            "_model_name": "FloatProgressModel",
            "_view_count": null,
            "_view_module": "@jupyter-widgets/controls",
            "_view_module_version": "1.5.0",
            "_view_name": "ProgressView",
            "bar_style": "success",
            "description": "",
            "description_tooltip": null,
            "layout": "IPY_MODEL_1ae1e8cc92884046ae0415be36d18c86",
            "max": 493443,
            "min": 0,
            "orientation": "horizontal",
            "style": "IPY_MODEL_b9b4936f9cb34d81a35116cec4b4788b",
            "value": 493443
          }
        },
        "9a82c35c82a74cdbb335afee18240411": {
          "model_module": "@jupyter-widgets/controls",
          "model_name": "HTMLModel",
          "model_module_version": "1.5.0",
          "state": {
            "_dom_classes": [],
            "_model_module": "@jupyter-widgets/controls",
            "_model_module_version": "1.5.0",
            "_model_name": "HTMLModel",
            "_view_count": null,
            "_view_module": "@jupyter-widgets/controls",
            "_view_module_version": "1.5.0",
            "_view_name": "HTMLView",
            "description": "",
            "description_tooltip": null,
            "layout": "IPY_MODEL_92db6428591d4f2aaf7ae9254f065640",
            "placeholder": "​",
            "style": "IPY_MODEL_f27d28cc20124b0c8ff2c8b7b6cbea65",
            "value": " 493k/493k [00:00&lt;00:00, 8.70MB/s]"
          }
        },
        "b79eeccf1c3e4984ab19bb6fd84f61e9": {
          "model_module": "@jupyter-widgets/base",
          "model_name": "LayoutModel",
          "model_module_version": "1.2.0",
          "state": {
            "_model_module": "@jupyter-widgets/base",
            "_model_module_version": "1.2.0",
            "_model_name": "LayoutModel",
            "_view_count": null,
            "_view_module": "@jupyter-widgets/base",
            "_view_module_version": "1.2.0",
            "_view_name": "LayoutView",
            "align_content": null,
            "align_items": null,
            "align_self": null,
            "border": null,
            "bottom": null,
            "display": null,
            "flex": null,
            "flex_flow": null,
            "grid_area": null,
            "grid_auto_columns": null,
            "grid_auto_flow": null,
            "grid_auto_rows": null,
            "grid_column": null,
            "grid_gap": null,
            "grid_row": null,
            "grid_template_areas": null,
            "grid_template_columns": null,
            "grid_template_rows": null,
            "height": null,
            "justify_content": null,
            "justify_items": null,
            "left": null,
            "margin": null,
            "max_height": null,
            "max_width": null,
            "min_height": null,
            "min_width": null,
            "object_fit": null,
            "object_position": null,
            "order": null,
            "overflow": null,
            "overflow_x": null,
            "overflow_y": null,
            "padding": null,
            "right": null,
            "top": null,
            "visibility": null,
            "width": null
          }
        },
        "dbf90aced0be4307a5d857dcfc9ffbfd": {
          "model_module": "@jupyter-widgets/base",
          "model_name": "LayoutModel",
          "model_module_version": "1.2.0",
          "state": {
            "_model_module": "@jupyter-widgets/base",
            "_model_module_version": "1.2.0",
            "_model_name": "LayoutModel",
            "_view_count": null,
            "_view_module": "@jupyter-widgets/base",
            "_view_module_version": "1.2.0",
            "_view_name": "LayoutView",
            "align_content": null,
            "align_items": null,
            "align_self": null,
            "border": null,
            "bottom": null,
            "display": null,
            "flex": null,
            "flex_flow": null,
            "grid_area": null,
            "grid_auto_columns": null,
            "grid_auto_flow": null,
            "grid_auto_rows": null,
            "grid_column": null,
            "grid_gap": null,
            "grid_row": null,
            "grid_template_areas": null,
            "grid_template_columns": null,
            "grid_template_rows": null,
            "height": null,
            "justify_content": null,
            "justify_items": null,
            "left": null,
            "margin": null,
            "max_height": null,
            "max_width": null,
            "min_height": null,
            "min_width": null,
            "object_fit": null,
            "object_position": null,
            "order": null,
            "overflow": null,
            "overflow_x": null,
            "overflow_y": null,
            "padding": null,
            "right": null,
            "top": null,
            "visibility": null,
            "width": null
          }
        },
        "d23ebf21987b4a699fe30b7b976edd54": {
          "model_module": "@jupyter-widgets/controls",
          "model_name": "DescriptionStyleModel",
          "model_module_version": "1.5.0",
          "state": {
            "_model_module": "@jupyter-widgets/controls",
            "_model_module_version": "1.5.0",
            "_model_name": "DescriptionStyleModel",
            "_view_count": null,
            "_view_module": "@jupyter-widgets/base",
            "_view_module_version": "1.2.0",
            "_view_name": "StyleView",
            "description_width": ""
          }
        },
        "1ae1e8cc92884046ae0415be36d18c86": {
          "model_module": "@jupyter-widgets/base",
          "model_name": "LayoutModel",
          "model_module_version": "1.2.0",
          "state": {
            "_model_module": "@jupyter-widgets/base",
            "_model_module_version": "1.2.0",
            "_model_name": "LayoutModel",
            "_view_count": null,
            "_view_module": "@jupyter-widgets/base",
            "_view_module_version": "1.2.0",
            "_view_name": "LayoutView",
            "align_content": null,
            "align_items": null,
            "align_self": null,
            "border": null,
            "bottom": null,
            "display": null,
            "flex": null,
            "flex_flow": null,
            "grid_area": null,
            "grid_auto_columns": null,
            "grid_auto_flow": null,
            "grid_auto_rows": null,
            "grid_column": null,
            "grid_gap": null,
            "grid_row": null,
            "grid_template_areas": null,
            "grid_template_columns": null,
            "grid_template_rows": null,
            "height": null,
            "justify_content": null,
            "justify_items": null,
            "left": null,
            "margin": null,
            "max_height": null,
            "max_width": null,
            "min_height": null,
            "min_width": null,
            "object_fit": null,
            "object_position": null,
            "order": null,
            "overflow": null,
            "overflow_x": null,
            "overflow_y": null,
            "padding": null,
            "right": null,
            "top": null,
            "visibility": null,
            "width": null
          }
        },
        "b9b4936f9cb34d81a35116cec4b4788b": {
          "model_module": "@jupyter-widgets/controls",
          "model_name": "ProgressStyleModel",
          "model_module_version": "1.5.0",
          "state": {
            "_model_module": "@jupyter-widgets/controls",
            "_model_module_version": "1.5.0",
            "_model_name": "ProgressStyleModel",
            "_view_count": null,
            "_view_module": "@jupyter-widgets/base",
            "_view_module_version": "1.2.0",
            "_view_name": "StyleView",
            "bar_color": null,
            "description_width": ""
          }
        },
        "92db6428591d4f2aaf7ae9254f065640": {
          "model_module": "@jupyter-widgets/base",
          "model_name": "LayoutModel",
          "model_module_version": "1.2.0",
          "state": {
            "_model_module": "@jupyter-widgets/base",
            "_model_module_version": "1.2.0",
            "_model_name": "LayoutModel",
            "_view_count": null,
            "_view_module": "@jupyter-widgets/base",
            "_view_module_version": "1.2.0",
            "_view_name": "LayoutView",
            "align_content": null,
            "align_items": null,
            "align_self": null,
            "border": null,
            "bottom": null,
            "display": null,
            "flex": null,
            "flex_flow": null,
            "grid_area": null,
            "grid_auto_columns": null,
            "grid_auto_flow": null,
            "grid_auto_rows": null,
            "grid_column": null,
            "grid_gap": null,
            "grid_row": null,
            "grid_template_areas": null,
            "grid_template_columns": null,
            "grid_template_rows": null,
            "height": null,
            "justify_content": null,
            "justify_items": null,
            "left": null,
            "margin": null,
            "max_height": null,
            "max_width": null,
            "min_height": null,
            "min_width": null,
            "object_fit": null,
            "object_position": null,
            "order": null,
            "overflow": null,
            "overflow_x": null,
            "overflow_y": null,
            "padding": null,
            "right": null,
            "top": null,
            "visibility": null,
            "width": null
          }
        },
        "f27d28cc20124b0c8ff2c8b7b6cbea65": {
          "model_module": "@jupyter-widgets/controls",
          "model_name": "DescriptionStyleModel",
          "model_module_version": "1.5.0",
          "state": {
            "_model_module": "@jupyter-widgets/controls",
            "_model_module_version": "1.5.0",
            "_model_name": "DescriptionStyleModel",
            "_view_count": null,
            "_view_module": "@jupyter-widgets/base",
            "_view_module_version": "1.2.0",
            "_view_name": "StyleView",
            "description_width": ""
          }
        },
        "b3e993f5ae98462d8bca8787a0f29ba7": {
          "model_module": "@jupyter-widgets/controls",
          "model_name": "HBoxModel",
          "model_module_version": "1.5.0",
          "state": {
            "_dom_classes": [],
            "_model_module": "@jupyter-widgets/controls",
            "_model_module_version": "1.5.0",
            "_model_name": "HBoxModel",
            "_view_count": null,
            "_view_module": "@jupyter-widgets/controls",
            "_view_module_version": "1.5.0",
            "_view_name": "HBoxView",
            "box_style": "",
            "children": [
              "IPY_MODEL_7c000afd922847aab02f432df40453c4",
              "IPY_MODEL_977dfc8d2314410ebde0588fb90f52f5",
              "IPY_MODEL_8c3567889426474186c5df77c9f7b8da"
            ],
            "layout": "IPY_MODEL_9510ed5f5b6247d7b293ed6418e8bb33"
          }
        },
        "7c000afd922847aab02f432df40453c4": {
          "model_module": "@jupyter-widgets/controls",
          "model_name": "HTMLModel",
          "model_module_version": "1.5.0",
          "state": {
            "_dom_classes": [],
            "_model_module": "@jupyter-widgets/controls",
            "_model_module_version": "1.5.0",
            "_model_name": "HTMLModel",
            "_view_count": null,
            "_view_module": "@jupyter-widgets/controls",
            "_view_module_version": "1.5.0",
            "_view_name": "HTMLView",
            "description": "",
            "description_tooltip": null,
            "layout": "IPY_MODEL_f0dfb199409543088f9a7ddc50d7315a",
            "placeholder": "​",
            "style": "IPY_MODEL_b2f6ad06bd4547f7a0fb774b5ba6f710",
            "value": "tokenizer.json: 100%"
          }
        },
        "977dfc8d2314410ebde0588fb90f52f5": {
          "model_module": "@jupyter-widgets/controls",
          "model_name": "FloatProgressModel",
          "model_module_version": "1.5.0",
          "state": {
            "_dom_classes": [],
            "_model_module": "@jupyter-widgets/controls",
            "_model_module_version": "1.5.0",
            "_model_name": "FloatProgressModel",
            "_view_count": null,
            "_view_module": "@jupyter-widgets/controls",
            "_view_module_version": "1.5.0",
            "_view_name": "ProgressView",
            "bar_style": "success",
            "description": "",
            "description_tooltip": null,
            "layout": "IPY_MODEL_166fdcf390914bb3aca28931ee497159",
            "max": 1795303,
            "min": 0,
            "orientation": "horizontal",
            "style": "IPY_MODEL_1ad2c7b62abc49dbbf882c18b5b84702",
            "value": 1795303
          }
        },
        "8c3567889426474186c5df77c9f7b8da": {
          "model_module": "@jupyter-widgets/controls",
          "model_name": "HTMLModel",
          "model_module_version": "1.5.0",
          "state": {
            "_dom_classes": [],
            "_model_module": "@jupyter-widgets/controls",
            "_model_module_version": "1.5.0",
            "_model_name": "HTMLModel",
            "_view_count": null,
            "_view_module": "@jupyter-widgets/controls",
            "_view_module_version": "1.5.0",
            "_view_name": "HTMLView",
            "description": "",
            "description_tooltip": null,
            "layout": "IPY_MODEL_c4ab7af92d5c4daea063385b07d690d2",
            "placeholder": "​",
            "style": "IPY_MODEL_2873a155fa694964bacd1b00a569a266",
            "value": " 1.80M/1.80M [00:00&lt;00:00, 23.8MB/s]"
          }
        },
        "9510ed5f5b6247d7b293ed6418e8bb33": {
          "model_module": "@jupyter-widgets/base",
          "model_name": "LayoutModel",
          "model_module_version": "1.2.0",
          "state": {
            "_model_module": "@jupyter-widgets/base",
            "_model_module_version": "1.2.0",
            "_model_name": "LayoutModel",
            "_view_count": null,
            "_view_module": "@jupyter-widgets/base",
            "_view_module_version": "1.2.0",
            "_view_name": "LayoutView",
            "align_content": null,
            "align_items": null,
            "align_self": null,
            "border": null,
            "bottom": null,
            "display": null,
            "flex": null,
            "flex_flow": null,
            "grid_area": null,
            "grid_auto_columns": null,
            "grid_auto_flow": null,
            "grid_auto_rows": null,
            "grid_column": null,
            "grid_gap": null,
            "grid_row": null,
            "grid_template_areas": null,
            "grid_template_columns": null,
            "grid_template_rows": null,
            "height": null,
            "justify_content": null,
            "justify_items": null,
            "left": null,
            "margin": null,
            "max_height": null,
            "max_width": null,
            "min_height": null,
            "min_width": null,
            "object_fit": null,
            "object_position": null,
            "order": null,
            "overflow": null,
            "overflow_x": null,
            "overflow_y": null,
            "padding": null,
            "right": null,
            "top": null,
            "visibility": null,
            "width": null
          }
        },
        "f0dfb199409543088f9a7ddc50d7315a": {
          "model_module": "@jupyter-widgets/base",
          "model_name": "LayoutModel",
          "model_module_version": "1.2.0",
          "state": {
            "_model_module": "@jupyter-widgets/base",
            "_model_module_version": "1.2.0",
            "_model_name": "LayoutModel",
            "_view_count": null,
            "_view_module": "@jupyter-widgets/base",
            "_view_module_version": "1.2.0",
            "_view_name": "LayoutView",
            "align_content": null,
            "align_items": null,
            "align_self": null,
            "border": null,
            "bottom": null,
            "display": null,
            "flex": null,
            "flex_flow": null,
            "grid_area": null,
            "grid_auto_columns": null,
            "grid_auto_flow": null,
            "grid_auto_rows": null,
            "grid_column": null,
            "grid_gap": null,
            "grid_row": null,
            "grid_template_areas": null,
            "grid_template_columns": null,
            "grid_template_rows": null,
            "height": null,
            "justify_content": null,
            "justify_items": null,
            "left": null,
            "margin": null,
            "max_height": null,
            "max_width": null,
            "min_height": null,
            "min_width": null,
            "object_fit": null,
            "object_position": null,
            "order": null,
            "overflow": null,
            "overflow_x": null,
            "overflow_y": null,
            "padding": null,
            "right": null,
            "top": null,
            "visibility": null,
            "width": null
          }
        },
        "b2f6ad06bd4547f7a0fb774b5ba6f710": {
          "model_module": "@jupyter-widgets/controls",
          "model_name": "DescriptionStyleModel",
          "model_module_version": "1.5.0",
          "state": {
            "_model_module": "@jupyter-widgets/controls",
            "_model_module_version": "1.5.0",
            "_model_name": "DescriptionStyleModel",
            "_view_count": null,
            "_view_module": "@jupyter-widgets/base",
            "_view_module_version": "1.2.0",
            "_view_name": "StyleView",
            "description_width": ""
          }
        },
        "166fdcf390914bb3aca28931ee497159": {
          "model_module": "@jupyter-widgets/base",
          "model_name": "LayoutModel",
          "model_module_version": "1.2.0",
          "state": {
            "_model_module": "@jupyter-widgets/base",
            "_model_module_version": "1.2.0",
            "_model_name": "LayoutModel",
            "_view_count": null,
            "_view_module": "@jupyter-widgets/base",
            "_view_module_version": "1.2.0",
            "_view_name": "LayoutView",
            "align_content": null,
            "align_items": null,
            "align_self": null,
            "border": null,
            "bottom": null,
            "display": null,
            "flex": null,
            "flex_flow": null,
            "grid_area": null,
            "grid_auto_columns": null,
            "grid_auto_flow": null,
            "grid_auto_rows": null,
            "grid_column": null,
            "grid_gap": null,
            "grid_row": null,
            "grid_template_areas": null,
            "grid_template_columns": null,
            "grid_template_rows": null,
            "height": null,
            "justify_content": null,
            "justify_items": null,
            "left": null,
            "margin": null,
            "max_height": null,
            "max_width": null,
            "min_height": null,
            "min_width": null,
            "object_fit": null,
            "object_position": null,
            "order": null,
            "overflow": null,
            "overflow_x": null,
            "overflow_y": null,
            "padding": null,
            "right": null,
            "top": null,
            "visibility": null,
            "width": null
          }
        },
        "1ad2c7b62abc49dbbf882c18b5b84702": {
          "model_module": "@jupyter-widgets/controls",
          "model_name": "ProgressStyleModel",
          "model_module_version": "1.5.0",
          "state": {
            "_model_module": "@jupyter-widgets/controls",
            "_model_module_version": "1.5.0",
            "_model_name": "ProgressStyleModel",
            "_view_count": null,
            "_view_module": "@jupyter-widgets/base",
            "_view_module_version": "1.2.0",
            "_view_name": "StyleView",
            "bar_color": null,
            "description_width": ""
          }
        },
        "c4ab7af92d5c4daea063385b07d690d2": {
          "model_module": "@jupyter-widgets/base",
          "model_name": "LayoutModel",
          "model_module_version": "1.2.0",
          "state": {
            "_model_module": "@jupyter-widgets/base",
            "_model_module_version": "1.2.0",
            "_model_name": "LayoutModel",
            "_view_count": null,
            "_view_module": "@jupyter-widgets/base",
            "_view_module_version": "1.2.0",
            "_view_name": "LayoutView",
            "align_content": null,
            "align_items": null,
            "align_self": null,
            "border": null,
            "bottom": null,
            "display": null,
            "flex": null,
            "flex_flow": null,
            "grid_area": null,
            "grid_auto_columns": null,
            "grid_auto_flow": null,
            "grid_auto_rows": null,
            "grid_column": null,
            "grid_gap": null,
            "grid_row": null,
            "grid_template_areas": null,
            "grid_template_columns": null,
            "grid_template_rows": null,
            "height": null,
            "justify_content": null,
            "justify_items": null,
            "left": null,
            "margin": null,
            "max_height": null,
            "max_width": null,
            "min_height": null,
            "min_width": null,
            "object_fit": null,
            "object_position": null,
            "order": null,
            "overflow": null,
            "overflow_x": null,
            "overflow_y": null,
            "padding": null,
            "right": null,
            "top": null,
            "visibility": null,
            "width": null
          }
        },
        "2873a155fa694964bacd1b00a569a266": {
          "model_module": "@jupyter-widgets/controls",
          "model_name": "DescriptionStyleModel",
          "model_module_version": "1.5.0",
          "state": {
            "_model_module": "@jupyter-widgets/controls",
            "_model_module_version": "1.5.0",
            "_model_name": "DescriptionStyleModel",
            "_view_count": null,
            "_view_module": "@jupyter-widgets/base",
            "_view_module_version": "1.2.0",
            "_view_name": "StyleView",
            "description_width": ""
          }
        },
        "41c909e951bb4dfabd7cea9f6efb2242": {
          "model_module": "@jupyter-widgets/controls",
          "model_name": "HBoxModel",
          "model_module_version": "1.5.0",
          "state": {
            "_dom_classes": [],
            "_model_module": "@jupyter-widgets/controls",
            "_model_module_version": "1.5.0",
            "_model_name": "HBoxModel",
            "_view_count": null,
            "_view_module": "@jupyter-widgets/controls",
            "_view_module_version": "1.5.0",
            "_view_name": "HBoxView",
            "box_style": "",
            "children": [
              "IPY_MODEL_c8f440832a964bd98fef3ecee27c408b",
              "IPY_MODEL_d4ac02f732174d1e905b9d4c424c7701",
              "IPY_MODEL_d6a29312a49b400fa8a8a760b8e82443"
            ],
            "layout": "IPY_MODEL_bc51151192974105b0db8a459a75074e"
          }
        },
        "c8f440832a964bd98fef3ecee27c408b": {
          "model_module": "@jupyter-widgets/controls",
          "model_name": "HTMLModel",
          "model_module_version": "1.5.0",
          "state": {
            "_dom_classes": [],
            "_model_module": "@jupyter-widgets/controls",
            "_model_module_version": "1.5.0",
            "_model_name": "HTMLModel",
            "_view_count": null,
            "_view_module": "@jupyter-widgets/controls",
            "_view_module_version": "1.5.0",
            "_view_name": "HTMLView",
            "description": "",
            "description_tooltip": null,
            "layout": "IPY_MODEL_b0d0585e8a89401988878101e5daf3ef",
            "placeholder": "​",
            "style": "IPY_MODEL_05dff45bf2d4424aa8056079fb7a36af",
            "value": "special_tokens_map.json: 100%"
          }
        },
        "d4ac02f732174d1e905b9d4c424c7701": {
          "model_module": "@jupyter-widgets/controls",
          "model_name": "FloatProgressModel",
          "model_module_version": "1.5.0",
          "state": {
            "_dom_classes": [],
            "_model_module": "@jupyter-widgets/controls",
            "_model_module_version": "1.5.0",
            "_model_name": "FloatProgressModel",
            "_view_count": null,
            "_view_module": "@jupyter-widgets/controls",
            "_view_module_version": "1.5.0",
            "_view_name": "ProgressView",
            "bar_style": "success",
            "description": "",
            "description_tooltip": null,
            "layout": "IPY_MODEL_d630b55e2b1f4eac97347fc7c9dd2463",
            "max": 72,
            "min": 0,
            "orientation": "horizontal",
            "style": "IPY_MODEL_d2ffca9d19484a0bbd7dde0965733688",
            "value": 72
          }
        },
        "d6a29312a49b400fa8a8a760b8e82443": {
          "model_module": "@jupyter-widgets/controls",
          "model_name": "HTMLModel",
          "model_module_version": "1.5.0",
          "state": {
            "_dom_classes": [],
            "_model_module": "@jupyter-widgets/controls",
            "_model_module_version": "1.5.0",
            "_model_name": "HTMLModel",
            "_view_count": null,
            "_view_module": "@jupyter-widgets/controls",
            "_view_module_version": "1.5.0",
            "_view_name": "HTMLView",
            "description": "",
            "description_tooltip": null,
            "layout": "IPY_MODEL_f4ce90e6699d4193bbcbeb3a9d9e1ff8",
            "placeholder": "​",
            "style": "IPY_MODEL_179babcbd20643549e70fd6acb6e23ae",
            "value": " 72.0/72.0 [00:00&lt;00:00, 5.91kB/s]"
          }
        },
        "bc51151192974105b0db8a459a75074e": {
          "model_module": "@jupyter-widgets/base",
          "model_name": "LayoutModel",
          "model_module_version": "1.2.0",
          "state": {
            "_model_module": "@jupyter-widgets/base",
            "_model_module_version": "1.2.0",
            "_model_name": "LayoutModel",
            "_view_count": null,
            "_view_module": "@jupyter-widgets/base",
            "_view_module_version": "1.2.0",
            "_view_name": "LayoutView",
            "align_content": null,
            "align_items": null,
            "align_self": null,
            "border": null,
            "bottom": null,
            "display": null,
            "flex": null,
            "flex_flow": null,
            "grid_area": null,
            "grid_auto_columns": null,
            "grid_auto_flow": null,
            "grid_auto_rows": null,
            "grid_column": null,
            "grid_gap": null,
            "grid_row": null,
            "grid_template_areas": null,
            "grid_template_columns": null,
            "grid_template_rows": null,
            "height": null,
            "justify_content": null,
            "justify_items": null,
            "left": null,
            "margin": null,
            "max_height": null,
            "max_width": null,
            "min_height": null,
            "min_width": null,
            "object_fit": null,
            "object_position": null,
            "order": null,
            "overflow": null,
            "overflow_x": null,
            "overflow_y": null,
            "padding": null,
            "right": null,
            "top": null,
            "visibility": null,
            "width": null
          }
        },
        "b0d0585e8a89401988878101e5daf3ef": {
          "model_module": "@jupyter-widgets/base",
          "model_name": "LayoutModel",
          "model_module_version": "1.2.0",
          "state": {
            "_model_module": "@jupyter-widgets/base",
            "_model_module_version": "1.2.0",
            "_model_name": "LayoutModel",
            "_view_count": null,
            "_view_module": "@jupyter-widgets/base",
            "_view_module_version": "1.2.0",
            "_view_name": "LayoutView",
            "align_content": null,
            "align_items": null,
            "align_self": null,
            "border": null,
            "bottom": null,
            "display": null,
            "flex": null,
            "flex_flow": null,
            "grid_area": null,
            "grid_auto_columns": null,
            "grid_auto_flow": null,
            "grid_auto_rows": null,
            "grid_column": null,
            "grid_gap": null,
            "grid_row": null,
            "grid_template_areas": null,
            "grid_template_columns": null,
            "grid_template_rows": null,
            "height": null,
            "justify_content": null,
            "justify_items": null,
            "left": null,
            "margin": null,
            "max_height": null,
            "max_width": null,
            "min_height": null,
            "min_width": null,
            "object_fit": null,
            "object_position": null,
            "order": null,
            "overflow": null,
            "overflow_x": null,
            "overflow_y": null,
            "padding": null,
            "right": null,
            "top": null,
            "visibility": null,
            "width": null
          }
        },
        "05dff45bf2d4424aa8056079fb7a36af": {
          "model_module": "@jupyter-widgets/controls",
          "model_name": "DescriptionStyleModel",
          "model_module_version": "1.5.0",
          "state": {
            "_model_module": "@jupyter-widgets/controls",
            "_model_module_version": "1.5.0",
            "_model_name": "DescriptionStyleModel",
            "_view_count": null,
            "_view_module": "@jupyter-widgets/base",
            "_view_module_version": "1.2.0",
            "_view_name": "StyleView",
            "description_width": ""
          }
        },
        "d630b55e2b1f4eac97347fc7c9dd2463": {
          "model_module": "@jupyter-widgets/base",
          "model_name": "LayoutModel",
          "model_module_version": "1.2.0",
          "state": {
            "_model_module": "@jupyter-widgets/base",
            "_model_module_version": "1.2.0",
            "_model_name": "LayoutModel",
            "_view_count": null,
            "_view_module": "@jupyter-widgets/base",
            "_view_module_version": "1.2.0",
            "_view_name": "LayoutView",
            "align_content": null,
            "align_items": null,
            "align_self": null,
            "border": null,
            "bottom": null,
            "display": null,
            "flex": null,
            "flex_flow": null,
            "grid_area": null,
            "grid_auto_columns": null,
            "grid_auto_flow": null,
            "grid_auto_rows": null,
            "grid_column": null,
            "grid_gap": null,
            "grid_row": null,
            "grid_template_areas": null,
            "grid_template_columns": null,
            "grid_template_rows": null,
            "height": null,
            "justify_content": null,
            "justify_items": null,
            "left": null,
            "margin": null,
            "max_height": null,
            "max_width": null,
            "min_height": null,
            "min_width": null,
            "object_fit": null,
            "object_position": null,
            "order": null,
            "overflow": null,
            "overflow_x": null,
            "overflow_y": null,
            "padding": null,
            "right": null,
            "top": null,
            "visibility": null,
            "width": null
          }
        },
        "d2ffca9d19484a0bbd7dde0965733688": {
          "model_module": "@jupyter-widgets/controls",
          "model_name": "ProgressStyleModel",
          "model_module_version": "1.5.0",
          "state": {
            "_model_module": "@jupyter-widgets/controls",
            "_model_module_version": "1.5.0",
            "_model_name": "ProgressStyleModel",
            "_view_count": null,
            "_view_module": "@jupyter-widgets/base",
            "_view_module_version": "1.2.0",
            "_view_name": "StyleView",
            "bar_color": null,
            "description_width": ""
          }
        },
        "f4ce90e6699d4193bbcbeb3a9d9e1ff8": {
          "model_module": "@jupyter-widgets/base",
          "model_name": "LayoutModel",
          "model_module_version": "1.2.0",
          "state": {
            "_model_module": "@jupyter-widgets/base",
            "_model_module_version": "1.2.0",
            "_model_name": "LayoutModel",
            "_view_count": null,
            "_view_module": "@jupyter-widgets/base",
            "_view_module_version": "1.2.0",
            "_view_name": "LayoutView",
            "align_content": null,
            "align_items": null,
            "align_self": null,
            "border": null,
            "bottom": null,
            "display": null,
            "flex": null,
            "flex_flow": null,
            "grid_area": null,
            "grid_auto_columns": null,
            "grid_auto_flow": null,
            "grid_auto_rows": null,
            "grid_column": null,
            "grid_gap": null,
            "grid_row": null,
            "grid_template_areas": null,
            "grid_template_columns": null,
            "grid_template_rows": null,
            "height": null,
            "justify_content": null,
            "justify_items": null,
            "left": null,
            "margin": null,
            "max_height": null,
            "max_width": null,
            "min_height": null,
            "min_width": null,
            "object_fit": null,
            "object_position": null,
            "order": null,
            "overflow": null,
            "overflow_x": null,
            "overflow_y": null,
            "padding": null,
            "right": null,
            "top": null,
            "visibility": null,
            "width": null
          }
        },
        "179babcbd20643549e70fd6acb6e23ae": {
          "model_module": "@jupyter-widgets/controls",
          "model_name": "DescriptionStyleModel",
          "model_module_version": "1.5.0",
          "state": {
            "_model_module": "@jupyter-widgets/controls",
            "_model_module_version": "1.5.0",
            "_model_name": "DescriptionStyleModel",
            "_view_count": null,
            "_view_module": "@jupyter-widgets/base",
            "_view_module_version": "1.2.0",
            "_view_name": "StyleView",
            "description_width": ""
          }
        },
        "f7ef1e26fa814102be3702ff22669dd7": {
          "model_module": "@jupyter-widgets/controls",
          "model_name": "HBoxModel",
          "model_module_version": "1.5.0",
          "state": {
            "_dom_classes": [],
            "_model_module": "@jupyter-widgets/controls",
            "_model_module_version": "1.5.0",
            "_model_name": "HBoxModel",
            "_view_count": null,
            "_view_module": "@jupyter-widgets/controls",
            "_view_module_version": "1.5.0",
            "_view_name": "HBoxView",
            "box_style": "",
            "children": [
              "IPY_MODEL_fcf89aec27cc40878b8463411c825795",
              "IPY_MODEL_31e4a871dc894541adcbf139a51f9e9f",
              "IPY_MODEL_0899ef6ff95f475f9742a8963a1b6c7b"
            ],
            "layout": "IPY_MODEL_ee18c39b2b38448aa746b1c3a7da72e3"
          }
        },
        "fcf89aec27cc40878b8463411c825795": {
          "model_module": "@jupyter-widgets/controls",
          "model_name": "HTMLModel",
          "model_module_version": "1.5.0",
          "state": {
            "_dom_classes": [],
            "_model_module": "@jupyter-widgets/controls",
            "_model_module_version": "1.5.0",
            "_model_name": "HTMLModel",
            "_view_count": null,
            "_view_module": "@jupyter-widgets/controls",
            "_view_module_version": "1.5.0",
            "_view_name": "HTMLView",
            "description": "",
            "description_tooltip": null,
            "layout": "IPY_MODEL_7a9466fe82a14e34a42e6f9d38efe0d9",
            "placeholder": "​",
            "style": "IPY_MODEL_ee6f478ef90a42e4b4b4c219c4502f4c",
            "value": "config.json: 100%"
          }
        },
        "31e4a871dc894541adcbf139a51f9e9f": {
          "model_module": "@jupyter-widgets/controls",
          "model_name": "FloatProgressModel",
          "model_module_version": "1.5.0",
          "state": {
            "_dom_classes": [],
            "_model_module": "@jupyter-widgets/controls",
            "_model_module_version": "1.5.0",
            "_model_name": "FloatProgressModel",
            "_view_count": null,
            "_view_module": "@jupyter-widgets/controls",
            "_view_module_version": "1.5.0",
            "_view_name": "ProgressView",
            "bar_style": "success",
            "description": "",
            "description_tooltip": null,
            "layout": "IPY_MODEL_f7871ac7c75b4ed2be74ccb4a4cd16b5",
            "max": 596,
            "min": 0,
            "orientation": "horizontal",
            "style": "IPY_MODEL_7d40acf085e243ae8352058c92a93eaa",
            "value": 596
          }
        },
        "0899ef6ff95f475f9742a8963a1b6c7b": {
          "model_module": "@jupyter-widgets/controls",
          "model_name": "HTMLModel",
          "model_module_version": "1.5.0",
          "state": {
            "_dom_classes": [],
            "_model_module": "@jupyter-widgets/controls",
            "_model_module_version": "1.5.0",
            "_model_name": "HTMLModel",
            "_view_count": null,
            "_view_module": "@jupyter-widgets/controls",
            "_view_module_version": "1.5.0",
            "_view_name": "HTMLView",
            "description": "",
            "description_tooltip": null,
            "layout": "IPY_MODEL_fdcd69d631eb4ef58442592b97b0571f",
            "placeholder": "​",
            "style": "IPY_MODEL_60cea75a64d441d485e0339a376f4582",
            "value": " 596/596 [00:00&lt;00:00, 56.6kB/s]"
          }
        },
        "ee18c39b2b38448aa746b1c3a7da72e3": {
          "model_module": "@jupyter-widgets/base",
          "model_name": "LayoutModel",
          "model_module_version": "1.2.0",
          "state": {
            "_model_module": "@jupyter-widgets/base",
            "_model_module_version": "1.2.0",
            "_model_name": "LayoutModel",
            "_view_count": null,
            "_view_module": "@jupyter-widgets/base",
            "_view_module_version": "1.2.0",
            "_view_name": "LayoutView",
            "align_content": null,
            "align_items": null,
            "align_self": null,
            "border": null,
            "bottom": null,
            "display": null,
            "flex": null,
            "flex_flow": null,
            "grid_area": null,
            "grid_auto_columns": null,
            "grid_auto_flow": null,
            "grid_auto_rows": null,
            "grid_column": null,
            "grid_gap": null,
            "grid_row": null,
            "grid_template_areas": null,
            "grid_template_columns": null,
            "grid_template_rows": null,
            "height": null,
            "justify_content": null,
            "justify_items": null,
            "left": null,
            "margin": null,
            "max_height": null,
            "max_width": null,
            "min_height": null,
            "min_width": null,
            "object_fit": null,
            "object_position": null,
            "order": null,
            "overflow": null,
            "overflow_x": null,
            "overflow_y": null,
            "padding": null,
            "right": null,
            "top": null,
            "visibility": null,
            "width": null
          }
        },
        "7a9466fe82a14e34a42e6f9d38efe0d9": {
          "model_module": "@jupyter-widgets/base",
          "model_name": "LayoutModel",
          "model_module_version": "1.2.0",
          "state": {
            "_model_module": "@jupyter-widgets/base",
            "_model_module_version": "1.2.0",
            "_model_name": "LayoutModel",
            "_view_count": null,
            "_view_module": "@jupyter-widgets/base",
            "_view_module_version": "1.2.0",
            "_view_name": "LayoutView",
            "align_content": null,
            "align_items": null,
            "align_self": null,
            "border": null,
            "bottom": null,
            "display": null,
            "flex": null,
            "flex_flow": null,
            "grid_area": null,
            "grid_auto_columns": null,
            "grid_auto_flow": null,
            "grid_auto_rows": null,
            "grid_column": null,
            "grid_gap": null,
            "grid_row": null,
            "grid_template_areas": null,
            "grid_template_columns": null,
            "grid_template_rows": null,
            "height": null,
            "justify_content": null,
            "justify_items": null,
            "left": null,
            "margin": null,
            "max_height": null,
            "max_width": null,
            "min_height": null,
            "min_width": null,
            "object_fit": null,
            "object_position": null,
            "order": null,
            "overflow": null,
            "overflow_x": null,
            "overflow_y": null,
            "padding": null,
            "right": null,
            "top": null,
            "visibility": null,
            "width": null
          }
        },
        "ee6f478ef90a42e4b4b4c219c4502f4c": {
          "model_module": "@jupyter-widgets/controls",
          "model_name": "DescriptionStyleModel",
          "model_module_version": "1.5.0",
          "state": {
            "_model_module": "@jupyter-widgets/controls",
            "_model_module_version": "1.5.0",
            "_model_name": "DescriptionStyleModel",
            "_view_count": null,
            "_view_module": "@jupyter-widgets/base",
            "_view_module_version": "1.2.0",
            "_view_name": "StyleView",
            "description_width": ""
          }
        },
        "f7871ac7c75b4ed2be74ccb4a4cd16b5": {
          "model_module": "@jupyter-widgets/base",
          "model_name": "LayoutModel",
          "model_module_version": "1.2.0",
          "state": {
            "_model_module": "@jupyter-widgets/base",
            "_model_module_version": "1.2.0",
            "_model_name": "LayoutModel",
            "_view_count": null,
            "_view_module": "@jupyter-widgets/base",
            "_view_module_version": "1.2.0",
            "_view_name": "LayoutView",
            "align_content": null,
            "align_items": null,
            "align_self": null,
            "border": null,
            "bottom": null,
            "display": null,
            "flex": null,
            "flex_flow": null,
            "grid_area": null,
            "grid_auto_columns": null,
            "grid_auto_flow": null,
            "grid_auto_rows": null,
            "grid_column": null,
            "grid_gap": null,
            "grid_row": null,
            "grid_template_areas": null,
            "grid_template_columns": null,
            "grid_template_rows": null,
            "height": null,
            "justify_content": null,
            "justify_items": null,
            "left": null,
            "margin": null,
            "max_height": null,
            "max_width": null,
            "min_height": null,
            "min_width": null,
            "object_fit": null,
            "object_position": null,
            "order": null,
            "overflow": null,
            "overflow_x": null,
            "overflow_y": null,
            "padding": null,
            "right": null,
            "top": null,
            "visibility": null,
            "width": null
          }
        },
        "7d40acf085e243ae8352058c92a93eaa": {
          "model_module": "@jupyter-widgets/controls",
          "model_name": "ProgressStyleModel",
          "model_module_version": "1.5.0",
          "state": {
            "_model_module": "@jupyter-widgets/controls",
            "_model_module_version": "1.5.0",
            "_model_name": "ProgressStyleModel",
            "_view_count": null,
            "_view_module": "@jupyter-widgets/base",
            "_view_module_version": "1.2.0",
            "_view_name": "StyleView",
            "bar_color": null,
            "description_width": ""
          }
        },
        "fdcd69d631eb4ef58442592b97b0571f": {
          "model_module": "@jupyter-widgets/base",
          "model_name": "LayoutModel",
          "model_module_version": "1.2.0",
          "state": {
            "_model_module": "@jupyter-widgets/base",
            "_model_module_version": "1.2.0",
            "_model_name": "LayoutModel",
            "_view_count": null,
            "_view_module": "@jupyter-widgets/base",
            "_view_module_version": "1.2.0",
            "_view_name": "LayoutView",
            "align_content": null,
            "align_items": null,
            "align_self": null,
            "border": null,
            "bottom": null,
            "display": null,
            "flex": null,
            "flex_flow": null,
            "grid_area": null,
            "grid_auto_columns": null,
            "grid_auto_flow": null,
            "grid_auto_rows": null,
            "grid_column": null,
            "grid_gap": null,
            "grid_row": null,
            "grid_template_areas": null,
            "grid_template_columns": null,
            "grid_template_rows": null,
            "height": null,
            "justify_content": null,
            "justify_items": null,
            "left": null,
            "margin": null,
            "max_height": null,
            "max_width": null,
            "min_height": null,
            "min_width": null,
            "object_fit": null,
            "object_position": null,
            "order": null,
            "overflow": null,
            "overflow_x": null,
            "overflow_y": null,
            "padding": null,
            "right": null,
            "top": null,
            "visibility": null,
            "width": null
          }
        },
        "60cea75a64d441d485e0339a376f4582": {
          "model_module": "@jupyter-widgets/controls",
          "model_name": "DescriptionStyleModel",
          "model_module_version": "1.5.0",
          "state": {
            "_model_module": "@jupyter-widgets/controls",
            "_model_module_version": "1.5.0",
            "_model_name": "DescriptionStyleModel",
            "_view_count": null,
            "_view_module": "@jupyter-widgets/base",
            "_view_module_version": "1.2.0",
            "_view_name": "StyleView",
            "description_width": ""
          }
        },
        "8a4df0379b1946c29f8ac3ba2de3e658": {
          "model_module": "@jupyter-widgets/controls",
          "model_name": "HBoxModel",
          "model_module_version": "1.5.0",
          "state": {
            "_dom_classes": [],
            "_model_module": "@jupyter-widgets/controls",
            "_model_module_version": "1.5.0",
            "_model_name": "HBoxModel",
            "_view_count": null,
            "_view_module": "@jupyter-widgets/controls",
            "_view_module_version": "1.5.0",
            "_view_name": "HBoxView",
            "box_style": "",
            "children": [
              "IPY_MODEL_93443992fc034f2a8a8417e63c105bdf",
              "IPY_MODEL_bf117f86cd4e45f9b07ac8169390f57b",
              "IPY_MODEL_12a04067dc3d4e8dbf674d90fba0378d"
            ],
            "layout": "IPY_MODEL_4df4f214f5b54248a0b3c4187b3d0d5c"
          }
        },
        "93443992fc034f2a8a8417e63c105bdf": {
          "model_module": "@jupyter-widgets/controls",
          "model_name": "HTMLModel",
          "model_module_version": "1.5.0",
          "state": {
            "_dom_classes": [],
            "_model_module": "@jupyter-widgets/controls",
            "_model_module_version": "1.5.0",
            "_model_name": "HTMLModel",
            "_view_count": null,
            "_view_module": "@jupyter-widgets/controls",
            "_view_module_version": "1.5.0",
            "_view_name": "HTMLView",
            "description": "",
            "description_tooltip": null,
            "layout": "IPY_MODEL_a147139bd7be496db632d3625dae4c9f",
            "placeholder": "​",
            "style": "IPY_MODEL_d8d09c7bba6042618278ec9ba6fcaf64",
            "value": "model.safetensors.index.json: 100%"
          }
        },
        "bf117f86cd4e45f9b07ac8169390f57b": {
          "model_module": "@jupyter-widgets/controls",
          "model_name": "FloatProgressModel",
          "model_module_version": "1.5.0",
          "state": {
            "_dom_classes": [],
            "_model_module": "@jupyter-widgets/controls",
            "_model_module_version": "1.5.0",
            "_model_name": "FloatProgressModel",
            "_view_count": null,
            "_view_module": "@jupyter-widgets/controls",
            "_view_module_version": "1.5.0",
            "_view_name": "ProgressView",
            "bar_style": "success",
            "description": "",
            "description_tooltip": null,
            "layout": "IPY_MODEL_a73ab056dad04f7a8243012058ce8455",
            "max": 25125,
            "min": 0,
            "orientation": "horizontal",
            "style": "IPY_MODEL_52dc6b59442544a285c221cc8bf2cdec",
            "value": 25125
          }
        },
        "12a04067dc3d4e8dbf674d90fba0378d": {
          "model_module": "@jupyter-widgets/controls",
          "model_name": "HTMLModel",
          "model_module_version": "1.5.0",
          "state": {
            "_dom_classes": [],
            "_model_module": "@jupyter-widgets/controls",
            "_model_module_version": "1.5.0",
            "_model_name": "HTMLModel",
            "_view_count": null,
            "_view_module": "@jupyter-widgets/controls",
            "_view_module_version": "1.5.0",
            "_view_name": "HTMLView",
            "description": "",
            "description_tooltip": null,
            "layout": "IPY_MODEL_af22beb3a4544275ab80195f59be7dcc",
            "placeholder": "​",
            "style": "IPY_MODEL_328bbd4d083943dcbb020118b6c07540",
            "value": " 25.1k/25.1k [00:00&lt;00:00, 1.75MB/s]"
          }
        },
        "4df4f214f5b54248a0b3c4187b3d0d5c": {
          "model_module": "@jupyter-widgets/base",
          "model_name": "LayoutModel",
          "model_module_version": "1.2.0",
          "state": {
            "_model_module": "@jupyter-widgets/base",
            "_model_module_version": "1.2.0",
            "_model_name": "LayoutModel",
            "_view_count": null,
            "_view_module": "@jupyter-widgets/base",
            "_view_module_version": "1.2.0",
            "_view_name": "LayoutView",
            "align_content": null,
            "align_items": null,
            "align_self": null,
            "border": null,
            "bottom": null,
            "display": null,
            "flex": null,
            "flex_flow": null,
            "grid_area": null,
            "grid_auto_columns": null,
            "grid_auto_flow": null,
            "grid_auto_rows": null,
            "grid_column": null,
            "grid_gap": null,
            "grid_row": null,
            "grid_template_areas": null,
            "grid_template_columns": null,
            "grid_template_rows": null,
            "height": null,
            "justify_content": null,
            "justify_items": null,
            "left": null,
            "margin": null,
            "max_height": null,
            "max_width": null,
            "min_height": null,
            "min_width": null,
            "object_fit": null,
            "object_position": null,
            "order": null,
            "overflow": null,
            "overflow_x": null,
            "overflow_y": null,
            "padding": null,
            "right": null,
            "top": null,
            "visibility": null,
            "width": null
          }
        },
        "a147139bd7be496db632d3625dae4c9f": {
          "model_module": "@jupyter-widgets/base",
          "model_name": "LayoutModel",
          "model_module_version": "1.2.0",
          "state": {
            "_model_module": "@jupyter-widgets/base",
            "_model_module_version": "1.2.0",
            "_model_name": "LayoutModel",
            "_view_count": null,
            "_view_module": "@jupyter-widgets/base",
            "_view_module_version": "1.2.0",
            "_view_name": "LayoutView",
            "align_content": null,
            "align_items": null,
            "align_self": null,
            "border": null,
            "bottom": null,
            "display": null,
            "flex": null,
            "flex_flow": null,
            "grid_area": null,
            "grid_auto_columns": null,
            "grid_auto_flow": null,
            "grid_auto_rows": null,
            "grid_column": null,
            "grid_gap": null,
            "grid_row": null,
            "grid_template_areas": null,
            "grid_template_columns": null,
            "grid_template_rows": null,
            "height": null,
            "justify_content": null,
            "justify_items": null,
            "left": null,
            "margin": null,
            "max_height": null,
            "max_width": null,
            "min_height": null,
            "min_width": null,
            "object_fit": null,
            "object_position": null,
            "order": null,
            "overflow": null,
            "overflow_x": null,
            "overflow_y": null,
            "padding": null,
            "right": null,
            "top": null,
            "visibility": null,
            "width": null
          }
        },
        "d8d09c7bba6042618278ec9ba6fcaf64": {
          "model_module": "@jupyter-widgets/controls",
          "model_name": "DescriptionStyleModel",
          "model_module_version": "1.5.0",
          "state": {
            "_model_module": "@jupyter-widgets/controls",
            "_model_module_version": "1.5.0",
            "_model_name": "DescriptionStyleModel",
            "_view_count": null,
            "_view_module": "@jupyter-widgets/base",
            "_view_module_version": "1.2.0",
            "_view_name": "StyleView",
            "description_width": ""
          }
        },
        "a73ab056dad04f7a8243012058ce8455": {
          "model_module": "@jupyter-widgets/base",
          "model_name": "LayoutModel",
          "model_module_version": "1.2.0",
          "state": {
            "_model_module": "@jupyter-widgets/base",
            "_model_module_version": "1.2.0",
            "_model_name": "LayoutModel",
            "_view_count": null,
            "_view_module": "@jupyter-widgets/base",
            "_view_module_version": "1.2.0",
            "_view_name": "LayoutView",
            "align_content": null,
            "align_items": null,
            "align_self": null,
            "border": null,
            "bottom": null,
            "display": null,
            "flex": null,
            "flex_flow": null,
            "grid_area": null,
            "grid_auto_columns": null,
            "grid_auto_flow": null,
            "grid_auto_rows": null,
            "grid_column": null,
            "grid_gap": null,
            "grid_row": null,
            "grid_template_areas": null,
            "grid_template_columns": null,
            "grid_template_rows": null,
            "height": null,
            "justify_content": null,
            "justify_items": null,
            "left": null,
            "margin": null,
            "max_height": null,
            "max_width": null,
            "min_height": null,
            "min_width": null,
            "object_fit": null,
            "object_position": null,
            "order": null,
            "overflow": null,
            "overflow_x": null,
            "overflow_y": null,
            "padding": null,
            "right": null,
            "top": null,
            "visibility": null,
            "width": null
          }
        },
        "52dc6b59442544a285c221cc8bf2cdec": {
          "model_module": "@jupyter-widgets/controls",
          "model_name": "ProgressStyleModel",
          "model_module_version": "1.5.0",
          "state": {
            "_model_module": "@jupyter-widgets/controls",
            "_model_module_version": "1.5.0",
            "_model_name": "ProgressStyleModel",
            "_view_count": null,
            "_view_module": "@jupyter-widgets/base",
            "_view_module_version": "1.2.0",
            "_view_name": "StyleView",
            "bar_color": null,
            "description_width": ""
          }
        },
        "af22beb3a4544275ab80195f59be7dcc": {
          "model_module": "@jupyter-widgets/base",
          "model_name": "LayoutModel",
          "model_module_version": "1.2.0",
          "state": {
            "_model_module": "@jupyter-widgets/base",
            "_model_module_version": "1.2.0",
            "_model_name": "LayoutModel",
            "_view_count": null,
            "_view_module": "@jupyter-widgets/base",
            "_view_module_version": "1.2.0",
            "_view_name": "LayoutView",
            "align_content": null,
            "align_items": null,
            "align_self": null,
            "border": null,
            "bottom": null,
            "display": null,
            "flex": null,
            "flex_flow": null,
            "grid_area": null,
            "grid_auto_columns": null,
            "grid_auto_flow": null,
            "grid_auto_rows": null,
            "grid_column": null,
            "grid_gap": null,
            "grid_row": null,
            "grid_template_areas": null,
            "grid_template_columns": null,
            "grid_template_rows": null,
            "height": null,
            "justify_content": null,
            "justify_items": null,
            "left": null,
            "margin": null,
            "max_height": null,
            "max_width": null,
            "min_height": null,
            "min_width": null,
            "object_fit": null,
            "object_position": null,
            "order": null,
            "overflow": null,
            "overflow_x": null,
            "overflow_y": null,
            "padding": null,
            "right": null,
            "top": null,
            "visibility": null,
            "width": null
          }
        },
        "328bbd4d083943dcbb020118b6c07540": {
          "model_module": "@jupyter-widgets/controls",
          "model_name": "DescriptionStyleModel",
          "model_module_version": "1.5.0",
          "state": {
            "_model_module": "@jupyter-widgets/controls",
            "_model_module_version": "1.5.0",
            "_model_name": "DescriptionStyleModel",
            "_view_count": null,
            "_view_module": "@jupyter-widgets/base",
            "_view_module_version": "1.2.0",
            "_view_name": "StyleView",
            "description_width": ""
          }
        },
        "c154208f94ce40219c48f3d1415a701f": {
          "model_module": "@jupyter-widgets/controls",
          "model_name": "HBoxModel",
          "model_module_version": "1.5.0",
          "state": {
            "_dom_classes": [],
            "_model_module": "@jupyter-widgets/controls",
            "_model_module_version": "1.5.0",
            "_model_name": "HBoxModel",
            "_view_count": null,
            "_view_module": "@jupyter-widgets/controls",
            "_view_module_version": "1.5.0",
            "_view_name": "HBoxView",
            "box_style": "",
            "children": [
              "IPY_MODEL_e757b632dcc1456993ff433ce415b413",
              "IPY_MODEL_157483a0c00340819847272fa094ca33",
              "IPY_MODEL_a93b6b4fb8da4a6dbc9800cf97733afa"
            ],
            "layout": "IPY_MODEL_a4b37ad3fd6b490886cac0e684e158aa"
          }
        },
        "e757b632dcc1456993ff433ce415b413": {
          "model_module": "@jupyter-widgets/controls",
          "model_name": "HTMLModel",
          "model_module_version": "1.5.0",
          "state": {
            "_dom_classes": [],
            "_model_module": "@jupyter-widgets/controls",
            "_model_module_version": "1.5.0",
            "_model_name": "HTMLModel",
            "_view_count": null,
            "_view_module": "@jupyter-widgets/controls",
            "_view_module_version": "1.5.0",
            "_view_name": "HTMLView",
            "description": "",
            "description_tooltip": null,
            "layout": "IPY_MODEL_6f3833b357c94c58aac4fdd61830968e",
            "placeholder": "​",
            "style": "IPY_MODEL_973992f145bf4f5496ff6d953bf4676f",
            "value": "Downloading shards: 100%"
          }
        },
        "157483a0c00340819847272fa094ca33": {
          "model_module": "@jupyter-widgets/controls",
          "model_name": "FloatProgressModel",
          "model_module_version": "1.5.0",
          "state": {
            "_dom_classes": [],
            "_model_module": "@jupyter-widgets/controls",
            "_model_module_version": "1.5.0",
            "_model_name": "FloatProgressModel",
            "_view_count": null,
            "_view_module": "@jupyter-widgets/controls",
            "_view_module_version": "1.5.0",
            "_view_name": "ProgressView",
            "bar_style": "success",
            "description": "",
            "description_tooltip": null,
            "layout": "IPY_MODEL_c7843c9d57414796ad227c624b013051",
            "max": 3,
            "min": 0,
            "orientation": "horizontal",
            "style": "IPY_MODEL_b9f3763890014d97a287b388158e94d6",
            "value": 3
          }
        },
        "a93b6b4fb8da4a6dbc9800cf97733afa": {
          "model_module": "@jupyter-widgets/controls",
          "model_name": "HTMLModel",
          "model_module_version": "1.5.0",
          "state": {
            "_dom_classes": [],
            "_model_module": "@jupyter-widgets/controls",
            "_model_module_version": "1.5.0",
            "_model_name": "HTMLModel",
            "_view_count": null,
            "_view_module": "@jupyter-widgets/controls",
            "_view_module_version": "1.5.0",
            "_view_name": "HTMLView",
            "description": "",
            "description_tooltip": null,
            "layout": "IPY_MODEL_800e3b1f6100478fa7521b58c91c3fab",
            "placeholder": "​",
            "style": "IPY_MODEL_665b1e8fb7f049499daa055b7f91a6f1",
            "value": " 3/3 [01:16&lt;00:00, 24.90s/it]"
          }
        },
        "a4b37ad3fd6b490886cac0e684e158aa": {
          "model_module": "@jupyter-widgets/base",
          "model_name": "LayoutModel",
          "model_module_version": "1.2.0",
          "state": {
            "_model_module": "@jupyter-widgets/base",
            "_model_module_version": "1.2.0",
            "_model_name": "LayoutModel",
            "_view_count": null,
            "_view_module": "@jupyter-widgets/base",
            "_view_module_version": "1.2.0",
            "_view_name": "LayoutView",
            "align_content": null,
            "align_items": null,
            "align_self": null,
            "border": null,
            "bottom": null,
            "display": null,
            "flex": null,
            "flex_flow": null,
            "grid_area": null,
            "grid_auto_columns": null,
            "grid_auto_flow": null,
            "grid_auto_rows": null,
            "grid_column": null,
            "grid_gap": null,
            "grid_row": null,
            "grid_template_areas": null,
            "grid_template_columns": null,
            "grid_template_rows": null,
            "height": null,
            "justify_content": null,
            "justify_items": null,
            "left": null,
            "margin": null,
            "max_height": null,
            "max_width": null,
            "min_height": null,
            "min_width": null,
            "object_fit": null,
            "object_position": null,
            "order": null,
            "overflow": null,
            "overflow_x": null,
            "overflow_y": null,
            "padding": null,
            "right": null,
            "top": null,
            "visibility": null,
            "width": null
          }
        },
        "6f3833b357c94c58aac4fdd61830968e": {
          "model_module": "@jupyter-widgets/base",
          "model_name": "LayoutModel",
          "model_module_version": "1.2.0",
          "state": {
            "_model_module": "@jupyter-widgets/base",
            "_model_module_version": "1.2.0",
            "_model_name": "LayoutModel",
            "_view_count": null,
            "_view_module": "@jupyter-widgets/base",
            "_view_module_version": "1.2.0",
            "_view_name": "LayoutView",
            "align_content": null,
            "align_items": null,
            "align_self": null,
            "border": null,
            "bottom": null,
            "display": null,
            "flex": null,
            "flex_flow": null,
            "grid_area": null,
            "grid_auto_columns": null,
            "grid_auto_flow": null,
            "grid_auto_rows": null,
            "grid_column": null,
            "grid_gap": null,
            "grid_row": null,
            "grid_template_areas": null,
            "grid_template_columns": null,
            "grid_template_rows": null,
            "height": null,
            "justify_content": null,
            "justify_items": null,
            "left": null,
            "margin": null,
            "max_height": null,
            "max_width": null,
            "min_height": null,
            "min_width": null,
            "object_fit": null,
            "object_position": null,
            "order": null,
            "overflow": null,
            "overflow_x": null,
            "overflow_y": null,
            "padding": null,
            "right": null,
            "top": null,
            "visibility": null,
            "width": null
          }
        },
        "973992f145bf4f5496ff6d953bf4676f": {
          "model_module": "@jupyter-widgets/controls",
          "model_name": "DescriptionStyleModel",
          "model_module_version": "1.5.0",
          "state": {
            "_model_module": "@jupyter-widgets/controls",
            "_model_module_version": "1.5.0",
            "_model_name": "DescriptionStyleModel",
            "_view_count": null,
            "_view_module": "@jupyter-widgets/base",
            "_view_module_version": "1.2.0",
            "_view_name": "StyleView",
            "description_width": ""
          }
        },
        "c7843c9d57414796ad227c624b013051": {
          "model_module": "@jupyter-widgets/base",
          "model_name": "LayoutModel",
          "model_module_version": "1.2.0",
          "state": {
            "_model_module": "@jupyter-widgets/base",
            "_model_module_version": "1.2.0",
            "_model_name": "LayoutModel",
            "_view_count": null,
            "_view_module": "@jupyter-widgets/base",
            "_view_module_version": "1.2.0",
            "_view_name": "LayoutView",
            "align_content": null,
            "align_items": null,
            "align_self": null,
            "border": null,
            "bottom": null,
            "display": null,
            "flex": null,
            "flex_flow": null,
            "grid_area": null,
            "grid_auto_columns": null,
            "grid_auto_flow": null,
            "grid_auto_rows": null,
            "grid_column": null,
            "grid_gap": null,
            "grid_row": null,
            "grid_template_areas": null,
            "grid_template_columns": null,
            "grid_template_rows": null,
            "height": null,
            "justify_content": null,
            "justify_items": null,
            "left": null,
            "margin": null,
            "max_height": null,
            "max_width": null,
            "min_height": null,
            "min_width": null,
            "object_fit": null,
            "object_position": null,
            "order": null,
            "overflow": null,
            "overflow_x": null,
            "overflow_y": null,
            "padding": null,
            "right": null,
            "top": null,
            "visibility": null,
            "width": null
          }
        },
        "b9f3763890014d97a287b388158e94d6": {
          "model_module": "@jupyter-widgets/controls",
          "model_name": "ProgressStyleModel",
          "model_module_version": "1.5.0",
          "state": {
            "_model_module": "@jupyter-widgets/controls",
            "_model_module_version": "1.5.0",
            "_model_name": "ProgressStyleModel",
            "_view_count": null,
            "_view_module": "@jupyter-widgets/base",
            "_view_module_version": "1.2.0",
            "_view_name": "StyleView",
            "bar_color": null,
            "description_width": ""
          }
        },
        "800e3b1f6100478fa7521b58c91c3fab": {
          "model_module": "@jupyter-widgets/base",
          "model_name": "LayoutModel",
          "model_module_version": "1.2.0",
          "state": {
            "_model_module": "@jupyter-widgets/base",
            "_model_module_version": "1.2.0",
            "_model_name": "LayoutModel",
            "_view_count": null,
            "_view_module": "@jupyter-widgets/base",
            "_view_module_version": "1.2.0",
            "_view_name": "LayoutView",
            "align_content": null,
            "align_items": null,
            "align_self": null,
            "border": null,
            "bottom": null,
            "display": null,
            "flex": null,
            "flex_flow": null,
            "grid_area": null,
            "grid_auto_columns": null,
            "grid_auto_flow": null,
            "grid_auto_rows": null,
            "grid_column": null,
            "grid_gap": null,
            "grid_row": null,
            "grid_template_areas": null,
            "grid_template_columns": null,
            "grid_template_rows": null,
            "height": null,
            "justify_content": null,
            "justify_items": null,
            "left": null,
            "margin": null,
            "max_height": null,
            "max_width": null,
            "min_height": null,
            "min_width": null,
            "object_fit": null,
            "object_position": null,
            "order": null,
            "overflow": null,
            "overflow_x": null,
            "overflow_y": null,
            "padding": null,
            "right": null,
            "top": null,
            "visibility": null,
            "width": null
          }
        },
        "665b1e8fb7f049499daa055b7f91a6f1": {
          "model_module": "@jupyter-widgets/controls",
          "model_name": "DescriptionStyleModel",
          "model_module_version": "1.5.0",
          "state": {
            "_model_module": "@jupyter-widgets/controls",
            "_model_module_version": "1.5.0",
            "_model_name": "DescriptionStyleModel",
            "_view_count": null,
            "_view_module": "@jupyter-widgets/base",
            "_view_module_version": "1.2.0",
            "_view_name": "StyleView",
            "description_width": ""
          }
        },
        "0725bf0e1eba49d0a1e3e67e1625dbd4": {
          "model_module": "@jupyter-widgets/controls",
          "model_name": "HBoxModel",
          "model_module_version": "1.5.0",
          "state": {
            "_dom_classes": [],
            "_model_module": "@jupyter-widgets/controls",
            "_model_module_version": "1.5.0",
            "_model_name": "HBoxModel",
            "_view_count": null,
            "_view_module": "@jupyter-widgets/controls",
            "_view_module_version": "1.5.0",
            "_view_name": "HBoxView",
            "box_style": "",
            "children": [
              "IPY_MODEL_94f94207177e4b29bbdf57a62ab26743",
              "IPY_MODEL_43798120157d44b882f34a41932b2f16",
              "IPY_MODEL_f915397c45d846e589213036f19b4e37"
            ],
            "layout": "IPY_MODEL_97548948bc944d7fa64c2bba1394c6f0"
          }
        },
        "94f94207177e4b29bbdf57a62ab26743": {
          "model_module": "@jupyter-widgets/controls",
          "model_name": "HTMLModel",
          "model_module_version": "1.5.0",
          "state": {
            "_dom_classes": [],
            "_model_module": "@jupyter-widgets/controls",
            "_model_module_version": "1.5.0",
            "_model_name": "HTMLModel",
            "_view_count": null,
            "_view_module": "@jupyter-widgets/controls",
            "_view_module_version": "1.5.0",
            "_view_name": "HTMLView",
            "description": "",
            "description_tooltip": null,
            "layout": "IPY_MODEL_ec8e4d279e14427f927d4b249d9a9345",
            "placeholder": "​",
            "style": "IPY_MODEL_93268bfd26d541dcaab247e5c0a948ed",
            "value": "model-00001-of-00003.safetensors: 100%"
          }
        },
        "43798120157d44b882f34a41932b2f16": {
          "model_module": "@jupyter-widgets/controls",
          "model_name": "FloatProgressModel",
          "model_module_version": "1.5.0",
          "state": {
            "_dom_classes": [],
            "_model_module": "@jupyter-widgets/controls",
            "_model_module_version": "1.5.0",
            "_model_name": "FloatProgressModel",
            "_view_count": null,
            "_view_module": "@jupyter-widgets/controls",
            "_view_module_version": "1.5.0",
            "_view_name": "ProgressView",
            "bar_style": "success",
            "description": "",
            "description_tooltip": null,
            "layout": "IPY_MODEL_24e67caf872141fb838d5b1c5e540475",
            "max": 4943162336,
            "min": 0,
            "orientation": "horizontal",
            "style": "IPY_MODEL_06e6d0b20d8344d8bc9a967526771f8f",
            "value": 4943162336
          }
        },
        "f915397c45d846e589213036f19b4e37": {
          "model_module": "@jupyter-widgets/controls",
          "model_name": "HTMLModel",
          "model_module_version": "1.5.0",
          "state": {
            "_dom_classes": [],
            "_model_module": "@jupyter-widgets/controls",
            "_model_module_version": "1.5.0",
            "_model_name": "HTMLModel",
            "_view_count": null,
            "_view_module": "@jupyter-widgets/controls",
            "_view_module_version": "1.5.0",
            "_view_name": "HTMLView",
            "description": "",
            "description_tooltip": null,
            "layout": "IPY_MODEL_a24bbec16e6240c3889e4bac283c4ed3",
            "placeholder": "​",
            "style": "IPY_MODEL_d2b0895c890d4c98a55241d7d754d6a1",
            "value": " 4.94G/4.94G [00:27&lt;00:00, 208MB/s]"
          }
        },
        "97548948bc944d7fa64c2bba1394c6f0": {
          "model_module": "@jupyter-widgets/base",
          "model_name": "LayoutModel",
          "model_module_version": "1.2.0",
          "state": {
            "_model_module": "@jupyter-widgets/base",
            "_model_module_version": "1.2.0",
            "_model_name": "LayoutModel",
            "_view_count": null,
            "_view_module": "@jupyter-widgets/base",
            "_view_module_version": "1.2.0",
            "_view_name": "LayoutView",
            "align_content": null,
            "align_items": null,
            "align_self": null,
            "border": null,
            "bottom": null,
            "display": null,
            "flex": null,
            "flex_flow": null,
            "grid_area": null,
            "grid_auto_columns": null,
            "grid_auto_flow": null,
            "grid_auto_rows": null,
            "grid_column": null,
            "grid_gap": null,
            "grid_row": null,
            "grid_template_areas": null,
            "grid_template_columns": null,
            "grid_template_rows": null,
            "height": null,
            "justify_content": null,
            "justify_items": null,
            "left": null,
            "margin": null,
            "max_height": null,
            "max_width": null,
            "min_height": null,
            "min_width": null,
            "object_fit": null,
            "object_position": null,
            "order": null,
            "overflow": null,
            "overflow_x": null,
            "overflow_y": null,
            "padding": null,
            "right": null,
            "top": null,
            "visibility": null,
            "width": null
          }
        },
        "ec8e4d279e14427f927d4b249d9a9345": {
          "model_module": "@jupyter-widgets/base",
          "model_name": "LayoutModel",
          "model_module_version": "1.2.0",
          "state": {
            "_model_module": "@jupyter-widgets/base",
            "_model_module_version": "1.2.0",
            "_model_name": "LayoutModel",
            "_view_count": null,
            "_view_module": "@jupyter-widgets/base",
            "_view_module_version": "1.2.0",
            "_view_name": "LayoutView",
            "align_content": null,
            "align_items": null,
            "align_self": null,
            "border": null,
            "bottom": null,
            "display": null,
            "flex": null,
            "flex_flow": null,
            "grid_area": null,
            "grid_auto_columns": null,
            "grid_auto_flow": null,
            "grid_auto_rows": null,
            "grid_column": null,
            "grid_gap": null,
            "grid_row": null,
            "grid_template_areas": null,
            "grid_template_columns": null,
            "grid_template_rows": null,
            "height": null,
            "justify_content": null,
            "justify_items": null,
            "left": null,
            "margin": null,
            "max_height": null,
            "max_width": null,
            "min_height": null,
            "min_width": null,
            "object_fit": null,
            "object_position": null,
            "order": null,
            "overflow": null,
            "overflow_x": null,
            "overflow_y": null,
            "padding": null,
            "right": null,
            "top": null,
            "visibility": null,
            "width": null
          }
        },
        "93268bfd26d541dcaab247e5c0a948ed": {
          "model_module": "@jupyter-widgets/controls",
          "model_name": "DescriptionStyleModel",
          "model_module_version": "1.5.0",
          "state": {
            "_model_module": "@jupyter-widgets/controls",
            "_model_module_version": "1.5.0",
            "_model_name": "DescriptionStyleModel",
            "_view_count": null,
            "_view_module": "@jupyter-widgets/base",
            "_view_module_version": "1.2.0",
            "_view_name": "StyleView",
            "description_width": ""
          }
        },
        "24e67caf872141fb838d5b1c5e540475": {
          "model_module": "@jupyter-widgets/base",
          "model_name": "LayoutModel",
          "model_module_version": "1.2.0",
          "state": {
            "_model_module": "@jupyter-widgets/base",
            "_model_module_version": "1.2.0",
            "_model_name": "LayoutModel",
            "_view_count": null,
            "_view_module": "@jupyter-widgets/base",
            "_view_module_version": "1.2.0",
            "_view_name": "LayoutView",
            "align_content": null,
            "align_items": null,
            "align_self": null,
            "border": null,
            "bottom": null,
            "display": null,
            "flex": null,
            "flex_flow": null,
            "grid_area": null,
            "grid_auto_columns": null,
            "grid_auto_flow": null,
            "grid_auto_rows": null,
            "grid_column": null,
            "grid_gap": null,
            "grid_row": null,
            "grid_template_areas": null,
            "grid_template_columns": null,
            "grid_template_rows": null,
            "height": null,
            "justify_content": null,
            "justify_items": null,
            "left": null,
            "margin": null,
            "max_height": null,
            "max_width": null,
            "min_height": null,
            "min_width": null,
            "object_fit": null,
            "object_position": null,
            "order": null,
            "overflow": null,
            "overflow_x": null,
            "overflow_y": null,
            "padding": null,
            "right": null,
            "top": null,
            "visibility": null,
            "width": null
          }
        },
        "06e6d0b20d8344d8bc9a967526771f8f": {
          "model_module": "@jupyter-widgets/controls",
          "model_name": "ProgressStyleModel",
          "model_module_version": "1.5.0",
          "state": {
            "_model_module": "@jupyter-widgets/controls",
            "_model_module_version": "1.5.0",
            "_model_name": "ProgressStyleModel",
            "_view_count": null,
            "_view_module": "@jupyter-widgets/base",
            "_view_module_version": "1.2.0",
            "_view_name": "StyleView",
            "bar_color": null,
            "description_width": ""
          }
        },
        "a24bbec16e6240c3889e4bac283c4ed3": {
          "model_module": "@jupyter-widgets/base",
          "model_name": "LayoutModel",
          "model_module_version": "1.2.0",
          "state": {
            "_model_module": "@jupyter-widgets/base",
            "_model_module_version": "1.2.0",
            "_model_name": "LayoutModel",
            "_view_count": null,
            "_view_module": "@jupyter-widgets/base",
            "_view_module_version": "1.2.0",
            "_view_name": "LayoutView",
            "align_content": null,
            "align_items": null,
            "align_self": null,
            "border": null,
            "bottom": null,
            "display": null,
            "flex": null,
            "flex_flow": null,
            "grid_area": null,
            "grid_auto_columns": null,
            "grid_auto_flow": null,
            "grid_auto_rows": null,
            "grid_column": null,
            "grid_gap": null,
            "grid_row": null,
            "grid_template_areas": null,
            "grid_template_columns": null,
            "grid_template_rows": null,
            "height": null,
            "justify_content": null,
            "justify_items": null,
            "left": null,
            "margin": null,
            "max_height": null,
            "max_width": null,
            "min_height": null,
            "min_width": null,
            "object_fit": null,
            "object_position": null,
            "order": null,
            "overflow": null,
            "overflow_x": null,
            "overflow_y": null,
            "padding": null,
            "right": null,
            "top": null,
            "visibility": null,
            "width": null
          }
        },
        "d2b0895c890d4c98a55241d7d754d6a1": {
          "model_module": "@jupyter-widgets/controls",
          "model_name": "DescriptionStyleModel",
          "model_module_version": "1.5.0",
          "state": {
            "_model_module": "@jupyter-widgets/controls",
            "_model_module_version": "1.5.0",
            "_model_name": "DescriptionStyleModel",
            "_view_count": null,
            "_view_module": "@jupyter-widgets/base",
            "_view_module_version": "1.2.0",
            "_view_name": "StyleView",
            "description_width": ""
          }
        },
        "32dce11c847a4a8186bb01e563f163be": {
          "model_module": "@jupyter-widgets/controls",
          "model_name": "HBoxModel",
          "model_module_version": "1.5.0",
          "state": {
            "_dom_classes": [],
            "_model_module": "@jupyter-widgets/controls",
            "_model_module_version": "1.5.0",
            "_model_name": "HBoxModel",
            "_view_count": null,
            "_view_module": "@jupyter-widgets/controls",
            "_view_module_version": "1.5.0",
            "_view_name": "HBoxView",
            "box_style": "",
            "children": [
              "IPY_MODEL_56fa2b844a0344b4b6233e674379a3a6",
              "IPY_MODEL_8c56139db138465caa5ea2cdb9b996fe",
              "IPY_MODEL_699dfe87355844b0b6d280a2de6be6fc"
            ],
            "layout": "IPY_MODEL_40a580a2cde04c91b5911747165a452f"
          }
        },
        "56fa2b844a0344b4b6233e674379a3a6": {
          "model_module": "@jupyter-widgets/controls",
          "model_name": "HTMLModel",
          "model_module_version": "1.5.0",
          "state": {
            "_dom_classes": [],
            "_model_module": "@jupyter-widgets/controls",
            "_model_module_version": "1.5.0",
            "_model_name": "HTMLModel",
            "_view_count": null,
            "_view_module": "@jupyter-widgets/controls",
            "_view_module_version": "1.5.0",
            "_view_name": "HTMLView",
            "description": "",
            "description_tooltip": null,
            "layout": "IPY_MODEL_737d87726cbf4136a77f05ff5c814faa",
            "placeholder": "​",
            "style": "IPY_MODEL_e2ff60f3d3d240d886e55b89c6df738d",
            "value": "model-00002-of-00003.safetensors: 100%"
          }
        },
        "8c56139db138465caa5ea2cdb9b996fe": {
          "model_module": "@jupyter-widgets/controls",
          "model_name": "FloatProgressModel",
          "model_module_version": "1.5.0",
          "state": {
            "_dom_classes": [],
            "_model_module": "@jupyter-widgets/controls",
            "_model_module_version": "1.5.0",
            "_model_name": "FloatProgressModel",
            "_view_count": null,
            "_view_module": "@jupyter-widgets/controls",
            "_view_module_version": "1.5.0",
            "_view_name": "ProgressView",
            "bar_style": "success",
            "description": "",
            "description_tooltip": null,
            "layout": "IPY_MODEL_548d6fa82a674326a85d0c43732dfce0",
            "max": 4999819336,
            "min": 0,
            "orientation": "horizontal",
            "style": "IPY_MODEL_8a98a5b9782e4096aeac15278de124e6",
            "value": 4999819336
          }
        },
        "699dfe87355844b0b6d280a2de6be6fc": {
          "model_module": "@jupyter-widgets/controls",
          "model_name": "HTMLModel",
          "model_module_version": "1.5.0",
          "state": {
            "_dom_classes": [],
            "_model_module": "@jupyter-widgets/controls",
            "_model_module_version": "1.5.0",
            "_model_name": "HTMLModel",
            "_view_count": null,
            "_view_module": "@jupyter-widgets/controls",
            "_view_module_version": "1.5.0",
            "_view_name": "HTMLView",
            "description": "",
            "description_tooltip": null,
            "layout": "IPY_MODEL_9fa836d95b0b4d6994a954b7f213b67a",
            "placeholder": "​",
            "style": "IPY_MODEL_8b6b625a5895440f81fa98b02ae1f6ca",
            "value": " 5.00G/5.00G [00:27&lt;00:00, 219MB/s]"
          }
        },
        "40a580a2cde04c91b5911747165a452f": {
          "model_module": "@jupyter-widgets/base",
          "model_name": "LayoutModel",
          "model_module_version": "1.2.0",
          "state": {
            "_model_module": "@jupyter-widgets/base",
            "_model_module_version": "1.2.0",
            "_model_name": "LayoutModel",
            "_view_count": null,
            "_view_module": "@jupyter-widgets/base",
            "_view_module_version": "1.2.0",
            "_view_name": "LayoutView",
            "align_content": null,
            "align_items": null,
            "align_self": null,
            "border": null,
            "bottom": null,
            "display": null,
            "flex": null,
            "flex_flow": null,
            "grid_area": null,
            "grid_auto_columns": null,
            "grid_auto_flow": null,
            "grid_auto_rows": null,
            "grid_column": null,
            "grid_gap": null,
            "grid_row": null,
            "grid_template_areas": null,
            "grid_template_columns": null,
            "grid_template_rows": null,
            "height": null,
            "justify_content": null,
            "justify_items": null,
            "left": null,
            "margin": null,
            "max_height": null,
            "max_width": null,
            "min_height": null,
            "min_width": null,
            "object_fit": null,
            "object_position": null,
            "order": null,
            "overflow": null,
            "overflow_x": null,
            "overflow_y": null,
            "padding": null,
            "right": null,
            "top": null,
            "visibility": null,
            "width": null
          }
        },
        "737d87726cbf4136a77f05ff5c814faa": {
          "model_module": "@jupyter-widgets/base",
          "model_name": "LayoutModel",
          "model_module_version": "1.2.0",
          "state": {
            "_model_module": "@jupyter-widgets/base",
            "_model_module_version": "1.2.0",
            "_model_name": "LayoutModel",
            "_view_count": null,
            "_view_module": "@jupyter-widgets/base",
            "_view_module_version": "1.2.0",
            "_view_name": "LayoutView",
            "align_content": null,
            "align_items": null,
            "align_self": null,
            "border": null,
            "bottom": null,
            "display": null,
            "flex": null,
            "flex_flow": null,
            "grid_area": null,
            "grid_auto_columns": null,
            "grid_auto_flow": null,
            "grid_auto_rows": null,
            "grid_column": null,
            "grid_gap": null,
            "grid_row": null,
            "grid_template_areas": null,
            "grid_template_columns": null,
            "grid_template_rows": null,
            "height": null,
            "justify_content": null,
            "justify_items": null,
            "left": null,
            "margin": null,
            "max_height": null,
            "max_width": null,
            "min_height": null,
            "min_width": null,
            "object_fit": null,
            "object_position": null,
            "order": null,
            "overflow": null,
            "overflow_x": null,
            "overflow_y": null,
            "padding": null,
            "right": null,
            "top": null,
            "visibility": null,
            "width": null
          }
        },
        "e2ff60f3d3d240d886e55b89c6df738d": {
          "model_module": "@jupyter-widgets/controls",
          "model_name": "DescriptionStyleModel",
          "model_module_version": "1.5.0",
          "state": {
            "_model_module": "@jupyter-widgets/controls",
            "_model_module_version": "1.5.0",
            "_model_name": "DescriptionStyleModel",
            "_view_count": null,
            "_view_module": "@jupyter-widgets/base",
            "_view_module_version": "1.2.0",
            "_view_name": "StyleView",
            "description_width": ""
          }
        },
        "548d6fa82a674326a85d0c43732dfce0": {
          "model_module": "@jupyter-widgets/base",
          "model_name": "LayoutModel",
          "model_module_version": "1.2.0",
          "state": {
            "_model_module": "@jupyter-widgets/base",
            "_model_module_version": "1.2.0",
            "_model_name": "LayoutModel",
            "_view_count": null,
            "_view_module": "@jupyter-widgets/base",
            "_view_module_version": "1.2.0",
            "_view_name": "LayoutView",
            "align_content": null,
            "align_items": null,
            "align_self": null,
            "border": null,
            "bottom": null,
            "display": null,
            "flex": null,
            "flex_flow": null,
            "grid_area": null,
            "grid_auto_columns": null,
            "grid_auto_flow": null,
            "grid_auto_rows": null,
            "grid_column": null,
            "grid_gap": null,
            "grid_row": null,
            "grid_template_areas": null,
            "grid_template_columns": null,
            "grid_template_rows": null,
            "height": null,
            "justify_content": null,
            "justify_items": null,
            "left": null,
            "margin": null,
            "max_height": null,
            "max_width": null,
            "min_height": null,
            "min_width": null,
            "object_fit": null,
            "object_position": null,
            "order": null,
            "overflow": null,
            "overflow_x": null,
            "overflow_y": null,
            "padding": null,
            "right": null,
            "top": null,
            "visibility": null,
            "width": null
          }
        },
        "8a98a5b9782e4096aeac15278de124e6": {
          "model_module": "@jupyter-widgets/controls",
          "model_name": "ProgressStyleModel",
          "model_module_version": "1.5.0",
          "state": {
            "_model_module": "@jupyter-widgets/controls",
            "_model_module_version": "1.5.0",
            "_model_name": "ProgressStyleModel",
            "_view_count": null,
            "_view_module": "@jupyter-widgets/base",
            "_view_module_version": "1.2.0",
            "_view_name": "StyleView",
            "bar_color": null,
            "description_width": ""
          }
        },
        "9fa836d95b0b4d6994a954b7f213b67a": {
          "model_module": "@jupyter-widgets/base",
          "model_name": "LayoutModel",
          "model_module_version": "1.2.0",
          "state": {
            "_model_module": "@jupyter-widgets/base",
            "_model_module_version": "1.2.0",
            "_model_name": "LayoutModel",
            "_view_count": null,
            "_view_module": "@jupyter-widgets/base",
            "_view_module_version": "1.2.0",
            "_view_name": "LayoutView",
            "align_content": null,
            "align_items": null,
            "align_self": null,
            "border": null,
            "bottom": null,
            "display": null,
            "flex": null,
            "flex_flow": null,
            "grid_area": null,
            "grid_auto_columns": null,
            "grid_auto_flow": null,
            "grid_auto_rows": null,
            "grid_column": null,
            "grid_gap": null,
            "grid_row": null,
            "grid_template_areas": null,
            "grid_template_columns": null,
            "grid_template_rows": null,
            "height": null,
            "justify_content": null,
            "justify_items": null,
            "left": null,
            "margin": null,
            "max_height": null,
            "max_width": null,
            "min_height": null,
            "min_width": null,
            "object_fit": null,
            "object_position": null,
            "order": null,
            "overflow": null,
            "overflow_x": null,
            "overflow_y": null,
            "padding": null,
            "right": null,
            "top": null,
            "visibility": null,
            "width": null
          }
        },
        "8b6b625a5895440f81fa98b02ae1f6ca": {
          "model_module": "@jupyter-widgets/controls",
          "model_name": "DescriptionStyleModel",
          "model_module_version": "1.5.0",
          "state": {
            "_model_module": "@jupyter-widgets/controls",
            "_model_module_version": "1.5.0",
            "_model_name": "DescriptionStyleModel",
            "_view_count": null,
            "_view_module": "@jupyter-widgets/base",
            "_view_module_version": "1.2.0",
            "_view_name": "StyleView",
            "description_width": ""
          }
        },
        "cdfab38b406c4134ac971c37426e1605": {
          "model_module": "@jupyter-widgets/controls",
          "model_name": "HBoxModel",
          "model_module_version": "1.5.0",
          "state": {
            "_dom_classes": [],
            "_model_module": "@jupyter-widgets/controls",
            "_model_module_version": "1.5.0",
            "_model_name": "HBoxModel",
            "_view_count": null,
            "_view_module": "@jupyter-widgets/controls",
            "_view_module_version": "1.5.0",
            "_view_name": "HBoxView",
            "box_style": "",
            "children": [
              "IPY_MODEL_15e2e639a63247a3b81c479a5b4afc2d",
              "IPY_MODEL_bb26f5f66cbc489bad600530c1b53e5e",
              "IPY_MODEL_9a8a3df924814f82b4a415616ea8d208"
            ],
            "layout": "IPY_MODEL_15e79d9b918c47969aa5144f11d60fa7"
          }
        },
        "15e2e639a63247a3b81c479a5b4afc2d": {
          "model_module": "@jupyter-widgets/controls",
          "model_name": "HTMLModel",
          "model_module_version": "1.5.0",
          "state": {
            "_dom_classes": [],
            "_model_module": "@jupyter-widgets/controls",
            "_model_module_version": "1.5.0",
            "_model_name": "HTMLModel",
            "_view_count": null,
            "_view_module": "@jupyter-widgets/controls",
            "_view_module_version": "1.5.0",
            "_view_name": "HTMLView",
            "description": "",
            "description_tooltip": null,
            "layout": "IPY_MODEL_c4a3bb24625b4779b276c3bf55702848",
            "placeholder": "​",
            "style": "IPY_MODEL_fd446f63af08420e8d213a1da5414d11",
            "value": "model-00003-of-00003.safetensors: 100%"
          }
        },
        "bb26f5f66cbc489bad600530c1b53e5e": {
          "model_module": "@jupyter-widgets/controls",
          "model_name": "FloatProgressModel",
          "model_module_version": "1.5.0",
          "state": {
            "_dom_classes": [],
            "_model_module": "@jupyter-widgets/controls",
            "_model_module_version": "1.5.0",
            "_model_name": "FloatProgressModel",
            "_view_count": null,
            "_view_module": "@jupyter-widgets/controls",
            "_view_module_version": "1.5.0",
            "_view_name": "ProgressView",
            "bar_style": "success",
            "description": "",
            "description_tooltip": null,
            "layout": "IPY_MODEL_21d9b3bdb638409e8e6facbaed01c127",
            "max": 4540516344,
            "min": 0,
            "orientation": "horizontal",
            "style": "IPY_MODEL_c0479ef08194404cb1a3fb94747f2de1",
            "value": 4540516344
          }
        },
        "9a8a3df924814f82b4a415616ea8d208": {
          "model_module": "@jupyter-widgets/controls",
          "model_name": "HTMLModel",
          "model_module_version": "1.5.0",
          "state": {
            "_dom_classes": [],
            "_model_module": "@jupyter-widgets/controls",
            "_model_module_version": "1.5.0",
            "_model_name": "HTMLModel",
            "_view_count": null,
            "_view_module": "@jupyter-widgets/controls",
            "_view_module_version": "1.5.0",
            "_view_name": "HTMLView",
            "description": "",
            "description_tooltip": null,
            "layout": "IPY_MODEL_8147bcd03f934534acc8a02c6a3f2086",
            "placeholder": "​",
            "style": "IPY_MODEL_8dcfbdccc874429a85a34f9c9b7bc445",
            "value": " 4.54G/4.54G [00:21&lt;00:00, 213MB/s]"
          }
        },
        "15e79d9b918c47969aa5144f11d60fa7": {
          "model_module": "@jupyter-widgets/base",
          "model_name": "LayoutModel",
          "model_module_version": "1.2.0",
          "state": {
            "_model_module": "@jupyter-widgets/base",
            "_model_module_version": "1.2.0",
            "_model_name": "LayoutModel",
            "_view_count": null,
            "_view_module": "@jupyter-widgets/base",
            "_view_module_version": "1.2.0",
            "_view_name": "LayoutView",
            "align_content": null,
            "align_items": null,
            "align_self": null,
            "border": null,
            "bottom": null,
            "display": null,
            "flex": null,
            "flex_flow": null,
            "grid_area": null,
            "grid_auto_columns": null,
            "grid_auto_flow": null,
            "grid_auto_rows": null,
            "grid_column": null,
            "grid_gap": null,
            "grid_row": null,
            "grid_template_areas": null,
            "grid_template_columns": null,
            "grid_template_rows": null,
            "height": null,
            "justify_content": null,
            "justify_items": null,
            "left": null,
            "margin": null,
            "max_height": null,
            "max_width": null,
            "min_height": null,
            "min_width": null,
            "object_fit": null,
            "object_position": null,
            "order": null,
            "overflow": null,
            "overflow_x": null,
            "overflow_y": null,
            "padding": null,
            "right": null,
            "top": null,
            "visibility": null,
            "width": null
          }
        },
        "c4a3bb24625b4779b276c3bf55702848": {
          "model_module": "@jupyter-widgets/base",
          "model_name": "LayoutModel",
          "model_module_version": "1.2.0",
          "state": {
            "_model_module": "@jupyter-widgets/base",
            "_model_module_version": "1.2.0",
            "_model_name": "LayoutModel",
            "_view_count": null,
            "_view_module": "@jupyter-widgets/base",
            "_view_module_version": "1.2.0",
            "_view_name": "LayoutView",
            "align_content": null,
            "align_items": null,
            "align_self": null,
            "border": null,
            "bottom": null,
            "display": null,
            "flex": null,
            "flex_flow": null,
            "grid_area": null,
            "grid_auto_columns": null,
            "grid_auto_flow": null,
            "grid_auto_rows": null,
            "grid_column": null,
            "grid_gap": null,
            "grid_row": null,
            "grid_template_areas": null,
            "grid_template_columns": null,
            "grid_template_rows": null,
            "height": null,
            "justify_content": null,
            "justify_items": null,
            "left": null,
            "margin": null,
            "max_height": null,
            "max_width": null,
            "min_height": null,
            "min_width": null,
            "object_fit": null,
            "object_position": null,
            "order": null,
            "overflow": null,
            "overflow_x": null,
            "overflow_y": null,
            "padding": null,
            "right": null,
            "top": null,
            "visibility": null,
            "width": null
          }
        },
        "fd446f63af08420e8d213a1da5414d11": {
          "model_module": "@jupyter-widgets/controls",
          "model_name": "DescriptionStyleModel",
          "model_module_version": "1.5.0",
          "state": {
            "_model_module": "@jupyter-widgets/controls",
            "_model_module_version": "1.5.0",
            "_model_name": "DescriptionStyleModel",
            "_view_count": null,
            "_view_module": "@jupyter-widgets/base",
            "_view_module_version": "1.2.0",
            "_view_name": "StyleView",
            "description_width": ""
          }
        },
        "21d9b3bdb638409e8e6facbaed01c127": {
          "model_module": "@jupyter-widgets/base",
          "model_name": "LayoutModel",
          "model_module_version": "1.2.0",
          "state": {
            "_model_module": "@jupyter-widgets/base",
            "_model_module_version": "1.2.0",
            "_model_name": "LayoutModel",
            "_view_count": null,
            "_view_module": "@jupyter-widgets/base",
            "_view_module_version": "1.2.0",
            "_view_name": "LayoutView",
            "align_content": null,
            "align_items": null,
            "align_self": null,
            "border": null,
            "bottom": null,
            "display": null,
            "flex": null,
            "flex_flow": null,
            "grid_area": null,
            "grid_auto_columns": null,
            "grid_auto_flow": null,
            "grid_auto_rows": null,
            "grid_column": null,
            "grid_gap": null,
            "grid_row": null,
            "grid_template_areas": null,
            "grid_template_columns": null,
            "grid_template_rows": null,
            "height": null,
            "justify_content": null,
            "justify_items": null,
            "left": null,
            "margin": null,
            "max_height": null,
            "max_width": null,
            "min_height": null,
            "min_width": null,
            "object_fit": null,
            "object_position": null,
            "order": null,
            "overflow": null,
            "overflow_x": null,
            "overflow_y": null,
            "padding": null,
            "right": null,
            "top": null,
            "visibility": null,
            "width": null
          }
        },
        "c0479ef08194404cb1a3fb94747f2de1": {
          "model_module": "@jupyter-widgets/controls",
          "model_name": "ProgressStyleModel",
          "model_module_version": "1.5.0",
          "state": {
            "_model_module": "@jupyter-widgets/controls",
            "_model_module_version": "1.5.0",
            "_model_name": "ProgressStyleModel",
            "_view_count": null,
            "_view_module": "@jupyter-widgets/base",
            "_view_module_version": "1.2.0",
            "_view_name": "StyleView",
            "bar_color": null,
            "description_width": ""
          }
        },
        "8147bcd03f934534acc8a02c6a3f2086": {
          "model_module": "@jupyter-widgets/base",
          "model_name": "LayoutModel",
          "model_module_version": "1.2.0",
          "state": {
            "_model_module": "@jupyter-widgets/base",
            "_model_module_version": "1.2.0",
            "_model_name": "LayoutModel",
            "_view_count": null,
            "_view_module": "@jupyter-widgets/base",
            "_view_module_version": "1.2.0",
            "_view_name": "LayoutView",
            "align_content": null,
            "align_items": null,
            "align_self": null,
            "border": null,
            "bottom": null,
            "display": null,
            "flex": null,
            "flex_flow": null,
            "grid_area": null,
            "grid_auto_columns": null,
            "grid_auto_flow": null,
            "grid_auto_rows": null,
            "grid_column": null,
            "grid_gap": null,
            "grid_row": null,
            "grid_template_areas": null,
            "grid_template_columns": null,
            "grid_template_rows": null,
            "height": null,
            "justify_content": null,
            "justify_items": null,
            "left": null,
            "margin": null,
            "max_height": null,
            "max_width": null,
            "min_height": null,
            "min_width": null,
            "object_fit": null,
            "object_position": null,
            "order": null,
            "overflow": null,
            "overflow_x": null,
            "overflow_y": null,
            "padding": null,
            "right": null,
            "top": null,
            "visibility": null,
            "width": null
          }
        },
        "8dcfbdccc874429a85a34f9c9b7bc445": {
          "model_module": "@jupyter-widgets/controls",
          "model_name": "DescriptionStyleModel",
          "model_module_version": "1.5.0",
          "state": {
            "_model_module": "@jupyter-widgets/controls",
            "_model_module_version": "1.5.0",
            "_model_name": "DescriptionStyleModel",
            "_view_count": null,
            "_view_module": "@jupyter-widgets/base",
            "_view_module_version": "1.2.0",
            "_view_name": "StyleView",
            "description_width": ""
          }
        },
        "4cc7edcf26884c44b2ad1fa26ae3bfe6": {
          "model_module": "@jupyter-widgets/controls",
          "model_name": "HBoxModel",
          "model_module_version": "1.5.0",
          "state": {
            "_dom_classes": [],
            "_model_module": "@jupyter-widgets/controls",
            "_model_module_version": "1.5.0",
            "_model_name": "HBoxModel",
            "_view_count": null,
            "_view_module": "@jupyter-widgets/controls",
            "_view_module_version": "1.5.0",
            "_view_name": "HBoxView",
            "box_style": "",
            "children": [
              "IPY_MODEL_c4b066a830ed440d993ee77cf74c297e",
              "IPY_MODEL_b3684108b95f47fbb0211720debe389b",
              "IPY_MODEL_ebd38079eed149daa796b95e33cc3e9c"
            ],
            "layout": "IPY_MODEL_9a374f36a8c94adcbba97f5ac7cb0004"
          }
        },
        "c4b066a830ed440d993ee77cf74c297e": {
          "model_module": "@jupyter-widgets/controls",
          "model_name": "HTMLModel",
          "model_module_version": "1.5.0",
          "state": {
            "_dom_classes": [],
            "_model_module": "@jupyter-widgets/controls",
            "_model_module_version": "1.5.0",
            "_model_name": "HTMLModel",
            "_view_count": null,
            "_view_module": "@jupyter-widgets/controls",
            "_view_module_version": "1.5.0",
            "_view_name": "HTMLView",
            "description": "",
            "description_tooltip": null,
            "layout": "IPY_MODEL_90f0e825d125480a80cb0d853afa5e13",
            "placeholder": "​",
            "style": "IPY_MODEL_c7ebf3c018724c35a4ae43b5f6642a48",
            "value": "Loading checkpoint shards: 100%"
          }
        },
        "b3684108b95f47fbb0211720debe389b": {
          "model_module": "@jupyter-widgets/controls",
          "model_name": "FloatProgressModel",
          "model_module_version": "1.5.0",
          "state": {
            "_dom_classes": [],
            "_model_module": "@jupyter-widgets/controls",
            "_model_module_version": "1.5.0",
            "_model_name": "FloatProgressModel",
            "_view_count": null,
            "_view_module": "@jupyter-widgets/controls",
            "_view_module_version": "1.5.0",
            "_view_name": "ProgressView",
            "bar_style": "success",
            "description": "",
            "description_tooltip": null,
            "layout": "IPY_MODEL_cf83981f6b064ea9a2a9fdc996da2e5e",
            "max": 3,
            "min": 0,
            "orientation": "horizontal",
            "style": "IPY_MODEL_be42b2c1775740ce8c6565bfe89564de",
            "value": 3
          }
        },
        "ebd38079eed149daa796b95e33cc3e9c": {
          "model_module": "@jupyter-widgets/controls",
          "model_name": "HTMLModel",
          "model_module_version": "1.5.0",
          "state": {
            "_dom_classes": [],
            "_model_module": "@jupyter-widgets/controls",
            "_model_module_version": "1.5.0",
            "_model_name": "HTMLModel",
            "_view_count": null,
            "_view_module": "@jupyter-widgets/controls",
            "_view_module_version": "1.5.0",
            "_view_name": "HTMLView",
            "description": "",
            "description_tooltip": null,
            "layout": "IPY_MODEL_82d1140742284ce5a1953cb623e838a4",
            "placeholder": "​",
            "style": "IPY_MODEL_c3942b023e584b4f87d6a29f8982684f",
            "value": " 3/3 [00:07&lt;00:00,  2.39s/it]"
          }
        },
        "9a374f36a8c94adcbba97f5ac7cb0004": {
          "model_module": "@jupyter-widgets/base",
          "model_name": "LayoutModel",
          "model_module_version": "1.2.0",
          "state": {
            "_model_module": "@jupyter-widgets/base",
            "_model_module_version": "1.2.0",
            "_model_name": "LayoutModel",
            "_view_count": null,
            "_view_module": "@jupyter-widgets/base",
            "_view_module_version": "1.2.0",
            "_view_name": "LayoutView",
            "align_content": null,
            "align_items": null,
            "align_self": null,
            "border": null,
            "bottom": null,
            "display": null,
            "flex": null,
            "flex_flow": null,
            "grid_area": null,
            "grid_auto_columns": null,
            "grid_auto_flow": null,
            "grid_auto_rows": null,
            "grid_column": null,
            "grid_gap": null,
            "grid_row": null,
            "grid_template_areas": null,
            "grid_template_columns": null,
            "grid_template_rows": null,
            "height": null,
            "justify_content": null,
            "justify_items": null,
            "left": null,
            "margin": null,
            "max_height": null,
            "max_width": null,
            "min_height": null,
            "min_width": null,
            "object_fit": null,
            "object_position": null,
            "order": null,
            "overflow": null,
            "overflow_x": null,
            "overflow_y": null,
            "padding": null,
            "right": null,
            "top": null,
            "visibility": null,
            "width": null
          }
        },
        "90f0e825d125480a80cb0d853afa5e13": {
          "model_module": "@jupyter-widgets/base",
          "model_name": "LayoutModel",
          "model_module_version": "1.2.0",
          "state": {
            "_model_module": "@jupyter-widgets/base",
            "_model_module_version": "1.2.0",
            "_model_name": "LayoutModel",
            "_view_count": null,
            "_view_module": "@jupyter-widgets/base",
            "_view_module_version": "1.2.0",
            "_view_name": "LayoutView",
            "align_content": null,
            "align_items": null,
            "align_self": null,
            "border": null,
            "bottom": null,
            "display": null,
            "flex": null,
            "flex_flow": null,
            "grid_area": null,
            "grid_auto_columns": null,
            "grid_auto_flow": null,
            "grid_auto_rows": null,
            "grid_column": null,
            "grid_gap": null,
            "grid_row": null,
            "grid_template_areas": null,
            "grid_template_columns": null,
            "grid_template_rows": null,
            "height": null,
            "justify_content": null,
            "justify_items": null,
            "left": null,
            "margin": null,
            "max_height": null,
            "max_width": null,
            "min_height": null,
            "min_width": null,
            "object_fit": null,
            "object_position": null,
            "order": null,
            "overflow": null,
            "overflow_x": null,
            "overflow_y": null,
            "padding": null,
            "right": null,
            "top": null,
            "visibility": null,
            "width": null
          }
        },
        "c7ebf3c018724c35a4ae43b5f6642a48": {
          "model_module": "@jupyter-widgets/controls",
          "model_name": "DescriptionStyleModel",
          "model_module_version": "1.5.0",
          "state": {
            "_model_module": "@jupyter-widgets/controls",
            "_model_module_version": "1.5.0",
            "_model_name": "DescriptionStyleModel",
            "_view_count": null,
            "_view_module": "@jupyter-widgets/base",
            "_view_module_version": "1.2.0",
            "_view_name": "StyleView",
            "description_width": ""
          }
        },
        "cf83981f6b064ea9a2a9fdc996da2e5e": {
          "model_module": "@jupyter-widgets/base",
          "model_name": "LayoutModel",
          "model_module_version": "1.2.0",
          "state": {
            "_model_module": "@jupyter-widgets/base",
            "_model_module_version": "1.2.0",
            "_model_name": "LayoutModel",
            "_view_count": null,
            "_view_module": "@jupyter-widgets/base",
            "_view_module_version": "1.2.0",
            "_view_name": "LayoutView",
            "align_content": null,
            "align_items": null,
            "align_self": null,
            "border": null,
            "bottom": null,
            "display": null,
            "flex": null,
            "flex_flow": null,
            "grid_area": null,
            "grid_auto_columns": null,
            "grid_auto_flow": null,
            "grid_auto_rows": null,
            "grid_column": null,
            "grid_gap": null,
            "grid_row": null,
            "grid_template_areas": null,
            "grid_template_columns": null,
            "grid_template_rows": null,
            "height": null,
            "justify_content": null,
            "justify_items": null,
            "left": null,
            "margin": null,
            "max_height": null,
            "max_width": null,
            "min_height": null,
            "min_width": null,
            "object_fit": null,
            "object_position": null,
            "order": null,
            "overflow": null,
            "overflow_x": null,
            "overflow_y": null,
            "padding": null,
            "right": null,
            "top": null,
            "visibility": null,
            "width": null
          }
        },
        "be42b2c1775740ce8c6565bfe89564de": {
          "model_module": "@jupyter-widgets/controls",
          "model_name": "ProgressStyleModel",
          "model_module_version": "1.5.0",
          "state": {
            "_model_module": "@jupyter-widgets/controls",
            "_model_module_version": "1.5.0",
            "_model_name": "ProgressStyleModel",
            "_view_count": null,
            "_view_module": "@jupyter-widgets/base",
            "_view_module_version": "1.2.0",
            "_view_name": "StyleView",
            "bar_color": null,
            "description_width": ""
          }
        },
        "82d1140742284ce5a1953cb623e838a4": {
          "model_module": "@jupyter-widgets/base",
          "model_name": "LayoutModel",
          "model_module_version": "1.2.0",
          "state": {
            "_model_module": "@jupyter-widgets/base",
            "_model_module_version": "1.2.0",
            "_model_name": "LayoutModel",
            "_view_count": null,
            "_view_module": "@jupyter-widgets/base",
            "_view_module_version": "1.2.0",
            "_view_name": "LayoutView",
            "align_content": null,
            "align_items": null,
            "align_self": null,
            "border": null,
            "bottom": null,
            "display": null,
            "flex": null,
            "flex_flow": null,
            "grid_area": null,
            "grid_auto_columns": null,
            "grid_auto_flow": null,
            "grid_auto_rows": null,
            "grid_column": null,
            "grid_gap": null,
            "grid_row": null,
            "grid_template_areas": null,
            "grid_template_columns": null,
            "grid_template_rows": null,
            "height": null,
            "justify_content": null,
            "justify_items": null,
            "left": null,
            "margin": null,
            "max_height": null,
            "max_width": null,
            "min_height": null,
            "min_width": null,
            "object_fit": null,
            "object_position": null,
            "order": null,
            "overflow": null,
            "overflow_x": null,
            "overflow_y": null,
            "padding": null,
            "right": null,
            "top": null,
            "visibility": null,
            "width": null
          }
        },
        "c3942b023e584b4f87d6a29f8982684f": {
          "model_module": "@jupyter-widgets/controls",
          "model_name": "DescriptionStyleModel",
          "model_module_version": "1.5.0",
          "state": {
            "_model_module": "@jupyter-widgets/controls",
            "_model_module_version": "1.5.0",
            "_model_name": "DescriptionStyleModel",
            "_view_count": null,
            "_view_module": "@jupyter-widgets/base",
            "_view_module_version": "1.2.0",
            "_view_name": "StyleView",
            "description_width": ""
          }
        },
        "6ca2b39a01534587b5bfcc1d2e99aa20": {
          "model_module": "@jupyter-widgets/controls",
          "model_name": "HBoxModel",
          "model_module_version": "1.5.0",
          "state": {
            "_dom_classes": [],
            "_model_module": "@jupyter-widgets/controls",
            "_model_module_version": "1.5.0",
            "_model_name": "HBoxModel",
            "_view_count": null,
            "_view_module": "@jupyter-widgets/controls",
            "_view_module_version": "1.5.0",
            "_view_name": "HBoxView",
            "box_style": "",
            "children": [
              "IPY_MODEL_2aae679838ae49b5a82322133fbc0afa",
              "IPY_MODEL_34993c56271443afa2290969cd4fa1f9",
              "IPY_MODEL_c564ea241f454a669763c2bc46f09403"
            ],
            "layout": "IPY_MODEL_32166053eedf4aceaaee43185818116a"
          }
        },
        "2aae679838ae49b5a82322133fbc0afa": {
          "model_module": "@jupyter-widgets/controls",
          "model_name": "HTMLModel",
          "model_module_version": "1.5.0",
          "state": {
            "_dom_classes": [],
            "_model_module": "@jupyter-widgets/controls",
            "_model_module_version": "1.5.0",
            "_model_name": "HTMLModel",
            "_view_count": null,
            "_view_module": "@jupyter-widgets/controls",
            "_view_module_version": "1.5.0",
            "_view_name": "HTMLView",
            "description": "",
            "description_tooltip": null,
            "layout": "IPY_MODEL_d6cfad47ef5943a69dcfde48dfd0ecc4",
            "placeholder": "​",
            "style": "IPY_MODEL_02adcd76d5764c659e3d8acfed4bea67",
            "value": "generation_config.json: 100%"
          }
        },
        "34993c56271443afa2290969cd4fa1f9": {
          "model_module": "@jupyter-widgets/controls",
          "model_name": "FloatProgressModel",
          "model_module_version": "1.5.0",
          "state": {
            "_dom_classes": [],
            "_model_module": "@jupyter-widgets/controls",
            "_model_module_version": "1.5.0",
            "_model_name": "FloatProgressModel",
            "_view_count": null,
            "_view_module": "@jupyter-widgets/controls",
            "_view_module_version": "1.5.0",
            "_view_name": "ProgressView",
            "bar_style": "success",
            "description": "",
            "description_tooltip": null,
            "layout": "IPY_MODEL_149a4bf7742a4f419da3abb507868b1b",
            "max": 111,
            "min": 0,
            "orientation": "horizontal",
            "style": "IPY_MODEL_cb5f1ecbb968406ab6f39f3e385a2789",
            "value": 111
          }
        },
        "c564ea241f454a669763c2bc46f09403": {
          "model_module": "@jupyter-widgets/controls",
          "model_name": "HTMLModel",
          "model_module_version": "1.5.0",
          "state": {
            "_dom_classes": [],
            "_model_module": "@jupyter-widgets/controls",
            "_model_module_version": "1.5.0",
            "_model_name": "HTMLModel",
            "_view_count": null,
            "_view_module": "@jupyter-widgets/controls",
            "_view_module_version": "1.5.0",
            "_view_name": "HTMLView",
            "description": "",
            "description_tooltip": null,
            "layout": "IPY_MODEL_c8f8973965d14da28a875dde600ecf28",
            "placeholder": "​",
            "style": "IPY_MODEL_7bcc58e4f317418f8531cbb784f3dffc",
            "value": " 111/111 [00:00&lt;00:00, 10.7kB/s]"
          }
        },
        "32166053eedf4aceaaee43185818116a": {
          "model_module": "@jupyter-widgets/base",
          "model_name": "LayoutModel",
          "model_module_version": "1.2.0",
          "state": {
            "_model_module": "@jupyter-widgets/base",
            "_model_module_version": "1.2.0",
            "_model_name": "LayoutModel",
            "_view_count": null,
            "_view_module": "@jupyter-widgets/base",
            "_view_module_version": "1.2.0",
            "_view_name": "LayoutView",
            "align_content": null,
            "align_items": null,
            "align_self": null,
            "border": null,
            "bottom": null,
            "display": null,
            "flex": null,
            "flex_flow": null,
            "grid_area": null,
            "grid_auto_columns": null,
            "grid_auto_flow": null,
            "grid_auto_rows": null,
            "grid_column": null,
            "grid_gap": null,
            "grid_row": null,
            "grid_template_areas": null,
            "grid_template_columns": null,
            "grid_template_rows": null,
            "height": null,
            "justify_content": null,
            "justify_items": null,
            "left": null,
            "margin": null,
            "max_height": null,
            "max_width": null,
            "min_height": null,
            "min_width": null,
            "object_fit": null,
            "object_position": null,
            "order": null,
            "overflow": null,
            "overflow_x": null,
            "overflow_y": null,
            "padding": null,
            "right": null,
            "top": null,
            "visibility": null,
            "width": null
          }
        },
        "d6cfad47ef5943a69dcfde48dfd0ecc4": {
          "model_module": "@jupyter-widgets/base",
          "model_name": "LayoutModel",
          "model_module_version": "1.2.0",
          "state": {
            "_model_module": "@jupyter-widgets/base",
            "_model_module_version": "1.2.0",
            "_model_name": "LayoutModel",
            "_view_count": null,
            "_view_module": "@jupyter-widgets/base",
            "_view_module_version": "1.2.0",
            "_view_name": "LayoutView",
            "align_content": null,
            "align_items": null,
            "align_self": null,
            "border": null,
            "bottom": null,
            "display": null,
            "flex": null,
            "flex_flow": null,
            "grid_area": null,
            "grid_auto_columns": null,
            "grid_auto_flow": null,
            "grid_auto_rows": null,
            "grid_column": null,
            "grid_gap": null,
            "grid_row": null,
            "grid_template_areas": null,
            "grid_template_columns": null,
            "grid_template_rows": null,
            "height": null,
            "justify_content": null,
            "justify_items": null,
            "left": null,
            "margin": null,
            "max_height": null,
            "max_width": null,
            "min_height": null,
            "min_width": null,
            "object_fit": null,
            "object_position": null,
            "order": null,
            "overflow": null,
            "overflow_x": null,
            "overflow_y": null,
            "padding": null,
            "right": null,
            "top": null,
            "visibility": null,
            "width": null
          }
        },
        "02adcd76d5764c659e3d8acfed4bea67": {
          "model_module": "@jupyter-widgets/controls",
          "model_name": "DescriptionStyleModel",
          "model_module_version": "1.5.0",
          "state": {
            "_model_module": "@jupyter-widgets/controls",
            "_model_module_version": "1.5.0",
            "_model_name": "DescriptionStyleModel",
            "_view_count": null,
            "_view_module": "@jupyter-widgets/base",
            "_view_module_version": "1.2.0",
            "_view_name": "StyleView",
            "description_width": ""
          }
        },
        "149a4bf7742a4f419da3abb507868b1b": {
          "model_module": "@jupyter-widgets/base",
          "model_name": "LayoutModel",
          "model_module_version": "1.2.0",
          "state": {
            "_model_module": "@jupyter-widgets/base",
            "_model_module_version": "1.2.0",
            "_model_name": "LayoutModel",
            "_view_count": null,
            "_view_module": "@jupyter-widgets/base",
            "_view_module_version": "1.2.0",
            "_view_name": "LayoutView",
            "align_content": null,
            "align_items": null,
            "align_self": null,
            "border": null,
            "bottom": null,
            "display": null,
            "flex": null,
            "flex_flow": null,
            "grid_area": null,
            "grid_auto_columns": null,
            "grid_auto_flow": null,
            "grid_auto_rows": null,
            "grid_column": null,
            "grid_gap": null,
            "grid_row": null,
            "grid_template_areas": null,
            "grid_template_columns": null,
            "grid_template_rows": null,
            "height": null,
            "justify_content": null,
            "justify_items": null,
            "left": null,
            "margin": null,
            "max_height": null,
            "max_width": null,
            "min_height": null,
            "min_width": null,
            "object_fit": null,
            "object_position": null,
            "order": null,
            "overflow": null,
            "overflow_x": null,
            "overflow_y": null,
            "padding": null,
            "right": null,
            "top": null,
            "visibility": null,
            "width": null
          }
        },
        "cb5f1ecbb968406ab6f39f3e385a2789": {
          "model_module": "@jupyter-widgets/controls",
          "model_name": "ProgressStyleModel",
          "model_module_version": "1.5.0",
          "state": {
            "_model_module": "@jupyter-widgets/controls",
            "_model_module_version": "1.5.0",
            "_model_name": "ProgressStyleModel",
            "_view_count": null,
            "_view_module": "@jupyter-widgets/base",
            "_view_module_version": "1.2.0",
            "_view_name": "StyleView",
            "bar_color": null,
            "description_width": ""
          }
        },
        "c8f8973965d14da28a875dde600ecf28": {
          "model_module": "@jupyter-widgets/base",
          "model_name": "LayoutModel",
          "model_module_version": "1.2.0",
          "state": {
            "_model_module": "@jupyter-widgets/base",
            "_model_module_version": "1.2.0",
            "_model_name": "LayoutModel",
            "_view_count": null,
            "_view_module": "@jupyter-widgets/base",
            "_view_module_version": "1.2.0",
            "_view_name": "LayoutView",
            "align_content": null,
            "align_items": null,
            "align_self": null,
            "border": null,
            "bottom": null,
            "display": null,
            "flex": null,
            "flex_flow": null,
            "grid_area": null,
            "grid_auto_columns": null,
            "grid_auto_flow": null,
            "grid_auto_rows": null,
            "grid_column": null,
            "grid_gap": null,
            "grid_row": null,
            "grid_template_areas": null,
            "grid_template_columns": null,
            "grid_template_rows": null,
            "height": null,
            "justify_content": null,
            "justify_items": null,
            "left": null,
            "margin": null,
            "max_height": null,
            "max_width": null,
            "min_height": null,
            "min_width": null,
            "object_fit": null,
            "object_position": null,
            "order": null,
            "overflow": null,
            "overflow_x": null,
            "overflow_y": null,
            "padding": null,
            "right": null,
            "top": null,
            "visibility": null,
            "width": null
          }
        },
        "7bcc58e4f317418f8531cbb784f3dffc": {
          "model_module": "@jupyter-widgets/controls",
          "model_name": "DescriptionStyleModel",
          "model_module_version": "1.5.0",
          "state": {
            "_model_module": "@jupyter-widgets/controls",
            "_model_module_version": "1.5.0",
            "_model_name": "DescriptionStyleModel",
            "_view_count": null,
            "_view_module": "@jupyter-widgets/base",
            "_view_module_version": "1.2.0",
            "_view_name": "StyleView",
            "description_width": ""
          }
        },
        "2d6d40df67d24cb68b3a905b6c9436ba": {
          "model_module": "@jupyter-widgets/controls",
          "model_name": "HBoxModel",
          "model_module_version": "1.5.0",
          "state": {
            "_dom_classes": [],
            "_model_module": "@jupyter-widgets/controls",
            "_model_module_version": "1.5.0",
            "_model_name": "HBoxModel",
            "_view_count": null,
            "_view_module": "@jupyter-widgets/controls",
            "_view_module_version": "1.5.0",
            "_view_name": "HBoxView",
            "box_style": "",
            "children": [
              "IPY_MODEL_62c271862836441391c0aaff411bacba",
              "IPY_MODEL_c1278b5a103f448da4e879103c152271",
              "IPY_MODEL_7ac07871cbbd4c278a7d27a290917e71"
            ],
            "layout": "IPY_MODEL_703caaf2a74b41f0b0ed1de1a3ec234a"
          }
        },
        "62c271862836441391c0aaff411bacba": {
          "model_module": "@jupyter-widgets/controls",
          "model_name": "HTMLModel",
          "model_module_version": "1.5.0",
          "state": {
            "_dom_classes": [],
            "_model_module": "@jupyter-widgets/controls",
            "_model_module_version": "1.5.0",
            "_model_name": "HTMLModel",
            "_view_count": null,
            "_view_module": "@jupyter-widgets/controls",
            "_view_module_version": "1.5.0",
            "_view_name": "HTMLView",
            "description": "",
            "description_tooltip": null,
            "layout": "IPY_MODEL_521f894fa0ba4200ba2886db65baa893",
            "placeholder": "​",
            "style": "IPY_MODEL_0475eaca8a3947e7a01e5983cf1c6ddd",
            "value": "Downloading readme: 100%"
          }
        },
        "c1278b5a103f448da4e879103c152271": {
          "model_module": "@jupyter-widgets/controls",
          "model_name": "FloatProgressModel",
          "model_module_version": "1.5.0",
          "state": {
            "_dom_classes": [],
            "_model_module": "@jupyter-widgets/controls",
            "_model_module_version": "1.5.0",
            "_model_name": "FloatProgressModel",
            "_view_count": null,
            "_view_module": "@jupyter-widgets/controls",
            "_view_module_version": "1.5.0",
            "_view_name": "ProgressView",
            "bar_style": "success",
            "description": "",
            "description_tooltip": null,
            "layout": "IPY_MODEL_37fef776132c4e0facbade60ad90081b",
            "max": 6570,
            "min": 0,
            "orientation": "horizontal",
            "style": "IPY_MODEL_25444e6aa1484308a5c6755c65920ac4",
            "value": 6570
          }
        },
        "7ac07871cbbd4c278a7d27a290917e71": {
          "model_module": "@jupyter-widgets/controls",
          "model_name": "HTMLModel",
          "model_module_version": "1.5.0",
          "state": {
            "_dom_classes": [],
            "_model_module": "@jupyter-widgets/controls",
            "_model_module_version": "1.5.0",
            "_model_name": "HTMLModel",
            "_view_count": null,
            "_view_module": "@jupyter-widgets/controls",
            "_view_module_version": "1.5.0",
            "_view_name": "HTMLView",
            "description": "",
            "description_tooltip": null,
            "layout": "IPY_MODEL_c23fdda824cc4c7d89d1e71a6e1d68c4",
            "placeholder": "​",
            "style": "IPY_MODEL_9caabd277fa048a1b88b17f407f7fedd",
            "value": " 6.57k/6.57k [00:00&lt;00:00, 520kB/s]"
          }
        },
        "703caaf2a74b41f0b0ed1de1a3ec234a": {
          "model_module": "@jupyter-widgets/base",
          "model_name": "LayoutModel",
          "model_module_version": "1.2.0",
          "state": {
            "_model_module": "@jupyter-widgets/base",
            "_model_module_version": "1.2.0",
            "_model_name": "LayoutModel",
            "_view_count": null,
            "_view_module": "@jupyter-widgets/base",
            "_view_module_version": "1.2.0",
            "_view_name": "LayoutView",
            "align_content": null,
            "align_items": null,
            "align_self": null,
            "border": null,
            "bottom": null,
            "display": null,
            "flex": null,
            "flex_flow": null,
            "grid_area": null,
            "grid_auto_columns": null,
            "grid_auto_flow": null,
            "grid_auto_rows": null,
            "grid_column": null,
            "grid_gap": null,
            "grid_row": null,
            "grid_template_areas": null,
            "grid_template_columns": null,
            "grid_template_rows": null,
            "height": null,
            "justify_content": null,
            "justify_items": null,
            "left": null,
            "margin": null,
            "max_height": null,
            "max_width": null,
            "min_height": null,
            "min_width": null,
            "object_fit": null,
            "object_position": null,
            "order": null,
            "overflow": null,
            "overflow_x": null,
            "overflow_y": null,
            "padding": null,
            "right": null,
            "top": null,
            "visibility": null,
            "width": null
          }
        },
        "521f894fa0ba4200ba2886db65baa893": {
          "model_module": "@jupyter-widgets/base",
          "model_name": "LayoutModel",
          "model_module_version": "1.2.0",
          "state": {
            "_model_module": "@jupyter-widgets/base",
            "_model_module_version": "1.2.0",
            "_model_name": "LayoutModel",
            "_view_count": null,
            "_view_module": "@jupyter-widgets/base",
            "_view_module_version": "1.2.0",
            "_view_name": "LayoutView",
            "align_content": null,
            "align_items": null,
            "align_self": null,
            "border": null,
            "bottom": null,
            "display": null,
            "flex": null,
            "flex_flow": null,
            "grid_area": null,
            "grid_auto_columns": null,
            "grid_auto_flow": null,
            "grid_auto_rows": null,
            "grid_column": null,
            "grid_gap": null,
            "grid_row": null,
            "grid_template_areas": null,
            "grid_template_columns": null,
            "grid_template_rows": null,
            "height": null,
            "justify_content": null,
            "justify_items": null,
            "left": null,
            "margin": null,
            "max_height": null,
            "max_width": null,
            "min_height": null,
            "min_width": null,
            "object_fit": null,
            "object_position": null,
            "order": null,
            "overflow": null,
            "overflow_x": null,
            "overflow_y": null,
            "padding": null,
            "right": null,
            "top": null,
            "visibility": null,
            "width": null
          }
        },
        "0475eaca8a3947e7a01e5983cf1c6ddd": {
          "model_module": "@jupyter-widgets/controls",
          "model_name": "DescriptionStyleModel",
          "model_module_version": "1.5.0",
          "state": {
            "_model_module": "@jupyter-widgets/controls",
            "_model_module_version": "1.5.0",
            "_model_name": "DescriptionStyleModel",
            "_view_count": null,
            "_view_module": "@jupyter-widgets/base",
            "_view_module_version": "1.2.0",
            "_view_name": "StyleView",
            "description_width": ""
          }
        },
        "37fef776132c4e0facbade60ad90081b": {
          "model_module": "@jupyter-widgets/base",
          "model_name": "LayoutModel",
          "model_module_version": "1.2.0",
          "state": {
            "_model_module": "@jupyter-widgets/base",
            "_model_module_version": "1.2.0",
            "_model_name": "LayoutModel",
            "_view_count": null,
            "_view_module": "@jupyter-widgets/base",
            "_view_module_version": "1.2.0",
            "_view_name": "LayoutView",
            "align_content": null,
            "align_items": null,
            "align_self": null,
            "border": null,
            "bottom": null,
            "display": null,
            "flex": null,
            "flex_flow": null,
            "grid_area": null,
            "grid_auto_columns": null,
            "grid_auto_flow": null,
            "grid_auto_rows": null,
            "grid_column": null,
            "grid_gap": null,
            "grid_row": null,
            "grid_template_areas": null,
            "grid_template_columns": null,
            "grid_template_rows": null,
            "height": null,
            "justify_content": null,
            "justify_items": null,
            "left": null,
            "margin": null,
            "max_height": null,
            "max_width": null,
            "min_height": null,
            "min_width": null,
            "object_fit": null,
            "object_position": null,
            "order": null,
            "overflow": null,
            "overflow_x": null,
            "overflow_y": null,
            "padding": null,
            "right": null,
            "top": null,
            "visibility": null,
            "width": null
          }
        },
        "25444e6aa1484308a5c6755c65920ac4": {
          "model_module": "@jupyter-widgets/controls",
          "model_name": "ProgressStyleModel",
          "model_module_version": "1.5.0",
          "state": {
            "_model_module": "@jupyter-widgets/controls",
            "_model_module_version": "1.5.0",
            "_model_name": "ProgressStyleModel",
            "_view_count": null,
            "_view_module": "@jupyter-widgets/base",
            "_view_module_version": "1.2.0",
            "_view_name": "StyleView",
            "bar_color": null,
            "description_width": ""
          }
        },
        "c23fdda824cc4c7d89d1e71a6e1d68c4": {
          "model_module": "@jupyter-widgets/base",
          "model_name": "LayoutModel",
          "model_module_version": "1.2.0",
          "state": {
            "_model_module": "@jupyter-widgets/base",
            "_model_module_version": "1.2.0",
            "_model_name": "LayoutModel",
            "_view_count": null,
            "_view_module": "@jupyter-widgets/base",
            "_view_module_version": "1.2.0",
            "_view_name": "LayoutView",
            "align_content": null,
            "align_items": null,
            "align_self": null,
            "border": null,
            "bottom": null,
            "display": null,
            "flex": null,
            "flex_flow": null,
            "grid_area": null,
            "grid_auto_columns": null,
            "grid_auto_flow": null,
            "grid_auto_rows": null,
            "grid_column": null,
            "grid_gap": null,
            "grid_row": null,
            "grid_template_areas": null,
            "grid_template_columns": null,
            "grid_template_rows": null,
            "height": null,
            "justify_content": null,
            "justify_items": null,
            "left": null,
            "margin": null,
            "max_height": null,
            "max_width": null,
            "min_height": null,
            "min_width": null,
            "object_fit": null,
            "object_position": null,
            "order": null,
            "overflow": null,
            "overflow_x": null,
            "overflow_y": null,
            "padding": null,
            "right": null,
            "top": null,
            "visibility": null,
            "width": null
          }
        },
        "9caabd277fa048a1b88b17f407f7fedd": {
          "model_module": "@jupyter-widgets/controls",
          "model_name": "DescriptionStyleModel",
          "model_module_version": "1.5.0",
          "state": {
            "_model_module": "@jupyter-widgets/controls",
            "_model_module_version": "1.5.0",
            "_model_name": "DescriptionStyleModel",
            "_view_count": null,
            "_view_module": "@jupyter-widgets/base",
            "_view_module_version": "1.2.0",
            "_view_name": "StyleView",
            "description_width": ""
          }
        },
        "ad34399692004961820d1a757ceb2a3f": {
          "model_module": "@jupyter-widgets/controls",
          "model_name": "HBoxModel",
          "model_module_version": "1.5.0",
          "state": {
            "_dom_classes": [],
            "_model_module": "@jupyter-widgets/controls",
            "_model_module_version": "1.5.0",
            "_model_name": "HBoxModel",
            "_view_count": null,
            "_view_module": "@jupyter-widgets/controls",
            "_view_module_version": "1.5.0",
            "_view_name": "HBoxView",
            "box_style": "",
            "children": [
              "IPY_MODEL_f124eab89b4d41ccb247e3e4ac353a24",
              "IPY_MODEL_482b0a442a5441609409718988a14386",
              "IPY_MODEL_4f542c4fa47f43679d7a2b04cb3b090e"
            ],
            "layout": "IPY_MODEL_fe6c7cd63d284e09966e594417998635"
          }
        },
        "f124eab89b4d41ccb247e3e4ac353a24": {
          "model_module": "@jupyter-widgets/controls",
          "model_name": "HTMLModel",
          "model_module_version": "1.5.0",
          "state": {
            "_dom_classes": [],
            "_model_module": "@jupyter-widgets/controls",
            "_model_module_version": "1.5.0",
            "_model_name": "HTMLModel",
            "_view_count": null,
            "_view_module": "@jupyter-widgets/controls",
            "_view_module_version": "1.5.0",
            "_view_name": "HTMLView",
            "description": "",
            "description_tooltip": null,
            "layout": "IPY_MODEL_9dbd8369587f48c1931e7c372fc1324a",
            "placeholder": "​",
            "style": "IPY_MODEL_587c14c6e56b4e379b0cdb4d1f8083c8",
            "value": "Downloading data files: 100%"
          }
        },
        "482b0a442a5441609409718988a14386": {
          "model_module": "@jupyter-widgets/controls",
          "model_name": "FloatProgressModel",
          "model_module_version": "1.5.0",
          "state": {
            "_dom_classes": [],
            "_model_module": "@jupyter-widgets/controls",
            "_model_module_version": "1.5.0",
            "_model_name": "FloatProgressModel",
            "_view_count": null,
            "_view_module": "@jupyter-widgets/controls",
            "_view_module_version": "1.5.0",
            "_view_name": "ProgressView",
            "bar_style": "success",
            "description": "",
            "description_tooltip": null,
            "layout": "IPY_MODEL_fd358165a50149239a076605f7cf5bad",
            "max": 2,
            "min": 0,
            "orientation": "horizontal",
            "style": "IPY_MODEL_541c161d97524a56b557ce0cbf5e83e6",
            "value": 2
          }
        },
        "4f542c4fa47f43679d7a2b04cb3b090e": {
          "model_module": "@jupyter-widgets/controls",
          "model_name": "HTMLModel",
          "model_module_version": "1.5.0",
          "state": {
            "_dom_classes": [],
            "_model_module": "@jupyter-widgets/controls",
            "_model_module_version": "1.5.0",
            "_model_name": "HTMLModel",
            "_view_count": null,
            "_view_module": "@jupyter-widgets/controls",
            "_view_module_version": "1.5.0",
            "_view_name": "HTMLView",
            "description": "",
            "description_tooltip": null,
            "layout": "IPY_MODEL_c648bdafc89a4a668ce5da09e9d3ef21",
            "placeholder": "​",
            "style": "IPY_MODEL_525b3e73c8944227bde6ee83e8a59956",
            "value": " 2/2 [00:00&lt;00:00,  2.07it/s]"
          }
        },
        "fe6c7cd63d284e09966e594417998635": {
          "model_module": "@jupyter-widgets/base",
          "model_name": "LayoutModel",
          "model_module_version": "1.2.0",
          "state": {
            "_model_module": "@jupyter-widgets/base",
            "_model_module_version": "1.2.0",
            "_model_name": "LayoutModel",
            "_view_count": null,
            "_view_module": "@jupyter-widgets/base",
            "_view_module_version": "1.2.0",
            "_view_name": "LayoutView",
            "align_content": null,
            "align_items": null,
            "align_self": null,
            "border": null,
            "bottom": null,
            "display": null,
            "flex": null,
            "flex_flow": null,
            "grid_area": null,
            "grid_auto_columns": null,
            "grid_auto_flow": null,
            "grid_auto_rows": null,
            "grid_column": null,
            "grid_gap": null,
            "grid_row": null,
            "grid_template_areas": null,
            "grid_template_columns": null,
            "grid_template_rows": null,
            "height": null,
            "justify_content": null,
            "justify_items": null,
            "left": null,
            "margin": null,
            "max_height": null,
            "max_width": null,
            "min_height": null,
            "min_width": null,
            "object_fit": null,
            "object_position": null,
            "order": null,
            "overflow": null,
            "overflow_x": null,
            "overflow_y": null,
            "padding": null,
            "right": null,
            "top": null,
            "visibility": null,
            "width": null
          }
        },
        "9dbd8369587f48c1931e7c372fc1324a": {
          "model_module": "@jupyter-widgets/base",
          "model_name": "LayoutModel",
          "model_module_version": "1.2.0",
          "state": {
            "_model_module": "@jupyter-widgets/base",
            "_model_module_version": "1.2.0",
            "_model_name": "LayoutModel",
            "_view_count": null,
            "_view_module": "@jupyter-widgets/base",
            "_view_module_version": "1.2.0",
            "_view_name": "LayoutView",
            "align_content": null,
            "align_items": null,
            "align_self": null,
            "border": null,
            "bottom": null,
            "display": null,
            "flex": null,
            "flex_flow": null,
            "grid_area": null,
            "grid_auto_columns": null,
            "grid_auto_flow": null,
            "grid_auto_rows": null,
            "grid_column": null,
            "grid_gap": null,
            "grid_row": null,
            "grid_template_areas": null,
            "grid_template_columns": null,
            "grid_template_rows": null,
            "height": null,
            "justify_content": null,
            "justify_items": null,
            "left": null,
            "margin": null,
            "max_height": null,
            "max_width": null,
            "min_height": null,
            "min_width": null,
            "object_fit": null,
            "object_position": null,
            "order": null,
            "overflow": null,
            "overflow_x": null,
            "overflow_y": null,
            "padding": null,
            "right": null,
            "top": null,
            "visibility": null,
            "width": null
          }
        },
        "587c14c6e56b4e379b0cdb4d1f8083c8": {
          "model_module": "@jupyter-widgets/controls",
          "model_name": "DescriptionStyleModel",
          "model_module_version": "1.5.0",
          "state": {
            "_model_module": "@jupyter-widgets/controls",
            "_model_module_version": "1.5.0",
            "_model_name": "DescriptionStyleModel",
            "_view_count": null,
            "_view_module": "@jupyter-widgets/base",
            "_view_module_version": "1.2.0",
            "_view_name": "StyleView",
            "description_width": ""
          }
        },
        "fd358165a50149239a076605f7cf5bad": {
          "model_module": "@jupyter-widgets/base",
          "model_name": "LayoutModel",
          "model_module_version": "1.2.0",
          "state": {
            "_model_module": "@jupyter-widgets/base",
            "_model_module_version": "1.2.0",
            "_model_name": "LayoutModel",
            "_view_count": null,
            "_view_module": "@jupyter-widgets/base",
            "_view_module_version": "1.2.0",
            "_view_name": "LayoutView",
            "align_content": null,
            "align_items": null,
            "align_self": null,
            "border": null,
            "bottom": null,
            "display": null,
            "flex": null,
            "flex_flow": null,
            "grid_area": null,
            "grid_auto_columns": null,
            "grid_auto_flow": null,
            "grid_auto_rows": null,
            "grid_column": null,
            "grid_gap": null,
            "grid_row": null,
            "grid_template_areas": null,
            "grid_template_columns": null,
            "grid_template_rows": null,
            "height": null,
            "justify_content": null,
            "justify_items": null,
            "left": null,
            "margin": null,
            "max_height": null,
            "max_width": null,
            "min_height": null,
            "min_width": null,
            "object_fit": null,
            "object_position": null,
            "order": null,
            "overflow": null,
            "overflow_x": null,
            "overflow_y": null,
            "padding": null,
            "right": null,
            "top": null,
            "visibility": null,
            "width": null
          }
        },
        "541c161d97524a56b557ce0cbf5e83e6": {
          "model_module": "@jupyter-widgets/controls",
          "model_name": "ProgressStyleModel",
          "model_module_version": "1.5.0",
          "state": {
            "_model_module": "@jupyter-widgets/controls",
            "_model_module_version": "1.5.0",
            "_model_name": "ProgressStyleModel",
            "_view_count": null,
            "_view_module": "@jupyter-widgets/base",
            "_view_module_version": "1.2.0",
            "_view_name": "StyleView",
            "bar_color": null,
            "description_width": ""
          }
        },
        "c648bdafc89a4a668ce5da09e9d3ef21": {
          "model_module": "@jupyter-widgets/base",
          "model_name": "LayoutModel",
          "model_module_version": "1.2.0",
          "state": {
            "_model_module": "@jupyter-widgets/base",
            "_model_module_version": "1.2.0",
            "_model_name": "LayoutModel",
            "_view_count": null,
            "_view_module": "@jupyter-widgets/base",
            "_view_module_version": "1.2.0",
            "_view_name": "LayoutView",
            "align_content": null,
            "align_items": null,
            "align_self": null,
            "border": null,
            "bottom": null,
            "display": null,
            "flex": null,
            "flex_flow": null,
            "grid_area": null,
            "grid_auto_columns": null,
            "grid_auto_flow": null,
            "grid_auto_rows": null,
            "grid_column": null,
            "grid_gap": null,
            "grid_row": null,
            "grid_template_areas": null,
            "grid_template_columns": null,
            "grid_template_rows": null,
            "height": null,
            "justify_content": null,
            "justify_items": null,
            "left": null,
            "margin": null,
            "max_height": null,
            "max_width": null,
            "min_height": null,
            "min_width": null,
            "object_fit": null,
            "object_position": null,
            "order": null,
            "overflow": null,
            "overflow_x": null,
            "overflow_y": null,
            "padding": null,
            "right": null,
            "top": null,
            "visibility": null,
            "width": null
          }
        },
        "525b3e73c8944227bde6ee83e8a59956": {
          "model_module": "@jupyter-widgets/controls",
          "model_name": "DescriptionStyleModel",
          "model_module_version": "1.5.0",
          "state": {
            "_model_module": "@jupyter-widgets/controls",
            "_model_module_version": "1.5.0",
            "_model_name": "DescriptionStyleModel",
            "_view_count": null,
            "_view_module": "@jupyter-widgets/base",
            "_view_module_version": "1.2.0",
            "_view_name": "StyleView",
            "description_width": ""
          }
        },
        "44d06c64afc346d2af066486859cf6d8": {
          "model_module": "@jupyter-widgets/controls",
          "model_name": "HBoxModel",
          "model_module_version": "1.5.0",
          "state": {
            "_dom_classes": [],
            "_model_module": "@jupyter-widgets/controls",
            "_model_module_version": "1.5.0",
            "_model_name": "HBoxModel",
            "_view_count": null,
            "_view_module": "@jupyter-widgets/controls",
            "_view_module_version": "1.5.0",
            "_view_name": "HBoxView",
            "box_style": "",
            "children": [
              "IPY_MODEL_b69847d6ee3941798c313b11cdc9d51c",
              "IPY_MODEL_800c39071b6f4b3baafac6a79b0af9b6",
              "IPY_MODEL_05304038c79d4a6786c59fa6e3b0723b"
            ],
            "layout": "IPY_MODEL_715c1704b6e7413e90bd8d054d218229"
          }
        },
        "b69847d6ee3941798c313b11cdc9d51c": {
          "model_module": "@jupyter-widgets/controls",
          "model_name": "HTMLModel",
          "model_module_version": "1.5.0",
          "state": {
            "_dom_classes": [],
            "_model_module": "@jupyter-widgets/controls",
            "_model_module_version": "1.5.0",
            "_model_name": "HTMLModel",
            "_view_count": null,
            "_view_module": "@jupyter-widgets/controls",
            "_view_module_version": "1.5.0",
            "_view_name": "HTMLView",
            "description": "",
            "description_tooltip": null,
            "layout": "IPY_MODEL_c29a2cbb9a0142eb9da4c9f4c0296508",
            "placeholder": "​",
            "style": "IPY_MODEL_b3e46a54fd8c4dfd8d44086039813232",
            "value": "Downloading data: 100%"
          }
        },
        "800c39071b6f4b3baafac6a79b0af9b6": {
          "model_module": "@jupyter-widgets/controls",
          "model_name": "FloatProgressModel",
          "model_module_version": "1.5.0",
          "state": {
            "_dom_classes": [],
            "_model_module": "@jupyter-widgets/controls",
            "_model_module_version": "1.5.0",
            "_model_name": "FloatProgressModel",
            "_view_count": null,
            "_view_module": "@jupyter-widgets/controls",
            "_view_module_version": "1.5.0",
            "_view_name": "ProgressView",
            "bar_style": "success",
            "description": "",
            "description_tooltip": null,
            "layout": "IPY_MODEL_5a55424afac8488db20b48650ab23635",
            "max": 3685146,
            "min": 0,
            "orientation": "horizontal",
            "style": "IPY_MODEL_2fcb291d9fa542adbda14c4f8adb8512",
            "value": 3685146
          }
        },
        "05304038c79d4a6786c59fa6e3b0723b": {
          "model_module": "@jupyter-widgets/controls",
          "model_name": "HTMLModel",
          "model_module_version": "1.5.0",
          "state": {
            "_dom_classes": [],
            "_model_module": "@jupyter-widgets/controls",
            "_model_module_version": "1.5.0",
            "_model_name": "HTMLModel",
            "_view_count": null,
            "_view_module": "@jupyter-widgets/controls",
            "_view_module_version": "1.5.0",
            "_view_name": "HTMLView",
            "description": "",
            "description_tooltip": null,
            "layout": "IPY_MODEL_7ce0334047a84287b50a831f13c0d137",
            "placeholder": "​",
            "style": "IPY_MODEL_54f3641930014b8db3031b15427f460d",
            "value": " 3.69M/3.69M [00:00&lt;00:00, 7.97MB/s]"
          }
        },
        "715c1704b6e7413e90bd8d054d218229": {
          "model_module": "@jupyter-widgets/base",
          "model_name": "LayoutModel",
          "model_module_version": "1.2.0",
          "state": {
            "_model_module": "@jupyter-widgets/base",
            "_model_module_version": "1.2.0",
            "_model_name": "LayoutModel",
            "_view_count": null,
            "_view_module": "@jupyter-widgets/base",
            "_view_module_version": "1.2.0",
            "_view_name": "LayoutView",
            "align_content": null,
            "align_items": null,
            "align_self": null,
            "border": null,
            "bottom": null,
            "display": null,
            "flex": null,
            "flex_flow": null,
            "grid_area": null,
            "grid_auto_columns": null,
            "grid_auto_flow": null,
            "grid_auto_rows": null,
            "grid_column": null,
            "grid_gap": null,
            "grid_row": null,
            "grid_template_areas": null,
            "grid_template_columns": null,
            "grid_template_rows": null,
            "height": null,
            "justify_content": null,
            "justify_items": null,
            "left": null,
            "margin": null,
            "max_height": null,
            "max_width": null,
            "min_height": null,
            "min_width": null,
            "object_fit": null,
            "object_position": null,
            "order": null,
            "overflow": null,
            "overflow_x": null,
            "overflow_y": null,
            "padding": null,
            "right": null,
            "top": null,
            "visibility": null,
            "width": null
          }
        },
        "c29a2cbb9a0142eb9da4c9f4c0296508": {
          "model_module": "@jupyter-widgets/base",
          "model_name": "LayoutModel",
          "model_module_version": "1.2.0",
          "state": {
            "_model_module": "@jupyter-widgets/base",
            "_model_module_version": "1.2.0",
            "_model_name": "LayoutModel",
            "_view_count": null,
            "_view_module": "@jupyter-widgets/base",
            "_view_module_version": "1.2.0",
            "_view_name": "LayoutView",
            "align_content": null,
            "align_items": null,
            "align_self": null,
            "border": null,
            "bottom": null,
            "display": null,
            "flex": null,
            "flex_flow": null,
            "grid_area": null,
            "grid_auto_columns": null,
            "grid_auto_flow": null,
            "grid_auto_rows": null,
            "grid_column": null,
            "grid_gap": null,
            "grid_row": null,
            "grid_template_areas": null,
            "grid_template_columns": null,
            "grid_template_rows": null,
            "height": null,
            "justify_content": null,
            "justify_items": null,
            "left": null,
            "margin": null,
            "max_height": null,
            "max_width": null,
            "min_height": null,
            "min_width": null,
            "object_fit": null,
            "object_position": null,
            "order": null,
            "overflow": null,
            "overflow_x": null,
            "overflow_y": null,
            "padding": null,
            "right": null,
            "top": null,
            "visibility": null,
            "width": null
          }
        },
        "b3e46a54fd8c4dfd8d44086039813232": {
          "model_module": "@jupyter-widgets/controls",
          "model_name": "DescriptionStyleModel",
          "model_module_version": "1.5.0",
          "state": {
            "_model_module": "@jupyter-widgets/controls",
            "_model_module_version": "1.5.0",
            "_model_name": "DescriptionStyleModel",
            "_view_count": null,
            "_view_module": "@jupyter-widgets/base",
            "_view_module_version": "1.2.0",
            "_view_name": "StyleView",
            "description_width": ""
          }
        },
        "5a55424afac8488db20b48650ab23635": {
          "model_module": "@jupyter-widgets/base",
          "model_name": "LayoutModel",
          "model_module_version": "1.2.0",
          "state": {
            "_model_module": "@jupyter-widgets/base",
            "_model_module_version": "1.2.0",
            "_model_name": "LayoutModel",
            "_view_count": null,
            "_view_module": "@jupyter-widgets/base",
            "_view_module_version": "1.2.0",
            "_view_name": "LayoutView",
            "align_content": null,
            "align_items": null,
            "align_self": null,
            "border": null,
            "bottom": null,
            "display": null,
            "flex": null,
            "flex_flow": null,
            "grid_area": null,
            "grid_auto_columns": null,
            "grid_auto_flow": null,
            "grid_auto_rows": null,
            "grid_column": null,
            "grid_gap": null,
            "grid_row": null,
            "grid_template_areas": null,
            "grid_template_columns": null,
            "grid_template_rows": null,
            "height": null,
            "justify_content": null,
            "justify_items": null,
            "left": null,
            "margin": null,
            "max_height": null,
            "max_width": null,
            "min_height": null,
            "min_width": null,
            "object_fit": null,
            "object_position": null,
            "order": null,
            "overflow": null,
            "overflow_x": null,
            "overflow_y": null,
            "padding": null,
            "right": null,
            "top": null,
            "visibility": null,
            "width": null
          }
        },
        "2fcb291d9fa542adbda14c4f8adb8512": {
          "model_module": "@jupyter-widgets/controls",
          "model_name": "ProgressStyleModel",
          "model_module_version": "1.5.0",
          "state": {
            "_model_module": "@jupyter-widgets/controls",
            "_model_module_version": "1.5.0",
            "_model_name": "ProgressStyleModel",
            "_view_count": null,
            "_view_module": "@jupyter-widgets/base",
            "_view_module_version": "1.2.0",
            "_view_name": "StyleView",
            "bar_color": null,
            "description_width": ""
          }
        },
        "7ce0334047a84287b50a831f13c0d137": {
          "model_module": "@jupyter-widgets/base",
          "model_name": "LayoutModel",
          "model_module_version": "1.2.0",
          "state": {
            "_model_module": "@jupyter-widgets/base",
            "_model_module_version": "1.2.0",
            "_model_name": "LayoutModel",
            "_view_count": null,
            "_view_module": "@jupyter-widgets/base",
            "_view_module_version": "1.2.0",
            "_view_name": "LayoutView",
            "align_content": null,
            "align_items": null,
            "align_self": null,
            "border": null,
            "bottom": null,
            "display": null,
            "flex": null,
            "flex_flow": null,
            "grid_area": null,
            "grid_auto_columns": null,
            "grid_auto_flow": null,
            "grid_auto_rows": null,
            "grid_column": null,
            "grid_gap": null,
            "grid_row": null,
            "grid_template_areas": null,
            "grid_template_columns": null,
            "grid_template_rows": null,
            "height": null,
            "justify_content": null,
            "justify_items": null,
            "left": null,
            "margin": null,
            "max_height": null,
            "max_width": null,
            "min_height": null,
            "min_width": null,
            "object_fit": null,
            "object_position": null,
            "order": null,
            "overflow": null,
            "overflow_x": null,
            "overflow_y": null,
            "padding": null,
            "right": null,
            "top": null,
            "visibility": null,
            "width": null
          }
        },
        "54f3641930014b8db3031b15427f460d": {
          "model_module": "@jupyter-widgets/controls",
          "model_name": "DescriptionStyleModel",
          "model_module_version": "1.5.0",
          "state": {
            "_model_module": "@jupyter-widgets/controls",
            "_model_module_version": "1.5.0",
            "_model_name": "DescriptionStyleModel",
            "_view_count": null,
            "_view_module": "@jupyter-widgets/base",
            "_view_module_version": "1.2.0",
            "_view_name": "StyleView",
            "description_width": ""
          }
        },
        "31f50f99db064e8f920f4bbe6d527356": {
          "model_module": "@jupyter-widgets/controls",
          "model_name": "HBoxModel",
          "model_module_version": "1.5.0",
          "state": {
            "_dom_classes": [],
            "_model_module": "@jupyter-widgets/controls",
            "_model_module_version": "1.5.0",
            "_model_name": "HBoxModel",
            "_view_count": null,
            "_view_module": "@jupyter-widgets/controls",
            "_view_module_version": "1.5.0",
            "_view_name": "HBoxView",
            "box_style": "",
            "children": [
              "IPY_MODEL_6709455ab02c417c914bc61ba6186799",
              "IPY_MODEL_33a2cdd34cdd4f91b0af7e9bbb72e8e8",
              "IPY_MODEL_e210d7e7ff27449abaa29fed263518ca"
            ],
            "layout": "IPY_MODEL_6d0ec5784600484a954c504ce792ca9b"
          }
        },
        "6709455ab02c417c914bc61ba6186799": {
          "model_module": "@jupyter-widgets/controls",
          "model_name": "HTMLModel",
          "model_module_version": "1.5.0",
          "state": {
            "_dom_classes": [],
            "_model_module": "@jupyter-widgets/controls",
            "_model_module_version": "1.5.0",
            "_model_name": "HTMLModel",
            "_view_count": null,
            "_view_module": "@jupyter-widgets/controls",
            "_view_module_version": "1.5.0",
            "_view_name": "HTMLView",
            "description": "",
            "description_tooltip": null,
            "layout": "IPY_MODEL_f1be7ea449f245a4b08c39648f646adf",
            "placeholder": "​",
            "style": "IPY_MODEL_a44d10db68714e5a8cffd383137bbf47",
            "value": "Downloading data: 100%"
          }
        },
        "33a2cdd34cdd4f91b0af7e9bbb72e8e8": {
          "model_module": "@jupyter-widgets/controls",
          "model_name": "FloatProgressModel",
          "model_module_version": "1.5.0",
          "state": {
            "_dom_classes": [],
            "_model_module": "@jupyter-widgets/controls",
            "_model_module_version": "1.5.0",
            "_model_name": "FloatProgressModel",
            "_view_count": null,
            "_view_module": "@jupyter-widgets/controls",
            "_view_module_version": "1.5.0",
            "_view_name": "ProgressView",
            "bar_style": "success",
            "description": "",
            "description_tooltip": null,
            "layout": "IPY_MODEL_83a4f79dec5b49b792ce33044e27e541",
            "max": 1257630,
            "min": 0,
            "orientation": "horizontal",
            "style": "IPY_MODEL_02d24a89c2034bffb8bc684c960dce62",
            "value": 1257630
          }
        },
        "e210d7e7ff27449abaa29fed263518ca": {
          "model_module": "@jupyter-widgets/controls",
          "model_name": "HTMLModel",
          "model_module_version": "1.5.0",
          "state": {
            "_dom_classes": [],
            "_model_module": "@jupyter-widgets/controls",
            "_model_module_version": "1.5.0",
            "_model_name": "HTMLModel",
            "_view_count": null,
            "_view_module": "@jupyter-widgets/controls",
            "_view_module_version": "1.5.0",
            "_view_name": "HTMLView",
            "description": "",
            "description_tooltip": null,
            "layout": "IPY_MODEL_93e0ab179d2140758dcce0a63cb490f8",
            "placeholder": "​",
            "style": "IPY_MODEL_bf60c806057a4d11ae30a901932f7938",
            "value": " 1.26M/1.26M [00:00&lt;00:00, 14.9MB/s]"
          }
        },
        "6d0ec5784600484a954c504ce792ca9b": {
          "model_module": "@jupyter-widgets/base",
          "model_name": "LayoutModel",
          "model_module_version": "1.2.0",
          "state": {
            "_model_module": "@jupyter-widgets/base",
            "_model_module_version": "1.2.0",
            "_model_name": "LayoutModel",
            "_view_count": null,
            "_view_module": "@jupyter-widgets/base",
            "_view_module_version": "1.2.0",
            "_view_name": "LayoutView",
            "align_content": null,
            "align_items": null,
            "align_self": null,
            "border": null,
            "bottom": null,
            "display": null,
            "flex": null,
            "flex_flow": null,
            "grid_area": null,
            "grid_auto_columns": null,
            "grid_auto_flow": null,
            "grid_auto_rows": null,
            "grid_column": null,
            "grid_gap": null,
            "grid_row": null,
            "grid_template_areas": null,
            "grid_template_columns": null,
            "grid_template_rows": null,
            "height": null,
            "justify_content": null,
            "justify_items": null,
            "left": null,
            "margin": null,
            "max_height": null,
            "max_width": null,
            "min_height": null,
            "min_width": null,
            "object_fit": null,
            "object_position": null,
            "order": null,
            "overflow": null,
            "overflow_x": null,
            "overflow_y": null,
            "padding": null,
            "right": null,
            "top": null,
            "visibility": null,
            "width": null
          }
        },
        "f1be7ea449f245a4b08c39648f646adf": {
          "model_module": "@jupyter-widgets/base",
          "model_name": "LayoutModel",
          "model_module_version": "1.2.0",
          "state": {
            "_model_module": "@jupyter-widgets/base",
            "_model_module_version": "1.2.0",
            "_model_name": "LayoutModel",
            "_view_count": null,
            "_view_module": "@jupyter-widgets/base",
            "_view_module_version": "1.2.0",
            "_view_name": "LayoutView",
            "align_content": null,
            "align_items": null,
            "align_self": null,
            "border": null,
            "bottom": null,
            "display": null,
            "flex": null,
            "flex_flow": null,
            "grid_area": null,
            "grid_auto_columns": null,
            "grid_auto_flow": null,
            "grid_auto_rows": null,
            "grid_column": null,
            "grid_gap": null,
            "grid_row": null,
            "grid_template_areas": null,
            "grid_template_columns": null,
            "grid_template_rows": null,
            "height": null,
            "justify_content": null,
            "justify_items": null,
            "left": null,
            "margin": null,
            "max_height": null,
            "max_width": null,
            "min_height": null,
            "min_width": null,
            "object_fit": null,
            "object_position": null,
            "order": null,
            "overflow": null,
            "overflow_x": null,
            "overflow_y": null,
            "padding": null,
            "right": null,
            "top": null,
            "visibility": null,
            "width": null
          }
        },
        "a44d10db68714e5a8cffd383137bbf47": {
          "model_module": "@jupyter-widgets/controls",
          "model_name": "DescriptionStyleModel",
          "model_module_version": "1.5.0",
          "state": {
            "_model_module": "@jupyter-widgets/controls",
            "_model_module_version": "1.5.0",
            "_model_name": "DescriptionStyleModel",
            "_view_count": null,
            "_view_module": "@jupyter-widgets/base",
            "_view_module_version": "1.2.0",
            "_view_name": "StyleView",
            "description_width": ""
          }
        },
        "83a4f79dec5b49b792ce33044e27e541": {
          "model_module": "@jupyter-widgets/base",
          "model_name": "LayoutModel",
          "model_module_version": "1.2.0",
          "state": {
            "_model_module": "@jupyter-widgets/base",
            "_model_module_version": "1.2.0",
            "_model_name": "LayoutModel",
            "_view_count": null,
            "_view_module": "@jupyter-widgets/base",
            "_view_module_version": "1.2.0",
            "_view_name": "LayoutView",
            "align_content": null,
            "align_items": null,
            "align_self": null,
            "border": null,
            "bottom": null,
            "display": null,
            "flex": null,
            "flex_flow": null,
            "grid_area": null,
            "grid_auto_columns": null,
            "grid_auto_flow": null,
            "grid_auto_rows": null,
            "grid_column": null,
            "grid_gap": null,
            "grid_row": null,
            "grid_template_areas": null,
            "grid_template_columns": null,
            "grid_template_rows": null,
            "height": null,
            "justify_content": null,
            "justify_items": null,
            "left": null,
            "margin": null,
            "max_height": null,
            "max_width": null,
            "min_height": null,
            "min_width": null,
            "object_fit": null,
            "object_position": null,
            "order": null,
            "overflow": null,
            "overflow_x": null,
            "overflow_y": null,
            "padding": null,
            "right": null,
            "top": null,
            "visibility": null,
            "width": null
          }
        },
        "02d24a89c2034bffb8bc684c960dce62": {
          "model_module": "@jupyter-widgets/controls",
          "model_name": "ProgressStyleModel",
          "model_module_version": "1.5.0",
          "state": {
            "_model_module": "@jupyter-widgets/controls",
            "_model_module_version": "1.5.0",
            "_model_name": "ProgressStyleModel",
            "_view_count": null,
            "_view_module": "@jupyter-widgets/base",
            "_view_module_version": "1.2.0",
            "_view_name": "StyleView",
            "bar_color": null,
            "description_width": ""
          }
        },
        "93e0ab179d2140758dcce0a63cb490f8": {
          "model_module": "@jupyter-widgets/base",
          "model_name": "LayoutModel",
          "model_module_version": "1.2.0",
          "state": {
            "_model_module": "@jupyter-widgets/base",
            "_model_module_version": "1.2.0",
            "_model_name": "LayoutModel",
            "_view_count": null,
            "_view_module": "@jupyter-widgets/base",
            "_view_module_version": "1.2.0",
            "_view_name": "LayoutView",
            "align_content": null,
            "align_items": null,
            "align_self": null,
            "border": null,
            "bottom": null,
            "display": null,
            "flex": null,
            "flex_flow": null,
            "grid_area": null,
            "grid_auto_columns": null,
            "grid_auto_flow": null,
            "grid_auto_rows": null,
            "grid_column": null,
            "grid_gap": null,
            "grid_row": null,
            "grid_template_areas": null,
            "grid_template_columns": null,
            "grid_template_rows": null,
            "height": null,
            "justify_content": null,
            "justify_items": null,
            "left": null,
            "margin": null,
            "max_height": null,
            "max_width": null,
            "min_height": null,
            "min_width": null,
            "object_fit": null,
            "object_position": null,
            "order": null,
            "overflow": null,
            "overflow_x": null,
            "overflow_y": null,
            "padding": null,
            "right": null,
            "top": null,
            "visibility": null,
            "width": null
          }
        },
        "bf60c806057a4d11ae30a901932f7938": {
          "model_module": "@jupyter-widgets/controls",
          "model_name": "DescriptionStyleModel",
          "model_module_version": "1.5.0",
          "state": {
            "_model_module": "@jupyter-widgets/controls",
            "_model_module_version": "1.5.0",
            "_model_name": "DescriptionStyleModel",
            "_view_count": null,
            "_view_module": "@jupyter-widgets/base",
            "_view_module_version": "1.2.0",
            "_view_name": "StyleView",
            "description_width": ""
          }
        },
        "ccfc353261bc4b2b917668f680c8a1a2": {
          "model_module": "@jupyter-widgets/controls",
          "model_name": "HBoxModel",
          "model_module_version": "1.5.0",
          "state": {
            "_dom_classes": [],
            "_model_module": "@jupyter-widgets/controls",
            "_model_module_version": "1.5.0",
            "_model_name": "HBoxModel",
            "_view_count": null,
            "_view_module": "@jupyter-widgets/controls",
            "_view_module_version": "1.5.0",
            "_view_name": "HBoxView",
            "box_style": "",
            "children": [
              "IPY_MODEL_1a7413a7639e4eaa815e6481d762cd4d",
              "IPY_MODEL_23cab44b91f1459c839d3059a0225e9a",
              "IPY_MODEL_85b2eb0e5a044f19bc1dc6d4d09b5d4e"
            ],
            "layout": "IPY_MODEL_7a2a51c934d848e7b862a03a492d3ddb"
          }
        },
        "1a7413a7639e4eaa815e6481d762cd4d": {
          "model_module": "@jupyter-widgets/controls",
          "model_name": "HTMLModel",
          "model_module_version": "1.5.0",
          "state": {
            "_dom_classes": [],
            "_model_module": "@jupyter-widgets/controls",
            "_model_module_version": "1.5.0",
            "_model_name": "HTMLModel",
            "_view_count": null,
            "_view_module": "@jupyter-widgets/controls",
            "_view_module_version": "1.5.0",
            "_view_name": "HTMLView",
            "description": "",
            "description_tooltip": null,
            "layout": "IPY_MODEL_31f046c551ef4462965fc17540022c9a",
            "placeholder": "​",
            "style": "IPY_MODEL_7eeba3d5da8740ce8356a73de49b1f17",
            "value": "Extracting data files: 100%"
          }
        },
        "23cab44b91f1459c839d3059a0225e9a": {
          "model_module": "@jupyter-widgets/controls",
          "model_name": "FloatProgressModel",
          "model_module_version": "1.5.0",
          "state": {
            "_dom_classes": [],
            "_model_module": "@jupyter-widgets/controls",
            "_model_module_version": "1.5.0",
            "_model_name": "FloatProgressModel",
            "_view_count": null,
            "_view_module": "@jupyter-widgets/controls",
            "_view_module_version": "1.5.0",
            "_view_name": "ProgressView",
            "bar_style": "success",
            "description": "",
            "description_tooltip": null,
            "layout": "IPY_MODEL_a3fb566791254da1b1a3aafcecaec247",
            "max": 2,
            "min": 0,
            "orientation": "horizontal",
            "style": "IPY_MODEL_eb7bde03dfac4d119a34e615b811ee64",
            "value": 2
          }
        },
        "85b2eb0e5a044f19bc1dc6d4d09b5d4e": {
          "model_module": "@jupyter-widgets/controls",
          "model_name": "HTMLModel",
          "model_module_version": "1.5.0",
          "state": {
            "_dom_classes": [],
            "_model_module": "@jupyter-widgets/controls",
            "_model_module_version": "1.5.0",
            "_model_name": "HTMLModel",
            "_view_count": null,
            "_view_module": "@jupyter-widgets/controls",
            "_view_module_version": "1.5.0",
            "_view_name": "HTMLView",
            "description": "",
            "description_tooltip": null,
            "layout": "IPY_MODEL_cda53305fb9e4a27ad334edc9fa9195b",
            "placeholder": "​",
            "style": "IPY_MODEL_91e270a35043478bb44c6be4efe28fa8",
            "value": " 2/2 [00:00&lt;00:00, 101.79it/s]"
          }
        },
        "7a2a51c934d848e7b862a03a492d3ddb": {
          "model_module": "@jupyter-widgets/base",
          "model_name": "LayoutModel",
          "model_module_version": "1.2.0",
          "state": {
            "_model_module": "@jupyter-widgets/base",
            "_model_module_version": "1.2.0",
            "_model_name": "LayoutModel",
            "_view_count": null,
            "_view_module": "@jupyter-widgets/base",
            "_view_module_version": "1.2.0",
            "_view_name": "LayoutView",
            "align_content": null,
            "align_items": null,
            "align_self": null,
            "border": null,
            "bottom": null,
            "display": null,
            "flex": null,
            "flex_flow": null,
            "grid_area": null,
            "grid_auto_columns": null,
            "grid_auto_flow": null,
            "grid_auto_rows": null,
            "grid_column": null,
            "grid_gap": null,
            "grid_row": null,
            "grid_template_areas": null,
            "grid_template_columns": null,
            "grid_template_rows": null,
            "height": null,
            "justify_content": null,
            "justify_items": null,
            "left": null,
            "margin": null,
            "max_height": null,
            "max_width": null,
            "min_height": null,
            "min_width": null,
            "object_fit": null,
            "object_position": null,
            "order": null,
            "overflow": null,
            "overflow_x": null,
            "overflow_y": null,
            "padding": null,
            "right": null,
            "top": null,
            "visibility": null,
            "width": null
          }
        },
        "31f046c551ef4462965fc17540022c9a": {
          "model_module": "@jupyter-widgets/base",
          "model_name": "LayoutModel",
          "model_module_version": "1.2.0",
          "state": {
            "_model_module": "@jupyter-widgets/base",
            "_model_module_version": "1.2.0",
            "_model_name": "LayoutModel",
            "_view_count": null,
            "_view_module": "@jupyter-widgets/base",
            "_view_module_version": "1.2.0",
            "_view_name": "LayoutView",
            "align_content": null,
            "align_items": null,
            "align_self": null,
            "border": null,
            "bottom": null,
            "display": null,
            "flex": null,
            "flex_flow": null,
            "grid_area": null,
            "grid_auto_columns": null,
            "grid_auto_flow": null,
            "grid_auto_rows": null,
            "grid_column": null,
            "grid_gap": null,
            "grid_row": null,
            "grid_template_areas": null,
            "grid_template_columns": null,
            "grid_template_rows": null,
            "height": null,
            "justify_content": null,
            "justify_items": null,
            "left": null,
            "margin": null,
            "max_height": null,
            "max_width": null,
            "min_height": null,
            "min_width": null,
            "object_fit": null,
            "object_position": null,
            "order": null,
            "overflow": null,
            "overflow_x": null,
            "overflow_y": null,
            "padding": null,
            "right": null,
            "top": null,
            "visibility": null,
            "width": null
          }
        },
        "7eeba3d5da8740ce8356a73de49b1f17": {
          "model_module": "@jupyter-widgets/controls",
          "model_name": "DescriptionStyleModel",
          "model_module_version": "1.5.0",
          "state": {
            "_model_module": "@jupyter-widgets/controls",
            "_model_module_version": "1.5.0",
            "_model_name": "DescriptionStyleModel",
            "_view_count": null,
            "_view_module": "@jupyter-widgets/base",
            "_view_module_version": "1.2.0",
            "_view_name": "StyleView",
            "description_width": ""
          }
        },
        "a3fb566791254da1b1a3aafcecaec247": {
          "model_module": "@jupyter-widgets/base",
          "model_name": "LayoutModel",
          "model_module_version": "1.2.0",
          "state": {
            "_model_module": "@jupyter-widgets/base",
            "_model_module_version": "1.2.0",
            "_model_name": "LayoutModel",
            "_view_count": null,
            "_view_module": "@jupyter-widgets/base",
            "_view_module_version": "1.2.0",
            "_view_name": "LayoutView",
            "align_content": null,
            "align_items": null,
            "align_self": null,
            "border": null,
            "bottom": null,
            "display": null,
            "flex": null,
            "flex_flow": null,
            "grid_area": null,
            "grid_auto_columns": null,
            "grid_auto_flow": null,
            "grid_auto_rows": null,
            "grid_column": null,
            "grid_gap": null,
            "grid_row": null,
            "grid_template_areas": null,
            "grid_template_columns": null,
            "grid_template_rows": null,
            "height": null,
            "justify_content": null,
            "justify_items": null,
            "left": null,
            "margin": null,
            "max_height": null,
            "max_width": null,
            "min_height": null,
            "min_width": null,
            "object_fit": null,
            "object_position": null,
            "order": null,
            "overflow": null,
            "overflow_x": null,
            "overflow_y": null,
            "padding": null,
            "right": null,
            "top": null,
            "visibility": null,
            "width": null
          }
        },
        "eb7bde03dfac4d119a34e615b811ee64": {
          "model_module": "@jupyter-widgets/controls",
          "model_name": "ProgressStyleModel",
          "model_module_version": "1.5.0",
          "state": {
            "_model_module": "@jupyter-widgets/controls",
            "_model_module_version": "1.5.0",
            "_model_name": "ProgressStyleModel",
            "_view_count": null,
            "_view_module": "@jupyter-widgets/base",
            "_view_module_version": "1.2.0",
            "_view_name": "StyleView",
            "bar_color": null,
            "description_width": ""
          }
        },
        "cda53305fb9e4a27ad334edc9fa9195b": {
          "model_module": "@jupyter-widgets/base",
          "model_name": "LayoutModel",
          "model_module_version": "1.2.0",
          "state": {
            "_model_module": "@jupyter-widgets/base",
            "_model_module_version": "1.2.0",
            "_model_name": "LayoutModel",
            "_view_count": null,
            "_view_module": "@jupyter-widgets/base",
            "_view_module_version": "1.2.0",
            "_view_name": "LayoutView",
            "align_content": null,
            "align_items": null,
            "align_self": null,
            "border": null,
            "bottom": null,
            "display": null,
            "flex": null,
            "flex_flow": null,
            "grid_area": null,
            "grid_auto_columns": null,
            "grid_auto_flow": null,
            "grid_auto_rows": null,
            "grid_column": null,
            "grid_gap": null,
            "grid_row": null,
            "grid_template_areas": null,
            "grid_template_columns": null,
            "grid_template_rows": null,
            "height": null,
            "justify_content": null,
            "justify_items": null,
            "left": null,
            "margin": null,
            "max_height": null,
            "max_width": null,
            "min_height": null,
            "min_width": null,
            "object_fit": null,
            "object_position": null,
            "order": null,
            "overflow": null,
            "overflow_x": null,
            "overflow_y": null,
            "padding": null,
            "right": null,
            "top": null,
            "visibility": null,
            "width": null
          }
        },
        "91e270a35043478bb44c6be4efe28fa8": {
          "model_module": "@jupyter-widgets/controls",
          "model_name": "DescriptionStyleModel",
          "model_module_version": "1.5.0",
          "state": {
            "_model_module": "@jupyter-widgets/controls",
            "_model_module_version": "1.5.0",
            "_model_name": "DescriptionStyleModel",
            "_view_count": null,
            "_view_module": "@jupyter-widgets/base",
            "_view_module_version": "1.2.0",
            "_view_name": "StyleView",
            "description_width": ""
          }
        },
        "7b8247db09cd4197aac6a1578bd8be3f": {
          "model_module": "@jupyter-widgets/controls",
          "model_name": "HBoxModel",
          "model_module_version": "1.5.0",
          "state": {
            "_dom_classes": [],
            "_model_module": "@jupyter-widgets/controls",
            "_model_module_version": "1.5.0",
            "_model_name": "HBoxModel",
            "_view_count": null,
            "_view_module": "@jupyter-widgets/controls",
            "_view_module_version": "1.5.0",
            "_view_name": "HBoxView",
            "box_style": "",
            "children": [
              "IPY_MODEL_04556d9c58da4c0392a070267e2a6265",
              "IPY_MODEL_13fa6b65082b46ff80805a43bc334427",
              "IPY_MODEL_27103389037840768a93c4cffdf4372b"
            ],
            "layout": "IPY_MODEL_41dab0cb8efa40569bee16d10d52fbd4"
          }
        },
        "04556d9c58da4c0392a070267e2a6265": {
          "model_module": "@jupyter-widgets/controls",
          "model_name": "HTMLModel",
          "model_module_version": "1.5.0",
          "state": {
            "_dom_classes": [],
            "_model_module": "@jupyter-widgets/controls",
            "_model_module_version": "1.5.0",
            "_model_name": "HTMLModel",
            "_view_count": null,
            "_view_module": "@jupyter-widgets/controls",
            "_view_module_version": "1.5.0",
            "_view_name": "HTMLView",
            "description": "",
            "description_tooltip": null,
            "layout": "IPY_MODEL_ca3e59c8b094472e8c8538f74bb4fac0",
            "placeholder": "​",
            "style": "IPY_MODEL_344d59ade9a2490dacb845b617ca10cc",
            "value": "Generating train split: 100%"
          }
        },
        "13fa6b65082b46ff80805a43bc334427": {
          "model_module": "@jupyter-widgets/controls",
          "model_name": "FloatProgressModel",
          "model_module_version": "1.5.0",
          "state": {
            "_dom_classes": [],
            "_model_module": "@jupyter-widgets/controls",
            "_model_module_version": "1.5.0",
            "_model_name": "FloatProgressModel",
            "_view_count": null,
            "_view_module": "@jupyter-widgets/controls",
            "_view_module_version": "1.5.0",
            "_view_name": "ProgressView",
            "bar_style": "success",
            "description": "",
            "description_tooltip": null,
            "layout": "IPY_MODEL_7d1ff8404e7145afa6cb096dd2463afe",
            "max": 9427,
            "min": 0,
            "orientation": "horizontal",
            "style": "IPY_MODEL_caaa96090da54f84be4c9653cb731efa",
            "value": 9427
          }
        },
        "27103389037840768a93c4cffdf4372b": {
          "model_module": "@jupyter-widgets/controls",
          "model_name": "HTMLModel",
          "model_module_version": "1.5.0",
          "state": {
            "_dom_classes": [],
            "_model_module": "@jupyter-widgets/controls",
            "_model_module_version": "1.5.0",
            "_model_name": "HTMLModel",
            "_view_count": null,
            "_view_module": "@jupyter-widgets/controls",
            "_view_module_version": "1.5.0",
            "_view_name": "HTMLView",
            "description": "",
            "description_tooltip": null,
            "layout": "IPY_MODEL_9b32d9bfda6547e5a01a6c74a9d48523",
            "placeholder": "​",
            "style": "IPY_MODEL_04f1876b589f4882b7d4ae1e17fe26fd",
            "value": " 9427/9427 [00:00&lt;00:00, 147413.00 examples/s]"
          }
        },
        "41dab0cb8efa40569bee16d10d52fbd4": {
          "model_module": "@jupyter-widgets/base",
          "model_name": "LayoutModel",
          "model_module_version": "1.2.0",
          "state": {
            "_model_module": "@jupyter-widgets/base",
            "_model_module_version": "1.2.0",
            "_model_name": "LayoutModel",
            "_view_count": null,
            "_view_module": "@jupyter-widgets/base",
            "_view_module_version": "1.2.0",
            "_view_name": "LayoutView",
            "align_content": null,
            "align_items": null,
            "align_self": null,
            "border": null,
            "bottom": null,
            "display": null,
            "flex": null,
            "flex_flow": null,
            "grid_area": null,
            "grid_auto_columns": null,
            "grid_auto_flow": null,
            "grid_auto_rows": null,
            "grid_column": null,
            "grid_gap": null,
            "grid_row": null,
            "grid_template_areas": null,
            "grid_template_columns": null,
            "grid_template_rows": null,
            "height": null,
            "justify_content": null,
            "justify_items": null,
            "left": null,
            "margin": null,
            "max_height": null,
            "max_width": null,
            "min_height": null,
            "min_width": null,
            "object_fit": null,
            "object_position": null,
            "order": null,
            "overflow": null,
            "overflow_x": null,
            "overflow_y": null,
            "padding": null,
            "right": null,
            "top": null,
            "visibility": null,
            "width": null
          }
        },
        "ca3e59c8b094472e8c8538f74bb4fac0": {
          "model_module": "@jupyter-widgets/base",
          "model_name": "LayoutModel",
          "model_module_version": "1.2.0",
          "state": {
            "_model_module": "@jupyter-widgets/base",
            "_model_module_version": "1.2.0",
            "_model_name": "LayoutModel",
            "_view_count": null,
            "_view_module": "@jupyter-widgets/base",
            "_view_module_version": "1.2.0",
            "_view_name": "LayoutView",
            "align_content": null,
            "align_items": null,
            "align_self": null,
            "border": null,
            "bottom": null,
            "display": null,
            "flex": null,
            "flex_flow": null,
            "grid_area": null,
            "grid_auto_columns": null,
            "grid_auto_flow": null,
            "grid_auto_rows": null,
            "grid_column": null,
            "grid_gap": null,
            "grid_row": null,
            "grid_template_areas": null,
            "grid_template_columns": null,
            "grid_template_rows": null,
            "height": null,
            "justify_content": null,
            "justify_items": null,
            "left": null,
            "margin": null,
            "max_height": null,
            "max_width": null,
            "min_height": null,
            "min_width": null,
            "object_fit": null,
            "object_position": null,
            "order": null,
            "overflow": null,
            "overflow_x": null,
            "overflow_y": null,
            "padding": null,
            "right": null,
            "top": null,
            "visibility": null,
            "width": null
          }
        },
        "344d59ade9a2490dacb845b617ca10cc": {
          "model_module": "@jupyter-widgets/controls",
          "model_name": "DescriptionStyleModel",
          "model_module_version": "1.5.0",
          "state": {
            "_model_module": "@jupyter-widgets/controls",
            "_model_module_version": "1.5.0",
            "_model_name": "DescriptionStyleModel",
            "_view_count": null,
            "_view_module": "@jupyter-widgets/base",
            "_view_module_version": "1.2.0",
            "_view_name": "StyleView",
            "description_width": ""
          }
        },
        "7d1ff8404e7145afa6cb096dd2463afe": {
          "model_module": "@jupyter-widgets/base",
          "model_name": "LayoutModel",
          "model_module_version": "1.2.0",
          "state": {
            "_model_module": "@jupyter-widgets/base",
            "_model_module_version": "1.2.0",
            "_model_name": "LayoutModel",
            "_view_count": null,
            "_view_module": "@jupyter-widgets/base",
            "_view_module_version": "1.2.0",
            "_view_name": "LayoutView",
            "align_content": null,
            "align_items": null,
            "align_self": null,
            "border": null,
            "bottom": null,
            "display": null,
            "flex": null,
            "flex_flow": null,
            "grid_area": null,
            "grid_auto_columns": null,
            "grid_auto_flow": null,
            "grid_auto_rows": null,
            "grid_column": null,
            "grid_gap": null,
            "grid_row": null,
            "grid_template_areas": null,
            "grid_template_columns": null,
            "grid_template_rows": null,
            "height": null,
            "justify_content": null,
            "justify_items": null,
            "left": null,
            "margin": null,
            "max_height": null,
            "max_width": null,
            "min_height": null,
            "min_width": null,
            "object_fit": null,
            "object_position": null,
            "order": null,
            "overflow": null,
            "overflow_x": null,
            "overflow_y": null,
            "padding": null,
            "right": null,
            "top": null,
            "visibility": null,
            "width": null
          }
        },
        "caaa96090da54f84be4c9653cb731efa": {
          "model_module": "@jupyter-widgets/controls",
          "model_name": "ProgressStyleModel",
          "model_module_version": "1.5.0",
          "state": {
            "_model_module": "@jupyter-widgets/controls",
            "_model_module_version": "1.5.0",
            "_model_name": "ProgressStyleModel",
            "_view_count": null,
            "_view_module": "@jupyter-widgets/base",
            "_view_module_version": "1.2.0",
            "_view_name": "StyleView",
            "bar_color": null,
            "description_width": ""
          }
        },
        "9b32d9bfda6547e5a01a6c74a9d48523": {
          "model_module": "@jupyter-widgets/base",
          "model_name": "LayoutModel",
          "model_module_version": "1.2.0",
          "state": {
            "_model_module": "@jupyter-widgets/base",
            "_model_module_version": "1.2.0",
            "_model_name": "LayoutModel",
            "_view_count": null,
            "_view_module": "@jupyter-widgets/base",
            "_view_module_version": "1.2.0",
            "_view_name": "LayoutView",
            "align_content": null,
            "align_items": null,
            "align_self": null,
            "border": null,
            "bottom": null,
            "display": null,
            "flex": null,
            "flex_flow": null,
            "grid_area": null,
            "grid_auto_columns": null,
            "grid_auto_flow": null,
            "grid_auto_rows": null,
            "grid_column": null,
            "grid_gap": null,
            "grid_row": null,
            "grid_template_areas": null,
            "grid_template_columns": null,
            "grid_template_rows": null,
            "height": null,
            "justify_content": null,
            "justify_items": null,
            "left": null,
            "margin": null,
            "max_height": null,
            "max_width": null,
            "min_height": null,
            "min_width": null,
            "object_fit": null,
            "object_position": null,
            "order": null,
            "overflow": null,
            "overflow_x": null,
            "overflow_y": null,
            "padding": null,
            "right": null,
            "top": null,
            "visibility": null,
            "width": null
          }
        },
        "04f1876b589f4882b7d4ae1e17fe26fd": {
          "model_module": "@jupyter-widgets/controls",
          "model_name": "DescriptionStyleModel",
          "model_module_version": "1.5.0",
          "state": {
            "_model_module": "@jupyter-widgets/controls",
            "_model_module_version": "1.5.0",
            "_model_name": "DescriptionStyleModel",
            "_view_count": null,
            "_view_module": "@jupyter-widgets/base",
            "_view_module_version": "1.2.0",
            "_view_name": "StyleView",
            "description_width": ""
          }
        },
        "8f77769b6bd44a1a9e9fecbdba4d908f": {
          "model_module": "@jupyter-widgets/controls",
          "model_name": "HBoxModel",
          "model_module_version": "1.5.0",
          "state": {
            "_dom_classes": [],
            "_model_module": "@jupyter-widgets/controls",
            "_model_module_version": "1.5.0",
            "_model_name": "HBoxModel",
            "_view_count": null,
            "_view_module": "@jupyter-widgets/controls",
            "_view_module_version": "1.5.0",
            "_view_name": "HBoxView",
            "box_style": "",
            "children": [
              "IPY_MODEL_7dd6c769ebc74378880b4f5477db661b",
              "IPY_MODEL_2a024b5d535d49d0839570738647bc2b",
              "IPY_MODEL_3e65cc0d98b74fb49cae28fd304ed05c"
            ],
            "layout": "IPY_MODEL_31c69b695a634d0a81a76a256f797dcf"
          }
        },
        "7dd6c769ebc74378880b4f5477db661b": {
          "model_module": "@jupyter-widgets/controls",
          "model_name": "HTMLModel",
          "model_module_version": "1.5.0",
          "state": {
            "_dom_classes": [],
            "_model_module": "@jupyter-widgets/controls",
            "_model_module_version": "1.5.0",
            "_model_name": "HTMLModel",
            "_view_count": null,
            "_view_module": "@jupyter-widgets/controls",
            "_view_module_version": "1.5.0",
            "_view_name": "HTMLView",
            "description": "",
            "description_tooltip": null,
            "layout": "IPY_MODEL_716602e6441e46e782f8ac09bd2b9f19",
            "placeholder": "​",
            "style": "IPY_MODEL_b656d1679c614da388d8525d0402958e",
            "value": "Generating validation split: 100%"
          }
        },
        "2a024b5d535d49d0839570738647bc2b": {
          "model_module": "@jupyter-widgets/controls",
          "model_name": "FloatProgressModel",
          "model_module_version": "1.5.0",
          "state": {
            "_dom_classes": [],
            "_model_module": "@jupyter-widgets/controls",
            "_model_module_version": "1.5.0",
            "_model_name": "FloatProgressModel",
            "_view_count": null,
            "_view_module": "@jupyter-widgets/controls",
            "_view_module_version": "1.5.0",
            "_view_name": "ProgressView",
            "bar_style": "success",
            "description": "",
            "description_tooltip": null,
            "layout": "IPY_MODEL_ec7efe67c4854b809425c1a317af68da",
            "max": 3270,
            "min": 0,
            "orientation": "horizontal",
            "style": "IPY_MODEL_f220813217aa4acb9737a60ecafe9a56",
            "value": 3270
          }
        },
        "3e65cc0d98b74fb49cae28fd304ed05c": {
          "model_module": "@jupyter-widgets/controls",
          "model_name": "HTMLModel",
          "model_module_version": "1.5.0",
          "state": {
            "_dom_classes": [],
            "_model_module": "@jupyter-widgets/controls",
            "_model_module_version": "1.5.0",
            "_model_name": "HTMLModel",
            "_view_count": null,
            "_view_module": "@jupyter-widgets/controls",
            "_view_module_version": "1.5.0",
            "_view_name": "HTMLView",
            "description": "",
            "description_tooltip": null,
            "layout": "IPY_MODEL_ac1e50a83bcc439cb5ba6b3625709dff",
            "placeholder": "​",
            "style": "IPY_MODEL_ebc241dd67bf44c89d9769275bdf611b",
            "value": " 3270/3270 [00:00&lt;00:00, 121915.52 examples/s]"
          }
        },
        "31c69b695a634d0a81a76a256f797dcf": {
          "model_module": "@jupyter-widgets/base",
          "model_name": "LayoutModel",
          "model_module_version": "1.2.0",
          "state": {
            "_model_module": "@jupyter-widgets/base",
            "_model_module_version": "1.2.0",
            "_model_name": "LayoutModel",
            "_view_count": null,
            "_view_module": "@jupyter-widgets/base",
            "_view_module_version": "1.2.0",
            "_view_name": "LayoutView",
            "align_content": null,
            "align_items": null,
            "align_self": null,
            "border": null,
            "bottom": null,
            "display": null,
            "flex": null,
            "flex_flow": null,
            "grid_area": null,
            "grid_auto_columns": null,
            "grid_auto_flow": null,
            "grid_auto_rows": null,
            "grid_column": null,
            "grid_gap": null,
            "grid_row": null,
            "grid_template_areas": null,
            "grid_template_columns": null,
            "grid_template_rows": null,
            "height": null,
            "justify_content": null,
            "justify_items": null,
            "left": null,
            "margin": null,
            "max_height": null,
            "max_width": null,
            "min_height": null,
            "min_width": null,
            "object_fit": null,
            "object_position": null,
            "order": null,
            "overflow": null,
            "overflow_x": null,
            "overflow_y": null,
            "padding": null,
            "right": null,
            "top": null,
            "visibility": null,
            "width": null
          }
        },
        "716602e6441e46e782f8ac09bd2b9f19": {
          "model_module": "@jupyter-widgets/base",
          "model_name": "LayoutModel",
          "model_module_version": "1.2.0",
          "state": {
            "_model_module": "@jupyter-widgets/base",
            "_model_module_version": "1.2.0",
            "_model_name": "LayoutModel",
            "_view_count": null,
            "_view_module": "@jupyter-widgets/base",
            "_view_module_version": "1.2.0",
            "_view_name": "LayoutView",
            "align_content": null,
            "align_items": null,
            "align_self": null,
            "border": null,
            "bottom": null,
            "display": null,
            "flex": null,
            "flex_flow": null,
            "grid_area": null,
            "grid_auto_columns": null,
            "grid_auto_flow": null,
            "grid_auto_rows": null,
            "grid_column": null,
            "grid_gap": null,
            "grid_row": null,
            "grid_template_areas": null,
            "grid_template_columns": null,
            "grid_template_rows": null,
            "height": null,
            "justify_content": null,
            "justify_items": null,
            "left": null,
            "margin": null,
            "max_height": null,
            "max_width": null,
            "min_height": null,
            "min_width": null,
            "object_fit": null,
            "object_position": null,
            "order": null,
            "overflow": null,
            "overflow_x": null,
            "overflow_y": null,
            "padding": null,
            "right": null,
            "top": null,
            "visibility": null,
            "width": null
          }
        },
        "b656d1679c614da388d8525d0402958e": {
          "model_module": "@jupyter-widgets/controls",
          "model_name": "DescriptionStyleModel",
          "model_module_version": "1.5.0",
          "state": {
            "_model_module": "@jupyter-widgets/controls",
            "_model_module_version": "1.5.0",
            "_model_name": "DescriptionStyleModel",
            "_view_count": null,
            "_view_module": "@jupyter-widgets/base",
            "_view_module_version": "1.2.0",
            "_view_name": "StyleView",
            "description_width": ""
          }
        },
        "ec7efe67c4854b809425c1a317af68da": {
          "model_module": "@jupyter-widgets/base",
          "model_name": "LayoutModel",
          "model_module_version": "1.2.0",
          "state": {
            "_model_module": "@jupyter-widgets/base",
            "_model_module_version": "1.2.0",
            "_model_name": "LayoutModel",
            "_view_count": null,
            "_view_module": "@jupyter-widgets/base",
            "_view_module_version": "1.2.0",
            "_view_name": "LayoutView",
            "align_content": null,
            "align_items": null,
            "align_self": null,
            "border": null,
            "bottom": null,
            "display": null,
            "flex": null,
            "flex_flow": null,
            "grid_area": null,
            "grid_auto_columns": null,
            "grid_auto_flow": null,
            "grid_auto_rows": null,
            "grid_column": null,
            "grid_gap": null,
            "grid_row": null,
            "grid_template_areas": null,
            "grid_template_columns": null,
            "grid_template_rows": null,
            "height": null,
            "justify_content": null,
            "justify_items": null,
            "left": null,
            "margin": null,
            "max_height": null,
            "max_width": null,
            "min_height": null,
            "min_width": null,
            "object_fit": null,
            "object_position": null,
            "order": null,
            "overflow": null,
            "overflow_x": null,
            "overflow_y": null,
            "padding": null,
            "right": null,
            "top": null,
            "visibility": null,
            "width": null
          }
        },
        "f220813217aa4acb9737a60ecafe9a56": {
          "model_module": "@jupyter-widgets/controls",
          "model_name": "ProgressStyleModel",
          "model_module_version": "1.5.0",
          "state": {
            "_model_module": "@jupyter-widgets/controls",
            "_model_module_version": "1.5.0",
            "_model_name": "ProgressStyleModel",
            "_view_count": null,
            "_view_module": "@jupyter-widgets/base",
            "_view_module_version": "1.2.0",
            "_view_name": "StyleView",
            "bar_color": null,
            "description_width": ""
          }
        },
        "ac1e50a83bcc439cb5ba6b3625709dff": {
          "model_module": "@jupyter-widgets/base",
          "model_name": "LayoutModel",
          "model_module_version": "1.2.0",
          "state": {
            "_model_module": "@jupyter-widgets/base",
            "_model_module_version": "1.2.0",
            "_model_name": "LayoutModel",
            "_view_count": null,
            "_view_module": "@jupyter-widgets/base",
            "_view_module_version": "1.2.0",
            "_view_name": "LayoutView",
            "align_content": null,
            "align_items": null,
            "align_self": null,
            "border": null,
            "bottom": null,
            "display": null,
            "flex": null,
            "flex_flow": null,
            "grid_area": null,
            "grid_auto_columns": null,
            "grid_auto_flow": null,
            "grid_auto_rows": null,
            "grid_column": null,
            "grid_gap": null,
            "grid_row": null,
            "grid_template_areas": null,
            "grid_template_columns": null,
            "grid_template_rows": null,
            "height": null,
            "justify_content": null,
            "justify_items": null,
            "left": null,
            "margin": null,
            "max_height": null,
            "max_width": null,
            "min_height": null,
            "min_width": null,
            "object_fit": null,
            "object_position": null,
            "order": null,
            "overflow": null,
            "overflow_x": null,
            "overflow_y": null,
            "padding": null,
            "right": null,
            "top": null,
            "visibility": null,
            "width": null
          }
        },
        "ebc241dd67bf44c89d9769275bdf611b": {
          "model_module": "@jupyter-widgets/controls",
          "model_name": "DescriptionStyleModel",
          "model_module_version": "1.5.0",
          "state": {
            "_model_module": "@jupyter-widgets/controls",
            "_model_module_version": "1.5.0",
            "_model_name": "DescriptionStyleModel",
            "_view_count": null,
            "_view_module": "@jupyter-widgets/base",
            "_view_module_version": "1.2.0",
            "_view_name": "StyleView",
            "description_width": ""
          }
        }
      }
    }
  },
  "nbformat": 4,
  "nbformat_minor": 5
}